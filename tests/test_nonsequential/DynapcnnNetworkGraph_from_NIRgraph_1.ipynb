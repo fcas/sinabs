{
 "cells": [
  {
   "cell_type": "code",
   "execution_count": 1,
   "metadata": {},
   "outputs": [],
   "source": [
    "import torch\n",
    "import torch.nn as nn\n",
    "import networkx as nx\n",
    "import matplotlib.pyplot as plt\n",
    "from sinabs.from_torch import from_model\n",
    "from sinabs.backend.dynapcnn import DynapcnnNetwork, DynapcnnNetworkGraph\n",
    "import sinabs as snb"
   ]
  },
  {
   "cell_type": "code",
   "execution_count": 2,
   "metadata": {},
   "outputs": [
    {
     "data": {
      "text/plain": [
       "<torch._C.Generator at 0x7f3ab439cc90>"
      ]
     },
     "execution_count": 2,
     "metadata": {},
     "output_type": "execute_result"
    }
   ],
   "source": [
    "torch.manual_seed(0)"
   ]
  },
  {
   "cell_type": "code",
   "execution_count": 3,
   "metadata": {},
   "outputs": [],
   "source": [
    "channels = 1\n",
    "height = 28\n",
    "width = 28\n",
    "\n",
    "input_shape = (channels, height, width)"
   ]
  },
  {
   "cell_type": "markdown",
   "metadata": {},
   "source": [
    "## Network Module (pure Pytorch)"
   ]
  },
  {
   "cell_type": "code",
   "execution_count": 4,
   "metadata": {},
   "outputs": [],
   "source": [
    "ann = nn.Sequential(\n",
    "    nn.Conv2d(1, 20, 5, 1, bias=False),\n",
    "    nn.ReLU(),\n",
    "    nn.AvgPool2d(2,2),\n",
    "    nn.Conv2d(20, 32, 5, 1, bias=False),\n",
    "    nn.ReLU(),\n",
    "    nn.AvgPool2d(2,2),\n",
    "    nn.Conv2d(32, 128, 3, 1, bias=False),\n",
    "    nn.ReLU(),\n",
    "    nn.AvgPool2d(2,2),\n",
    "    nn.Flatten(),\n",
    "    nn.Linear(128, 500, bias=False),\n",
    "    nn.ReLU(),\n",
    "    nn.Linear(500, 10, bias=False),\n",
    ")"
   ]
  },
  {
   "cell_type": "markdown",
   "metadata": {},
   "source": [
    "## Sinabs Model"
   ]
  },
  {
   "cell_type": "code",
   "execution_count": 5,
   "metadata": {},
   "outputs": [],
   "source": [
    "sinabs_model = from_model(ann, add_spiking_output=True, batch_size=1)"
   ]
  },
  {
   "cell_type": "markdown",
   "metadata": {},
   "source": [
    "## DynapCNN Model"
   ]
  },
  {
   "cell_type": "code",
   "execution_count": 6,
   "metadata": {},
   "outputs": [
    {
     "name": "stdout",
     "output_type": "stream",
     "text": [
      ">>>>  0\n",
      ">>>>  1\n",
      ">>>>  2\n",
      ">>>>  3\n",
      ">>>>  4\n",
      ">>>>  5\n",
      ">>>>  6\n",
      ">>>>  7\n",
      ">>>>  8\n",
      ">>>>  9\n",
      ">>>>  10\n",
      ">>>>  11\n",
      ">>>>  12\n",
      ">>>>  spike_output\n",
      "```mermaid\n",
      "graph TD;\n",
      "0 --> 1;\n",
      "1 --> 2;\n",
      "2 --> 3;\n",
      "3 --> 4;\n",
      "4 --> 5;\n",
      "5 --> 6;\n",
      "6 --> 7;\n",
      "7 --> 8;\n",
      "8 --> 9;\n",
      "9 --> 10;\n",
      "10 --> 11;\n",
      "11 --> 12;\n",
      "12 --> spike_output;\n",
      "spike_output;\n",
      "\n",
      "```\n",
      "\n"
     ]
    },
    {
     "ename": "KeyError",
     "evalue": "13",
     "output_type": "error",
     "traceback": [
      "\u001b[0;31m---------------------------------------------------------------------------\u001b[0m",
      "\u001b[0;31mKeyError\u001b[0m                                  Traceback (most recent call last)",
      "Cell \u001b[0;32mIn[6], line 1\u001b[0m\n\u001b[0;32m----> 1\u001b[0m hw_model \u001b[38;5;241m=\u001b[39m DynapcnnNetworkGraph(\n\u001b[1;32m      2\u001b[0m     sinabs_model,\n\u001b[1;32m      3\u001b[0m     discretize\u001b[38;5;241m=\u001b[39m\u001b[38;5;28;01mTrue\u001b[39;00m,\n\u001b[1;32m      4\u001b[0m     input_shape\u001b[38;5;241m=\u001b[39minput_shape\n\u001b[1;32m      5\u001b[0m )\n",
      "File \u001b[0;32m~/Documents/github/sinabs/sinabs/backend/dynapcnn/dynapcnn_network_graph.py:80\u001b[0m, in \u001b[0;36mDynapcnnNetworkGraph.__init__\u001b[0;34m(self, snn, input_shape, dvs_input, discretize)\u001b[0m\n\u001b[1;32m     72\u001b[0m \u001b[38;5;28mself\u001b[39m\u001b[38;5;241m.\u001b[39mgraph_tracer \u001b[38;5;241m=\u001b[39m NIRtoDynapcnnNetworkGraph(              \u001b[38;5;66;03m# computational graph from original PyTorch module.\u001b[39;00m\n\u001b[1;32m     73\u001b[0m     snn\u001b[38;5;241m.\u001b[39mspiking_model,\n\u001b[1;32m     74\u001b[0m     torch\u001b[38;5;241m.\u001b[39mrandn((\u001b[38;5;241m1\u001b[39m, \u001b[38;5;241m*\u001b[39m\u001b[38;5;28mself\u001b[39m\u001b[38;5;241m.\u001b[39minput_shape)))                    \u001b[38;5;66;03m# needs the batch dimension.        \u001b[39;00m\n\u001b[1;32m     76\u001b[0m \u001b[38;5;28mself\u001b[39m\u001b[38;5;241m.\u001b[39msinabs_edges, \u001b[38;5;28mself\u001b[39m\u001b[38;5;241m.\u001b[39msinabs_modules_map, \u001b[38;5;28mself\u001b[39m\u001b[38;5;241m.\u001b[39mmerge_nodes \u001b[38;5;241m=\u001b[39m \u001b[38;5;28mself\u001b[39m\u001b[38;5;241m.\u001b[39mget_sinabs_edges_and_modules(snn)\n\u001b[1;32m     78\u001b[0m \u001b[38;5;28mself\u001b[39m\u001b[38;5;241m.\u001b[39mdynapcnn_layers, \\\n\u001b[1;32m     79\u001b[0m     \u001b[38;5;28mself\u001b[39m\u001b[38;5;241m.\u001b[39mnodes_to_dcnnl_map, \\\n\u001b[0;32m---> 80\u001b[0m         \u001b[38;5;28mself\u001b[39m\u001b[38;5;241m.\u001b[39mdcnnl_to_dcnnl_map \u001b[38;5;241m=\u001b[39m build_from_graph(         \u001b[38;5;66;03m# build model from graph edges.\u001b[39;00m\n\u001b[1;32m     81\u001b[0m     discretize\u001b[38;5;241m=\u001b[39mdiscretize,\n\u001b[1;32m     82\u001b[0m     layers\u001b[38;5;241m=\u001b[39m\u001b[38;5;28mself\u001b[39m\u001b[38;5;241m.\u001b[39msinabs_modules_map, \n\u001b[1;32m     83\u001b[0m     in_shape\u001b[38;5;241m=\u001b[39m\u001b[38;5;28mself\u001b[39m\u001b[38;5;241m.\u001b[39minput_shape,\n\u001b[1;32m     84\u001b[0m     edges\u001b[38;5;241m=\u001b[39m\u001b[38;5;28mself\u001b[39m\u001b[38;5;241m.\u001b[39msinabs_edges,\n\u001b[1;32m     85\u001b[0m     merge_nodes\u001b[38;5;241m=\u001b[39m\u001b[38;5;28mself\u001b[39m\u001b[38;5;241m.\u001b[39mmerge_nodes)\n",
      "File \u001b[0;32m~/Documents/github/sinabs/sinabs/backend/dynapcnn/utils.py:595\u001b[0m, in \u001b[0;36mbuild_from_graph\u001b[0;34m(discretize, layers, in_shape, edges, merge_nodes)\u001b[0m\n\u001b[1;32m    593\u001b[0m \u001b[38;5;28;01melse\u001b[39;00m:\n\u001b[1;32m    594\u001b[0m     \u001b[38;5;28;01mfor\u001b[39;00m edge \u001b[38;5;129;01min\u001b[39;00m edges:\n\u001b[0;32m--> 595\u001b[0m         process_edge(                       \u001b[38;5;66;03m# figure out to which (future) DynapcnnLayer each node will belong to.\u001b[39;00m\n\u001b[1;32m    596\u001b[0m             layers, edge, nodes_to_dcnnl_map)\n\u001b[1;32m    598\u001b[0m \u001b[38;5;66;03m# look for edges between connecting nodes in different (future) DynapcnnLayer.\u001b[39;00m\n\u001b[1;32m    599\u001b[0m dcnnl_to_dcnnl_map \u001b[38;5;241m=\u001b[39m get_dynapcnnlayers_destinations(layers, edges, nodes_to_dcnnl_map)\n",
      "File \u001b[0;32m~/Documents/github/sinabs/sinabs/backend/dynapcnn/sinabs_edges_handler.py:22\u001b[0m, in \u001b[0;36mprocess_edge\u001b[0;34m(layers, edge, mapper)\u001b[0m\n\u001b[1;32m     11\u001b[0m \u001b[38;5;28;01mdef\u001b[39;00m \u001b[38;5;21mprocess_edge\u001b[39m(layers: Dict[\u001b[38;5;28mint\u001b[39m, nn\u001b[38;5;241m.\u001b[39mModule], edge: Tuple[\u001b[38;5;28mint\u001b[39m, \u001b[38;5;28mint\u001b[39m], mapper: \u001b[38;5;28mdict\u001b[39m) \u001b[38;5;241m-\u001b[39m\u001b[38;5;241m>\u001b[39m \u001b[38;5;28;01mNone\u001b[39;00m:\n\u001b[1;32m     12\u001b[0m \u001b[38;5;250m    \u001b[39m\u001b[38;5;124;03m\"\"\" Read in an edge describing the connection between two layers (nodes in the computational graph). If 'edge'\u001b[39;00m\n\u001b[1;32m     13\u001b[0m \u001b[38;5;124;03m    is a valid connection between two layers, update 'mapper' to incorporate these layers into a new or existing dictonary\u001b[39;00m\n\u001b[1;32m     14\u001b[0m \u001b[38;5;124;03m    containing the modules comprising a future DynacnnLayer object.\u001b[39;00m\n\u001b[0;32m   (...)\u001b[0m\n\u001b[1;32m     20\u001b[0m \u001b[38;5;124;03m        mapper  : dictionary where each 'key' is the index of a future 'DynapcnnLayer' and 'value' is a dictionary ('key': node, 'value': module).\u001b[39;00m\n\u001b[1;32m     21\u001b[0m \u001b[38;5;124;03m    \"\"\"\u001b[39;00m\n\u001b[0;32m---> 22\u001b[0m     edge_type \u001b[38;5;241m=\u001b[39m is_valid_edge(edge, layers, VALID_SINABS_EDGES)\n\u001b[1;32m     24\u001b[0m     \u001b[38;5;28;01mif\u001b[39;00m \u001b[38;5;28misinstance\u001b[39m(edge_type, \u001b[38;5;28mint\u001b[39m):                                  \u001b[38;5;66;03m# incorporate modules within the edge to a dict representing a future DynapcnnLayer.\u001b[39;00m\n\u001b[1;32m     25\u001b[0m         update_dynapcnnlayer_mapper(edge_type, edge, mapper, layers)\n",
      "File \u001b[0;32m~/Documents/github/sinabs/sinabs/backend/dynapcnn/sinabs_edges_handler.py:41\u001b[0m, in \u001b[0;36mis_valid_edge\u001b[0;34m(edge, layers, valid_edges_map)\u001b[0m\n\u001b[1;32m     29\u001b[0m \u001b[38;5;28;01mdef\u001b[39;00m \u001b[38;5;21mis_valid_edge\u001b[39m(edge: Tuple[\u001b[38;5;28mint\u001b[39m, \u001b[38;5;28mint\u001b[39m], layers: Dict[\u001b[38;5;28mint\u001b[39m, nn\u001b[38;5;241m.\u001b[39mModule], valid_edges_map: \u001b[38;5;28mdict\u001b[39m) \u001b[38;5;241m-\u001b[39m\u001b[38;5;241m>\u001b[39m \u001b[38;5;28mint\u001b[39m:\n\u001b[1;32m     30\u001b[0m \u001b[38;5;250m    \u001b[39m\u001b[38;5;124;03m\"\"\" Checks if the modules each node in 'edge' represent are a valid connection between a sinabs network to be \u001b[39;00m\n\u001b[1;32m     31\u001b[0m \u001b[38;5;124;03m    loaded on Speck.\u001b[39;00m\n\u001b[1;32m     32\u001b[0m \n\u001b[0;32m   (...)\u001b[0m\n\u001b[1;32m     39\u001b[0m \u001b[38;5;124;03m        edge_type: the edge type specified in 'valid_edges_map' ('None' if edge is not valid).\u001b[39;00m\n\u001b[1;32m     40\u001b[0m \u001b[38;5;124;03m    \"\"\"\u001b[39;00m\n\u001b[0;32m---> 41\u001b[0m     edge_layers \u001b[38;5;241m=\u001b[39m (layers[edge[\u001b[38;5;241m0\u001b[39m]], layers[edge[\u001b[38;5;241m1\u001b[39m]])\n\u001b[1;32m     42\u001b[0m     \u001b[38;5;28;01mfor\u001b[39;00m edge_type, sinabs_edge \u001b[38;5;129;01min\u001b[39;00m valid_edges_map\u001b[38;5;241m.\u001b[39mitems():\n\u001b[1;32m     43\u001b[0m         \u001b[38;5;28;01mif\u001b[39;00m (\u001b[38;5;28mtype\u001b[39m(edge_layers[\u001b[38;5;241m0\u001b[39m]) \u001b[38;5;241m==\u001b[39m sinabs_edge[\u001b[38;5;241m0\u001b[39m]) \u001b[38;5;129;01mand\u001b[39;00m (\u001b[38;5;28mtype\u001b[39m(edge_layers[\u001b[38;5;241m1\u001b[39m]) \u001b[38;5;241m==\u001b[39m sinabs_edge[\u001b[38;5;241m1\u001b[39m]):\n",
      "\u001b[0;31mKeyError\u001b[0m: 13"
     ]
    }
   ],
   "source": [
    "hw_model = DynapcnnNetworkGraph(\n",
    "    sinabs_model,\n",
    "    discretize=True,\n",
    "    input_shape=input_shape\n",
    ")"
   ]
  },
  {
   "cell_type": "code",
   "execution_count": null,
   "metadata": {},
   "outputs": [
    {
     "name": "stdout",
     "output_type": "stream",
     "text": [
      "Network is valid\n"
     ]
    },
    {
     "data": {
      "text/plain": [
       "DynapcnnNetworkGraph()"
      ]
     },
     "execution_count": 7,
     "metadata": {},
     "output_type": "execute_result"
    }
   ],
   "source": [
    "hw_model.to(device=\"speck2edevkit:0\")"
   ]
  },
  {
   "cell_type": "code",
   "execution_count": null,
   "metadata": {},
   "outputs": [
    {
     "name": "stdout",
     "output_type": "stream",
     "text": [
      "\n",
      "layer index: 0\n",
      "layer modules: DynapcnnLayer(\n",
      "  (conv_layer): Conv2d(1, 20, kernel_size=(5, 5), stride=(1, 1), bias=False)\n",
      "  (spk_layer): IAFSqueeze(spike_threshold=Parameter containing:\n",
      "  tensor(635.), min_v_mem=Parameter containing:\n",
      "  tensor(-635.), batch_size=1, num_timesteps=-1)\n",
      "  (pool_layer): SumPool2d(norm_type=1, kernel_size=(2, 2), stride=None, ceil_mode=False)\n",
      ")\n",
      "layer destinations: [1]\n",
      "assigned core: 0\n",
      "\n",
      "layer index: 1\n",
      "layer modules: DynapcnnLayer(\n",
      "  (conv_layer): Conv2d(20, 32, kernel_size=(5, 5), stride=(1, 1), bias=False)\n",
      "  (spk_layer): IAFSqueeze(spike_threshold=Parameter containing:\n",
      "  tensor(11361.), min_v_mem=Parameter containing:\n",
      "  tensor(-11361.), batch_size=1, num_timesteps=-1)\n",
      "  (pool_layer): SumPool2d(norm_type=1, kernel_size=(2, 2), stride=None, ceil_mode=False)\n",
      ")\n",
      "layer destinations: [2]\n",
      "assigned core: 3\n",
      "\n",
      "layer index: 2\n",
      "layer modules: DynapcnnLayer(\n",
      "  (conv_layer): Conv2d(32, 128, kernel_size=(3, 3), stride=(1, 1), bias=False)\n",
      "  (spk_layer): IAFSqueeze(spike_threshold=Parameter containing:\n",
      "  tensor(8621.), min_v_mem=Parameter containing:\n",
      "  tensor(-8621.), batch_size=1, num_timesteps=-1)\n",
      "  (pool_layer): SumPool2d(norm_type=1, kernel_size=(2, 2), stride=None, ceil_mode=False)\n",
      ")\n",
      "layer destinations: [3]\n",
      "assigned core: 5\n",
      "\n",
      "layer index: 3\n",
      "layer modules: DynapcnnLayer(\n",
      "  (conv_layer): Conv2d(128, 500, kernel_size=(1, 1), stride=(1, 1), bias=False)\n",
      "  (spk_layer): IAFSqueeze(spike_threshold=Parameter containing:\n",
      "  tensor(5747.), min_v_mem=Parameter containing:\n",
      "  tensor(-5747.), batch_size=1, num_timesteps=-1)\n",
      ")\n",
      "layer destinations: [4]\n",
      "assigned core: 6\n",
      "\n",
      "layer index: 4\n",
      "layer modules: DynapcnnLayer(\n",
      "  (conv_layer): Conv2d(500, 10, kernel_size=(1, 1), stride=(1, 1), bias=False)\n",
      "  (spk_layer): IAFSqueeze(spike_threshold=Parameter containing:\n",
      "  tensor(2841.), min_v_mem=Parameter containing:\n",
      "  tensor(-2841.), batch_size=1, num_timesteps=-1)\n",
      ")\n",
      "layer destinations: []\n",
      "assigned core: 1\n",
      "\n"
     ]
    }
   ],
   "source": [
    "print(hw_model)"
   ]
  }
 ],
 "metadata": {
  "kernelspec": {
   "display_name": "speck-rescnn",
   "language": "python",
   "name": "python3"
  },
  "language_info": {
   "codemirror_mode": {
    "name": "ipython",
    "version": 3
   },
   "file_extension": ".py",
   "mimetype": "text/x-python",
   "name": "python",
   "nbconvert_exporter": "python",
   "pygments_lexer": "ipython3",
   "version": "3.11.3"
  }
 },
 "nbformat": 4,
 "nbformat_minor": 2
}

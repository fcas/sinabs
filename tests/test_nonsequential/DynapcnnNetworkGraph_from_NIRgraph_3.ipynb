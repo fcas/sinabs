{
 "cells": [
  {
   "cell_type": "code",
   "execution_count": 1,
   "metadata": {},
   "outputs": [],
   "source": [
    "import torch\n",
    "import torch.nn as nn\n",
    "from sinabs.from_torch import from_model\n",
    "from sinabs.backend.dynapcnn import DynapcnnNetworkGraph\n",
    "from sinabs.layers import Merge, IAFSqueeze"
   ]
  },
  {
   "cell_type": "code",
   "execution_count": 2,
   "metadata": {},
   "outputs": [
    {
     "data": {
      "text/plain": [
       "<torch._C.Generator at 0x7fc9fab4cc90>"
      ]
     },
     "execution_count": 2,
     "metadata": {},
     "output_type": "execute_result"
    }
   ],
   "source": [
    "torch.manual_seed(0)"
   ]
  },
  {
   "cell_type": "code",
   "execution_count": 3,
   "metadata": {},
   "outputs": [],
   "source": [
    "channels = 1\n",
    "height = 28\n",
    "width = 28\n",
    "\n",
    "input_shape = (channels, height, width)"
   ]
  },
  {
   "cell_type": "markdown",
   "metadata": {},
   "source": [
    "## Network Module (pure Pytorch)"
   ]
  },
  {
   "cell_type": "code",
   "execution_count": 4,
   "metadata": {},
   "outputs": [],
   "source": [
    "class SNN(nn.Module):\n",
    "    def __init__(self) -> None:\n",
    "        super().__init__()\n",
    "\n",
    "        self.conv1 = nn.Conv2d(1, 20, 5, 1, bias=False)\n",
    "        self.iaf1 = IAFSqueeze(batch_size=1)\n",
    "        self.pool1 = nn.AvgPool2d(2,2)\n",
    "\n",
    "        self.conv2 = nn.Conv2d(20, 32, 5, 1, bias=False)\n",
    "        self.iaf2 = IAFSqueeze(batch_size=1)\n",
    "        self.pool2 = nn.AvgPool2d(2,2)\n",
    "\n",
    "        self.conv3 = nn.Conv2d(32, 2, 3, 1, bias=False)\n",
    "        self.iaf3 = IAFSqueeze(batch_size=1)\n",
    "        self.pool3 = nn.AvgPool2d(2,2)\n",
    "\n",
    "        self.flat = nn.Flatten()\n",
    "\n",
    "        self.fc1 = nn.Linear(242, 500, bias=False)\n",
    "        self.iaf4 = IAFSqueeze(batch_size=1)\n",
    "        self.fc2 = nn.Linear(500, 10, bias=False)\n",
    "        self.iaf5 = IAFSqueeze(batch_size=1)\n",
    "\n",
    "        self.adder = Merge()\n",
    "\n",
    "    def forward(self, x):\n",
    "        \n",
    "        con1_out = self.conv1(x)\n",
    "        iaf1_out = self.iaf1(con1_out)\n",
    "        pool1_out = self.pool1(iaf1_out)\n",
    "\n",
    "        conv2_out = self.conv2(pool1_out)\n",
    "        iaf2_out = self.iaf2(conv2_out)\n",
    "        pool2_out = self.pool2(iaf2_out)\n",
    "\n",
    "        conv3_out = self.conv3(self.adder(iaf1_out, pool2_out))\n",
    "        iaf3_out = self.iaf3(conv3_out)\n",
    "        pool3_out = self.pool3(iaf3_out)\n",
    "\n",
    "        flat_out = self.flat(pool3_out)\n",
    "        \n",
    "        fc1_out = self.fc1(flat_out)\n",
    "        iaf4_out = self.iaf4(fc1_out)\n",
    "        fc2_out = self.fc2(iaf4_out)\n",
    "        iaf5_out = self.iaf5(fc2_out)\n",
    "\n",
    "        return iaf5_out"
   ]
  },
  {
   "cell_type": "code",
   "execution_count": 5,
   "metadata": {},
   "outputs": [],
   "source": [
    "snn = SNN()"
   ]
  },
  {
   "cell_type": "code",
   "execution_count": 6,
   "metadata": {},
   "outputs": [
    {
     "name": "stdout",
     "output_type": "stream",
     "text": [
      "iaf1_out:  torch.Size([1, 20, 24, 24])\n",
      "pool2_out:  torch.Size([1, 32, 4, 4])\n",
      "added:  torch.Size([1, 32, 24, 24])\n",
      "pool3_out:  torch.Size([1, 2, 11, 11])\n",
      "flat_out:  torch.Size([1, 242])\n"
     ]
    }
   ],
   "source": [
    "x = torch.randn((1, *input_shape))\n",
    "\n",
    "con1_out = snn.conv1(x)\n",
    "iaf1_out = snn.iaf1(con1_out)\n",
    "print('iaf1_out: ', iaf1_out.shape)\n",
    "pool1_out = snn.pool1(iaf1_out)\n",
    "\n",
    "conv2_out = snn.conv2(pool1_out)\n",
    "iaf2_out = snn.iaf2(conv2_out)\n",
    "pool2_out = snn.pool2(iaf2_out)\n",
    "print('pool2_out: ', pool2_out.shape)\n",
    "\n",
    "added = snn.adder(iaf1_out, pool2_out)\n",
    "print('added: ', added.shape)\n",
    "\n",
    "conv3_out = snn.conv3(added)\n",
    "iaf3_out = snn.iaf3(conv3_out)\n",
    "pool3_out = snn.pool3(iaf3_out)\n",
    "print('pool3_out: ', pool3_out.shape)\n",
    "\n",
    "flat_out = snn.flat(pool3_out)\n",
    "print('flat_out: ', flat_out.shape)\n",
    "\n",
    "fc1_out = snn.fc1(flat_out)\n",
    "iaf4_out = snn.iaf4(fc1_out)\n",
    "fc2_out = snn.fc2(iaf4_out)\n",
    "iaf5_out = snn.iaf5(fc2_out)"
   ]
  },
  {
   "cell_type": "markdown",
   "metadata": {},
   "source": [
    "## DynapCNN Model"
   ]
  },
  {
   "cell_type": "code",
   "execution_count": 7,
   "metadata": {},
   "outputs": [],
   "source": [
    "hw_model = DynapcnnNetworkGraph(\n",
    "    snn,\n",
    "    discretize=True,\n",
    "    input_shape=input_shape\n",
    ")"
   ]
  },
  {
   "cell_type": "code",
   "execution_count": 8,
   "metadata": {},
   "outputs": [
    {
     "name": "stdout",
     "output_type": "stream",
     "text": [
      "\n",
      "layer index: 0\n",
      "layer modules: DynapcnnLayer(\n",
      "  (conv_layer): Conv2d(1, 20, kernel_size=(5, 5), stride=(1, 1), bias=False)\n",
      "  (spk_layer): IAFSqueeze(spike_threshold=Parameter containing:\n",
      "  tensor(1.), min_v_mem=Parameter containing:\n",
      "  tensor(-32768.), batch_size=1, num_timesteps=-1)\n",
      "  (pool_layer): SumPool2d(norm_type=1, kernel_size=(2, 2), stride=None, ceil_mode=False)\n",
      ")\n",
      "layer destinations: [2, 1]\n",
      "assigned core: -1\n",
      "\n",
      "layer index: 1\n",
      "layer modules: DynapcnnLayer(\n",
      "  (conv_layer): Conv2d(20, 32, kernel_size=(5, 5), stride=(1, 1), bias=False)\n",
      "  (spk_layer): IAFSqueeze(spike_threshold=Parameter containing:\n",
      "  tensor(1.), min_v_mem=Parameter containing:\n",
      "  tensor(-32768.), batch_size=1, num_timesteps=-1)\n",
      "  (pool_layer): SumPool2d(norm_type=1, kernel_size=(2, 2), stride=None, ceil_mode=False)\n",
      ")\n",
      "layer destinations: [2]\n",
      "assigned core: -1\n",
      "\n",
      "layer index: 2\n",
      "layer modules: DynapcnnLayer(\n",
      "  (conv_layer): Conv2d(32, 2, kernel_size=(3, 3), stride=(1, 1), bias=False)\n",
      "  (spk_layer): IAFSqueeze(spike_threshold=Parameter containing:\n",
      "  tensor(1.), min_v_mem=Parameter containing:\n",
      "  tensor(-32768.), batch_size=1, num_timesteps=-1)\n",
      "  (pool_layer): SumPool2d(norm_type=1, kernel_size=(2, 2), stride=None, ceil_mode=False)\n",
      ")\n",
      "layer destinations: [3]\n",
      "assigned core: -1\n",
      "\n",
      "layer index: 3\n",
      "layer modules: DynapcnnLayer(\n",
      "  (conv_layer): Conv2d(2, 500, kernel_size=(11, 11), stride=(1, 1), bias=False)\n",
      "  (spk_layer): IAFSqueeze(spike_threshold=Parameter containing:\n",
      "  tensor(1.), min_v_mem=Parameter containing:\n",
      "  tensor(-32768.), batch_size=1, num_timesteps=-1)\n",
      ")\n",
      "layer destinations: [4]\n",
      "assigned core: -1\n",
      "\n",
      "layer index: 4\n",
      "layer modules: DynapcnnLayer(\n",
      "  (conv_layer): Conv2d(500, 10, kernel_size=(1, 1), stride=(1, 1), bias=False)\n",
      "  (spk_layer): IAFSqueeze(spike_threshold=Parameter containing:\n",
      "  tensor(1.), min_v_mem=Parameter containing:\n",
      "  tensor(-32768.), batch_size=1, num_timesteps=-1)\n",
      ")\n",
      "layer destinations: []\n",
      "assigned core: -1\n",
      "\n"
     ]
    }
   ],
   "source": [
    "print(hw_model)"
   ]
  },
  {
   "cell_type": "code",
   "execution_count": null,
   "metadata": {},
   "outputs": [],
   "source": [
    "hw_model.to(device=\"speck2edevkit:0\")"
   ]
  }
 ],
 "metadata": {
  "kernelspec": {
   "display_name": "speck-rescnn",
   "language": "python",
   "name": "python3"
  },
  "language_info": {
   "codemirror_mode": {
    "name": "ipython",
    "version": 3
   },
   "file_extension": ".py",
   "mimetype": "text/x-python",
   "name": "python",
   "nbconvert_exporter": "python",
   "pygments_lexer": "ipython3",
   "version": "3.11.3"
  }
 },
 "nbformat": 4,
 "nbformat_minor": 2
}

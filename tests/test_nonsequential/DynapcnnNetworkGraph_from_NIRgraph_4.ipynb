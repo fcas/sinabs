{
 "cells": [
  {
   "cell_type": "code",
   "execution_count": 1,
   "metadata": {},
   "outputs": [],
   "source": [
    "import torch\n",
    "import torch.nn as nn\n",
    "from sinabs.from_torch import from_model\n",
    "from sinabs.backend.dynapcnn import DynapcnnNetworkGraph\n",
    "from sinabs.layers import Merge, IAFSqueeze"
   ]
  },
  {
   "cell_type": "code",
   "execution_count": 2,
   "metadata": {},
   "outputs": [
    {
     "data": {
      "text/plain": [
       "<torch._C.Generator at 0x7fc9ef5d4c10>"
      ]
     },
     "execution_count": 2,
     "metadata": {},
     "output_type": "execute_result"
    }
   ],
   "source": [
    "torch.manual_seed(0)"
   ]
  },
  {
   "cell_type": "code",
   "execution_count": 3,
   "metadata": {},
   "outputs": [],
   "source": [
    "channels = 1\n",
    "height = 28\n",
    "width = 28\n",
    "\n",
    "input_shape = (channels, height, width)"
   ]
  },
  {
   "cell_type": "markdown",
   "metadata": {},
   "source": [
    "## Network Module (pure Pytorch)"
   ]
  },
  {
   "cell_type": "code",
   "execution_count": 4,
   "metadata": {},
   "outputs": [],
   "source": [
    "class SNN(nn.Module):\n",
    "    def __init__(self) -> None:\n",
    "        super().__init__()\n",
    "\n",
    "        self.conv1 = nn.Conv2d(1, 30, 2, 1, bias=False) # node 0\n",
    "        self.iaf1 = IAFSqueeze(batch_size=1)            # node 1\n",
    "        self.pool1 = nn.AvgPool2d(2,2)                  # node 2\n",
    "        self.pool1a = nn.AvgPool2d(4,4)                 # node 3\n",
    "\n",
    "        self.conv2 = nn.Conv2d(30, 30, 2, 1, bias=False)# node 4\n",
    "        self.iaf2 = IAFSqueeze(batch_size=1)            # node 6\n",
    "        self.pool2 = nn.AvgPool2d(2,2)                  # node 7\n",
    "\n",
    "        self.conv3 = nn.Conv2d(30, 1, 3, 1, bias=False) # node 8\n",
    "        self.iaf3 = IAFSqueeze(batch_size=1)            # node 9\n",
    "\n",
    "        self.flat = nn.Flatten()\n",
    "\n",
    "        self.fc1 = nn.Linear(16, 500, bias=False)       # node 10\n",
    "        self.iaf4 = IAFSqueeze(batch_size=1)            # node 11\n",
    "        \n",
    "        self.fc2 = nn.Linear(500, 10, bias=False)       # node 12\n",
    "        self.iaf5 = IAFSqueeze(batch_size=1)            # node 13\n",
    "\n",
    "        self.adder = Merge()\n",
    "\n",
    "    def forward(self, x):\n",
    "        \n",
    "        con1_out = self.conv1(x)\n",
    "        iaf1_out = self.iaf1(con1_out)\n",
    "        pool1_out = self.pool1(iaf1_out)\n",
    "        pool1a_out = self.pool1a(iaf1_out)\n",
    "\n",
    "        conv2_out = self.conv2(pool1_out)\n",
    "        iaf2_out = self.iaf2(conv2_out)\n",
    "        pool2_out = self.pool2(iaf2_out)\n",
    "\n",
    "        conv3_out = self.conv3(self.adder(pool1a_out, pool2_out))\n",
    "        iaf3_out = self.iaf3(conv3_out)\n",
    "\n",
    "        flat_out = self.flat(iaf3_out)\n",
    "        \n",
    "        fc1_out = self.fc1(flat_out)\n",
    "        iaf4_out = self.iaf4(fc1_out)\n",
    "        fc2_out = self.fc2(iaf4_out)\n",
    "        iaf5_out = self.iaf5(fc2_out)\n",
    "\n",
    "        return iaf5_out"
   ]
  },
  {
   "cell_type": "code",
   "execution_count": 5,
   "metadata": {},
   "outputs": [],
   "source": [
    "snn = SNN()"
   ]
  },
  {
   "cell_type": "code",
   "execution_count": 6,
   "metadata": {},
   "outputs": [
    {
     "name": "stdout",
     "output_type": "stream",
     "text": [
      "DynapcnnLayer 0 [core 0]:                       ... torch.Size([1, 1, 28, 28])\n",
      "                                                conv1: [1, 30, 27, 27]\n",
      "                                                iaf1: [1, 30, 27, 27]\n",
      "                                                pool1: [1, 30, 13, 13]\n",
      "                                                pool1a: [1, 30, 6, 6]\n",
      "\n",
      "DynapcnnLayer 1 [core 1]:                       ... [1, 30, 13, 13]\n",
      "                                                conv2: [1, 30, 12, 12]\n",
      "                                                iaf2: [1, 30, 12, 12]\n",
      "                                                pool2: [1, 30, 6, 6]\n",
      "\n",
      "DynapcnnLayer 2 [core 2]:                       ... [1, 30, 6, 6] [ Merge(pool1a, pool2) ]\n",
      "                                                conv3: [1, 1, 4, 4]\n",
      "                                                iaf3: [1, 1, 4, 4]\n",
      "\n",
      "DynapcnnLayer 3 [core ]:                        ... [1, 16]\n",
      "                                                fc1: [1, 500]\n",
      "                                                iaf4: [1, 500]\n",
      "\n",
      "DynapcnnLayer 4 [core ]:                        ... [1, 500]\n",
      "                                                fc2: [1, 10]\n",
      "                                                iaf5: [1, 10]\n",
      "\n"
     ]
    }
   ],
   "source": [
    "x = torch.randn((1, *input_shape))\n",
    "\n",
    "print(f'DynapcnnLayer 0 [core 0]:                       ... {(x.shape)}')\n",
    "con1_out = snn.conv1(x)\n",
    "print(f'                                                conv1: {list(con1_out.shape)}')\n",
    "iaf1_out = snn.iaf1(con1_out)\n",
    "print(f'                                                iaf1: {list(iaf1_out.shape)}')\n",
    "pool1_out = snn.pool1(iaf1_out)\n",
    "print(f'                                                pool1: {list(pool1_out.shape)}')\n",
    "pool1a_out = snn.pool1a(iaf1_out)\n",
    "print(f'                                                pool1a: {list(pool1a_out.shape)}\\n')\n",
    "\n",
    "print(f'DynapcnnLayer 1 [core 1]:                       ... {list(pool1_out.shape)}')\n",
    "conv2_out = snn.conv2(pool1_out)\n",
    "print(f'                                                conv2: {list(conv2_out.shape)}')\n",
    "iaf2_out = snn.iaf2(conv2_out)\n",
    "print(f'                                                iaf2: {list(iaf2_out.shape)}')\n",
    "pool2_out = snn.pool2(iaf2_out)\n",
    "print(f'                                                pool2: {list(pool2_out.shape)}\\n')\n",
    "\n",
    "added = snn.adder(pool1a_out, pool2_out)\n",
    "\n",
    "print(f'DynapcnnLayer 2 [core 2]:                       ... {list(added.shape)} [ Merge(pool1a, pool2) ]')\n",
    "conv3_out = snn.conv3(added)\n",
    "print(f'                                                conv3: {list(conv3_out.shape)}')\n",
    "iaf3_out = snn.iaf3(conv3_out)\n",
    "print(f'                                                iaf3: {list(iaf3_out.shape)}\\n')\n",
    "\n",
    "flat_out = snn.flat(iaf3_out)\n",
    "\n",
    "print(f'DynapcnnLayer 3 [core ]:                        ... {list(flat_out.shape)}')\n",
    "fc1_out = snn.fc1(flat_out)\n",
    "print(f'                                                fc1: {list(fc1_out.shape)}')\n",
    "iaf4_out = snn.iaf4(fc1_out)\n",
    "print(f'                                                iaf4: {list(iaf4_out.shape)}\\n')\n",
    "\n",
    "\n",
    "print(f'DynapcnnLayer 4 [core ]:                        ... {list(iaf4_out.shape)}')\n",
    "fc2_out = snn.fc2(iaf4_out)\n",
    "print(f'                                                fc2: {list(fc2_out.shape)}')\n",
    "iaf5_out = snn.iaf5(fc2_out)\n",
    "print(f'                                                iaf5: {list(iaf5_out.shape)}\\n')"
   ]
  },
  {
   "cell_type": "markdown",
   "metadata": {},
   "source": [
    "## DynapcnnNetwork"
   ]
  },
  {
   "cell_type": "code",
   "execution_count": 7,
   "metadata": {},
   "outputs": [
    {
     "name": "stdout",
     "output_type": "stream",
     "text": [
      ">  0\n",
      ">  1\n",
      ">  2\n",
      "torch.Size([1, 16]) 16\n"
     ]
    },
    {
     "ename": "ValueError",
     "evalue": "not enough values to unpack (expected 3, got 0)",
     "output_type": "error",
     "traceback": [
      "\u001b[0;31m---------------------------------------------------------------------------\u001b[0m",
      "\u001b[0;31mValueError\u001b[0m                                Traceback (most recent call last)",
      "Cell \u001b[0;32mIn[7], line 1\u001b[0m\n\u001b[0;32m----> 1\u001b[0m hw_model \u001b[38;5;241m=\u001b[39m \u001b[43mDynapcnnNetworkGraph\u001b[49m\u001b[43m(\u001b[49m\n\u001b[1;32m      2\u001b[0m \u001b[43m    \u001b[49m\u001b[43msnn\u001b[49m\u001b[43m,\u001b[49m\n\u001b[1;32m      3\u001b[0m \u001b[43m    \u001b[49m\u001b[43mdiscretize\u001b[49m\u001b[38;5;241;43m=\u001b[39;49m\u001b[38;5;28;43;01mTrue\u001b[39;49;00m\u001b[43m,\u001b[49m\n\u001b[1;32m      4\u001b[0m \u001b[43m    \u001b[49m\u001b[43minput_shape\u001b[49m\u001b[38;5;241;43m=\u001b[39;49m\u001b[43minput_shape\u001b[49m\n\u001b[1;32m      5\u001b[0m \u001b[43m)\u001b[49m\n",
      "File \u001b[0;32m~/Github/sinabs/sinabs/backend/dynapcnn/dynapcnn_network_graph.py:87\u001b[0m, in \u001b[0;36mDynapcnnNetworkGraph.__init__\u001b[0;34m(self, snn, input_shape, dvs_input, discretize)\u001b[0m\n\u001b[1;32m     84\u001b[0m \u001b[38;5;66;03m# update the I/O shapes for each layer in 'self.nodes_to_dcnnl_map'.\u001b[39;00m\n\u001b[1;32m     85\u001b[0m \u001b[38;5;28mself\u001b[39m\u001b[38;5;241m.\u001b[39mpopulate_nodes_io()\n\u001b[0;32m---> 87\u001b[0m \u001b[38;5;28mself\u001b[39m\u001b[38;5;241m.\u001b[39mdynapcnn_layers \u001b[38;5;241m=\u001b[39m \u001b[43mbuild_from_graph\u001b[49m\u001b[43m(\u001b[49m\u001b[43m     \u001b[49m\u001b[38;5;66;43;03m# build model from graph edges.\u001b[39;49;00m\n\u001b[1;32m     88\u001b[0m \u001b[43m    \u001b[49m\u001b[43mdiscretize\u001b[49m\u001b[38;5;241;43m=\u001b[39;49m\u001b[43mdiscretize\u001b[49m\u001b[43m,\u001b[49m\n\u001b[1;32m     89\u001b[0m \u001b[43m    \u001b[49m\u001b[43medges\u001b[49m\u001b[38;5;241;43m=\u001b[39;49m\u001b[38;5;28;43mself\u001b[39;49m\u001b[38;5;241;43m.\u001b[39;49m\u001b[43msinabs_edges\u001b[49m\u001b[43m,\u001b[49m\n\u001b[1;32m     90\u001b[0m \u001b[43m    \u001b[49m\u001b[43mnodes_to_dcnnl_map\u001b[49m\u001b[38;5;241;43m=\u001b[39;49m\u001b[38;5;28;43mself\u001b[39;49m\u001b[38;5;241;43m.\u001b[39;49m\u001b[43mnodes_to_dcnnl_map\u001b[49m\u001b[43m)\u001b[49m\n\u001b[1;32m     92\u001b[0m \u001b[38;5;28;01mfor\u001b[39;00m dcnnl_idx, dcnnl_data \u001b[38;5;129;01min\u001b[39;00m \u001b[38;5;28mself\u001b[39m\u001b[38;5;241m.\u001b[39mnodes_to_dcnnl_map\u001b[38;5;241m.\u001b[39mitems():\n\u001b[1;32m     93\u001b[0m     \u001b[38;5;28mprint\u001b[39m(\u001b[38;5;124mf\u001b[39m\u001b[38;5;124m'\u001b[39m\u001b[38;5;124mDynapcnnLayer-index \u001b[39m\u001b[38;5;132;01m{\u001b[39;00mdcnnl_idx\u001b[38;5;132;01m}\u001b[39;00m\u001b[38;5;124m'\u001b[39m)\n",
      "File \u001b[0;32m~/Github/sinabs/sinabs/backend/dynapcnn/utils.py:595\u001b[0m, in \u001b[0;36mbuild_from_graph\u001b[0;34m(discretize, edges, nodes_to_dcnnl_map)\u001b[0m\n\u001b[1;32m    577\u001b[0m \u001b[38;5;28;01mdef\u001b[39;00m \u001b[38;5;21mbuild_from_graph\u001b[39m(\n\u001b[1;32m    578\u001b[0m         discretize: \u001b[38;5;28mbool\u001b[39m,\n\u001b[1;32m    579\u001b[0m         edges: List[Tuple[\u001b[38;5;28mint\u001b[39m, \u001b[38;5;28mint\u001b[39m]],\n\u001b[1;32m    580\u001b[0m         nodes_to_dcnnl_map: \u001b[38;5;28mdict\u001b[39m) \u001b[38;5;241m-\u001b[39m\u001b[38;5;241m>\u001b[39m \u001b[38;5;28mdict\u001b[39m:\n\u001b[1;32m    581\u001b[0m \u001b[38;5;250m    \u001b[39m\u001b[38;5;124;03m\"\"\" Parses each edge of a 'sinabs_mode.spiking_model' computational graph. Each node (layer) is assigned to a \u001b[39;00m\n\u001b[1;32m    582\u001b[0m \u001b[38;5;124;03m    DynapcnnLayer object. The target destination of each DynapcnnLayer is computed via edges connecting nodes in \u001b[39;00m\n\u001b[1;32m    583\u001b[0m \u001b[38;5;124;03m    different DynapcnnLayer objects.\u001b[39;00m\n\u001b[0;32m   (...)\u001b[0m\n\u001b[1;32m    591\u001b[0m \u001b[38;5;124;03m        ...\u001b[39;00m\n\u001b[1;32m    592\u001b[0m \u001b[38;5;124;03m    \"\"\"\u001b[39;00m\n\u001b[0;32m--> 595\u001b[0m     dynapcnn_layers \u001b[38;5;241m=\u001b[39m \u001b[43mconstruct_dynapcnnlayers_from_mapper\u001b[49m\u001b[43m(\u001b[49m\u001b[43m                     \u001b[49m\u001b[38;5;66;43;03m# turn sets of layers into DynapcnnLayer objects.\u001b[39;49;00m\n\u001b[1;32m    596\u001b[0m \u001b[43m        \u001b[49m\u001b[43mdiscretize\u001b[49m\u001b[43m,\u001b[49m\u001b[43m \u001b[49m\u001b[43mnodes_to_dcnnl_map\u001b[49m\u001b[43m,\u001b[49m\u001b[43m \u001b[49m\u001b[43medges\u001b[49m\u001b[43m)\u001b[49m\n\u001b[1;32m    598\u001b[0m     \u001b[38;5;28;01mfor\u001b[39;00m idx, layer_data \u001b[38;5;129;01min\u001b[39;00m dynapcnn_layers\u001b[38;5;241m.\u001b[39mitems():\n\u001b[1;32m    599\u001b[0m         \u001b[38;5;28;01mif\u001b[39;00m \u001b[38;5;124m'\u001b[39m\u001b[38;5;124mcore_idx\u001b[39m\u001b[38;5;124m'\u001b[39m \u001b[38;5;129;01mnot\u001b[39;00m \u001b[38;5;129;01min\u001b[39;00m layer_data:\n",
      "File \u001b[0;32m~/Github/sinabs/sinabs/backend/dynapcnn/utils.py:622\u001b[0m, in \u001b[0;36mconstruct_dynapcnnlayers_from_mapper\u001b[0;34m(discretize, nodes_to_dcnnl_map, edges)\u001b[0m\n\u001b[1;32m    619\u001b[0m dynapcnn_layers \u001b[38;5;241m=\u001b[39m {}\n\u001b[1;32m    621\u001b[0m \u001b[38;5;28;01mfor\u001b[39;00m dpcnnl_idx, dcnnl_data \u001b[38;5;129;01min\u001b[39;00m nodes_to_dcnnl_map\u001b[38;5;241m.\u001b[39mitems():\n\u001b[0;32m--> 622\u001b[0m     dynapcnnlayer \u001b[38;5;241m=\u001b[39m \u001b[43mconstruct_dynapcnnlayer\u001b[49m\u001b[43m(\u001b[49m\n\u001b[1;32m    623\u001b[0m \u001b[43m        \u001b[49m\u001b[43mdiscretize\u001b[49m\u001b[43m,\u001b[49m\u001b[43m \u001b[49m\u001b[43mdcnnl_data\u001b[49m\u001b[43m,\u001b[49m\u001b[43m \u001b[49m\u001b[43medges\u001b[49m\u001b[43m,\u001b[49m\u001b[43m \u001b[49m\u001b[43mnodes_to_dcnnl_map\u001b[49m\u001b[43m)\u001b[49m\n\u001b[1;32m    625\u001b[0m     \u001b[38;5;28mprint\u001b[39m(\u001b[38;5;124m'\u001b[39m\u001b[38;5;124m> \u001b[39m\u001b[38;5;124m'\u001b[39m, dpcnnl_idx)\n\u001b[1;32m    627\u001b[0m     dynapcnn_layers[dpcnnl_idx] \u001b[38;5;241m=\u001b[39m {\n\u001b[1;32m    628\u001b[0m         \u001b[38;5;124m'\u001b[39m\u001b[38;5;124mlayer\u001b[39m\u001b[38;5;124m'\u001b[39m: dynapcnnlayer, \n\u001b[1;32m    629\u001b[0m         \u001b[38;5;124m'\u001b[39m\u001b[38;5;124mdestinations\u001b[39m\u001b[38;5;124m'\u001b[39m: nodes_to_dcnnl_map[dpcnnl_idx][\u001b[38;5;124m'\u001b[39m\u001b[38;5;124mdestinations\u001b[39m\u001b[38;5;124m'\u001b[39m]\n\u001b[1;32m    630\u001b[0m         }\n",
      "File \u001b[0;32m~/Github/sinabs/sinabs/backend/dynapcnn/utils.py:653\u001b[0m, in \u001b[0;36mconstruct_dynapcnnlayer\u001b[0;34m(discretize, dcnnl_data, edges, nodes_to_dcnnl_map, layer_index)\u001b[0m\n\u001b[1;32m    650\u001b[0m convert_Avg_to_Sum_pooling(dcnnl_data, edges, nodes_to_dcnnl_map)\n\u001b[1;32m    652\u001b[0m \u001b[38;5;66;03m# instantiate a DynapcnnLayer from the data in 'dcnnl_data'.\u001b[39;00m\n\u001b[0;32m--> 653\u001b[0m dynapcnnlayer \u001b[38;5;241m=\u001b[39m \u001b[43mDynapcnnLayer\u001b[49m\u001b[43m(\u001b[49m\u001b[43m          \u001b[49m\u001b[38;5;66;43;03m# TODO 'rescale_weight' information is inside 'dcnnl_data' but it is not yet being used.\u001b[39;49;00m\n\u001b[1;32m    654\u001b[0m \u001b[43m    \u001b[49m\u001b[43mdcnnl_data\u001b[49m\u001b[43m      \u001b[49m\u001b[38;5;241;43m=\u001b[39;49m\u001b[43m \u001b[49m\u001b[43mdcnnl_data\u001b[49m\u001b[43m,\u001b[49m\n\u001b[1;32m    655\u001b[0m \u001b[43m    \u001b[49m\u001b[43mdiscretize\u001b[49m\u001b[43m      \u001b[49m\u001b[38;5;241;43m=\u001b[39;49m\u001b[43m \u001b[49m\u001b[43mdiscretize\u001b[49m\n\u001b[1;32m    656\u001b[0m \u001b[43m\u001b[49m\u001b[43m)\u001b[49m\n\u001b[1;32m    658\u001b[0m \u001b[38;5;28;01mreturn\u001b[39;00m dynapcnnlayer\n",
      "File \u001b[0;32m~/Github/sinabs/sinabs/backend/dynapcnn/dynapcnn_layer_new.py:92\u001b[0m, in \u001b[0;36mDynapcnnLayer.__init__\u001b[0;34m(self, dcnnl_data, discretize, rescale_weights)\u001b[0m\n\u001b[1;32m     89\u001b[0m         spk\u001b[38;5;241m.\u001b[39mv_mem \u001b[38;5;241m=\u001b[39m spk\u001b[38;5;241m.\u001b[39mv_mem\u001b[38;5;241m.\u001b[39mdata\u001b[38;5;241m.\u001b[39munsqueeze(\u001b[38;5;241m-\u001b[39m\u001b[38;5;241m1\u001b[39m)\u001b[38;5;241m.\u001b[39munsqueeze(\u001b[38;5;241m-\u001b[39m\u001b[38;5;241m1\u001b[39m)      \u001b[38;5;66;03m# expand dims.\u001b[39;00m\n\u001b[1;32m     91\u001b[0m \u001b[38;5;28;01mif\u001b[39;00m \u001b[38;5;28misinstance\u001b[39m(conv, nn\u001b[38;5;241m.\u001b[39mLinear):\n\u001b[0;32m---> 92\u001b[0m     conv \u001b[38;5;241m=\u001b[39m \u001b[38;5;28;43mself\u001b[39;49m\u001b[38;5;241;43m.\u001b[39;49m\u001b[43m_convert_linear_to_conv\u001b[49m\u001b[43m(\u001b[49m\u001b[43mconv\u001b[49m\u001b[43m,\u001b[49m\u001b[43m \u001b[49m\u001b[43mdcnnl_data\u001b[49m\u001b[43m[\u001b[49m\u001b[43mconv_node_id\u001b[49m\u001b[43m]\u001b[49m\u001b[43m)\u001b[49m\n\u001b[1;32m     93\u001b[0m \u001b[38;5;28;01melse\u001b[39;00m:\n\u001b[1;32m     94\u001b[0m     conv \u001b[38;5;241m=\u001b[39m deepcopy(conv)\n",
      "File \u001b[0;32m~/Github/sinabs/sinabs/backend/dynapcnn/dynapcnn_layer_new.py:134\u001b[0m, in \u001b[0;36mDynapcnnLayer._convert_linear_to_conv\u001b[0;34m(self, lin, layer_data)\u001b[0m\n\u001b[1;32m    130\u001b[0m \u001b[38;5;28mprint\u001b[39m(layer_data[\u001b[38;5;124m'\u001b[39m\u001b[38;5;124minput_shape\u001b[39m\u001b[38;5;124m'\u001b[39m], lin\u001b[38;5;241m.\u001b[39min_features)\n\u001b[1;32m    132\u001b[0m input_shape \u001b[38;5;241m=\u001b[39m \u001b[38;5;28mtuple\u001b[39m(\u001b[38;5;28mlist\u001b[39m(layer_data[\u001b[38;5;124m'\u001b[39m\u001b[38;5;124minput_shape\u001b[39m\u001b[38;5;124m'\u001b[39m])[\u001b[38;5;241m1\u001b[39m:\u001b[38;5;241m-\u001b[39m\u001b[38;5;241m1\u001b[39m])  \u001b[38;5;66;03m# removing the batch dimension.\u001b[39;00m\n\u001b[0;32m--> 134\u001b[0m in_chan, in_h, in_w \u001b[38;5;241m=\u001b[39m input_shape\n\u001b[1;32m    136\u001b[0m \u001b[38;5;28;01mif\u001b[39;00m lin\u001b[38;5;241m.\u001b[39min_features \u001b[38;5;241m!=\u001b[39m in_chan \u001b[38;5;241m*\u001b[39m in_h \u001b[38;5;241m*\u001b[39m in_w:\n\u001b[1;32m    137\u001b[0m     \u001b[38;5;28;01mraise\u001b[39;00m \u001b[38;5;167;01mValueError\u001b[39;00m(\u001b[38;5;124m\"\u001b[39m\u001b[38;5;124mShapes don\u001b[39m\u001b[38;5;124m'\u001b[39m\u001b[38;5;124mt match.\u001b[39m\u001b[38;5;124m\"\u001b[39m)\n",
      "\u001b[0;31mValueError\u001b[0m: not enough values to unpack (expected 3, got 0)"
     ]
    }
   ],
   "source": [
    "hw_model = DynapcnnNetworkGraph(\n",
    "    snn,\n",
    "    discretize=True,\n",
    "    input_shape=input_shape\n",
    ")"
   ]
  }
 ],
 "metadata": {
  "kernelspec": {
   "display_name": "speck-rescnn",
   "language": "python",
   "name": "python3"
  },
  "language_info": {
   "codemirror_mode": {
    "name": "ipython",
    "version": 3
   },
   "file_extension": ".py",
   "mimetype": "text/x-python",
   "name": "python",
   "nbconvert_exporter": "python",
   "pygments_lexer": "ipython3",
   "version": "3.11.3"
  }
 },
 "nbformat": 4,
 "nbformat_minor": 2
}

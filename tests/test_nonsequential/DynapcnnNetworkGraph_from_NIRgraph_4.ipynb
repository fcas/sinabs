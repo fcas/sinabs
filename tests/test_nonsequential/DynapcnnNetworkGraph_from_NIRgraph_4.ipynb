{
 "cells": [
  {
   "cell_type": "code",
   "execution_count": 1,
   "metadata": {},
   "outputs": [],
   "source": [
    "import torch\n",
    "import torch.nn as nn\n",
    "from sinabs.from_torch import from_model\n",
    "from sinabs.backend.dynapcnn import DynapcnnNetworkGraph\n",
    "from sinabs.layers import Merge, IAFSqueeze"
   ]
  },
  {
   "cell_type": "code",
   "execution_count": 2,
   "metadata": {},
   "outputs": [
    {
     "data": {
      "text/plain": [
       "<torch._C.Generator at 0x7fcee81ccc90>"
      ]
     },
     "execution_count": 2,
     "metadata": {},
     "output_type": "execute_result"
    }
   ],
   "source": [
    "torch.manual_seed(0)"
   ]
  },
  {
   "cell_type": "code",
   "execution_count": 3,
   "metadata": {},
   "outputs": [],
   "source": [
    "channels = 1\n",
    "height = 28\n",
    "width = 28\n",
    "\n",
    "input_shape = (channels, height, width)"
   ]
  },
  {
   "cell_type": "markdown",
   "metadata": {},
   "source": [
    "## Network Module (pure Pytorch)"
   ]
  },
  {
   "cell_type": "code",
   "execution_count": 4,
   "metadata": {},
   "outputs": [],
   "source": [
    "class SNN(nn.Module):\n",
    "    def __init__(self) -> None:\n",
    "        super().__init__()\n",
    "\n",
    "        self.conv1 = nn.Conv2d(1, 30, 2, 1, bias=False)\n",
    "        self.iaf1 = IAFSqueeze(batch_size=1)\n",
    "        self.pool1 = nn.AvgPool2d(2,2)\n",
    "        self.pool1a = nn.AvgPool2d(4,4)\n",
    "\n",
    "        self.conv2 = nn.Conv2d(30, 30, 2, 1, bias=False)\n",
    "        self.iaf2 = IAFSqueeze(batch_size=1)\n",
    "        self.pool2 = nn.AvgPool2d(2,2)\n",
    "\n",
    "        self.conv3 = nn.Conv2d(30, 1, 3, 1, bias=False)\n",
    "        self.iaf3 = IAFSqueeze(batch_size=1)\n",
    "\n",
    "        self.flat = nn.Flatten()\n",
    "\n",
    "        self.fc1 = nn.Linear(16, 500, bias=False)\n",
    "        self.iaf4 = IAFSqueeze(batch_size=1)\n",
    "        self.fc2 = nn.Linear(500, 10, bias=False)\n",
    "        self.iaf5 = IAFSqueeze(batch_size=1)\n",
    "\n",
    "        self.adder = Merge()\n",
    "\n",
    "    def forward(self, x):\n",
    "        \n",
    "        con1_out = self.conv1(x)\n",
    "        iaf1_out = self.iaf1(con1_out)\n",
    "        pool1_out = self.pool1(iaf1_out)\n",
    "\n",
    "        conv2_out = self.conv2(pool1_out)\n",
    "        iaf2_out = self.iaf2(conv2_out)\n",
    "        pool2_out = self.pool2(iaf2_out)\n",
    "\n",
    "        conv3_out = self.conv3(self.adder(iaf1_out, pool2_out))\n",
    "        iaf3_out = self.iaf3(conv3_out)\n",
    "\n",
    "        flat_out = self.flat(iaf3_out)\n",
    "        \n",
    "        fc1_out = self.fc1(flat_out)\n",
    "        iaf4_out = self.iaf4(fc1_out)\n",
    "        fc2_out = self.fc2(iaf4_out)\n",
    "        iaf5_out = self.iaf5(fc2_out)\n",
    "\n",
    "        return iaf5_out"
   ]
  },
  {
   "cell_type": "code",
   "execution_count": 5,
   "metadata": {},
   "outputs": [],
   "source": [
    "snn = SNN()"
   ]
  },
  {
   "cell_type": "code",
   "execution_count": 6,
   "metadata": {},
   "outputs": [
    {
     "name": "stdout",
     "output_type": "stream",
     "text": [
      "DynapcnnLayer 0 [core 0]:                       input: torch.Size([1, 1, 28, 28])\n",
      "                                                conv1: torch.Size([1, 30, 27, 27])\n",
      "                                                iaf1: torch.Size([1, 30, 27, 27])\n",
      "                                                pool1: torch.Size([1, 30, 13, 13])\n",
      "                                                pool1a: torch.Size([1, 30, 6, 6])\n",
      "\n",
      "DynapcnnLayer 1 [core 1]:                       input: torch.Size([1, 30, 13, 13])\n",
      "                                                conv2: torch.Size([1, 30, 12, 12])\n",
      "                                                iaf2: torch.Size([1, 30, 12, 12])\n",
      "                                                pool2: torch.Size([1, 30, 6, 6])\n",
      "\n",
      "DynapcnnLayer 2 [core 2]:                       input: torch.Size([1, 30, 6, 6]) [ Merge(pool1a, pool2) ]\n",
      "                                                conv3: torch.Size([1, 1, 4, 4])\n",
      "                                                iaf3: torch.Size([1, 1, 4, 4])\n",
      "\n",
      "DynapcnnLayer 3 [core ]:                        input: torch.Size([1, 16])\n",
      "                                                fc1: torch.Size([1, 500])\n",
      "                                                iaf4: torch.Size([1, 500])\n",
      "\n",
      "DynapcnnLayer 4 [core ]:                        input: torch.Size([1, 500])\n",
      "                                                fc2: torch.Size([1, 10])\n",
      "                                                iaf5: torch.Size([1, 10])\n",
      "\n"
     ]
    }
   ],
   "source": [
    "x = torch.randn((1, *input_shape))\n",
    "\n",
    "print(f'DynapcnnLayer 0 [core 0]:                       input: {x.shape}')\n",
    "con1_out = snn.conv1(x)\n",
    "print(f'                                                conv1: {con1_out.shape}')\n",
    "iaf1_out = snn.iaf1(con1_out)\n",
    "print(f'                                                iaf1: {iaf1_out.shape}')\n",
    "pool1_out = snn.pool1(iaf1_out)\n",
    "print(f'                                                pool1: {pool1_out.shape}')\n",
    "pool1a_out = snn.pool1a(iaf1_out)\n",
    "print(f'                                                pool1a: {pool1a_out.shape}\\n')\n",
    "\n",
    "print(f'DynapcnnLayer 1 [core 1]:                       input: {pool1_out.shape}')\n",
    "conv2_out = snn.conv2(pool1_out)\n",
    "print(f'                                                conv2: {conv2_out.shape}')\n",
    "iaf2_out = snn.iaf2(conv2_out)\n",
    "print(f'                                                iaf2: {iaf2_out.shape}')\n",
    "pool2_out = snn.pool2(iaf2_out)\n",
    "print(f'                                                pool2: {pool2_out.shape}\\n')\n",
    "\n",
    "added = snn.adder(pool1a_out, pool2_out)\n",
    "\n",
    "print(f'DynapcnnLayer 2 [core 2]:                       input: {added.shape} [ Merge(pool1a, pool2) ]')\n",
    "conv3_out = snn.conv3(added)\n",
    "print(f'                                                conv3: {conv3_out.shape}')\n",
    "iaf3_out = snn.iaf3(conv3_out)\n",
    "print(f'                                                iaf3: {iaf3_out.shape}\\n')\n",
    "\n",
    "flat_out = snn.flat(iaf3_out)\n",
    "\n",
    "print(f'DynapcnnLayer 3 [core ]:                        input: {flat_out.shape}')\n",
    "fc1_out = snn.fc1(flat_out)\n",
    "print(f'                                                fc1: {fc1_out.shape}')\n",
    "iaf4_out = snn.iaf4(fc1_out)\n",
    "print(f'                                                iaf4: {iaf4_out.shape}\\n')\n",
    "\n",
    "\n",
    "print(f'DynapcnnLayer 4 [core ]:                        input: {iaf4_out.shape}')\n",
    "fc2_out = snn.fc2(iaf4_out)\n",
    "print(f'                                                fc2: {fc2_out.shape}')\n",
    "iaf5_out = snn.iaf5(fc2_out)\n",
    "print(f'                                                iaf5: {iaf5_out.shape}\\n')"
   ]
  },
  {
   "cell_type": "markdown",
   "metadata": {},
   "source": [
    "## DynapCNN Model"
   ]
  }
 ],
 "metadata": {
  "kernelspec": {
   "display_name": "speck-rescnn",
   "language": "python",
   "name": "python3"
  },
  "language_info": {
   "codemirror_mode": {
    "name": "ipython",
    "version": 3
   },
   "file_extension": ".py",
   "mimetype": "text/x-python",
   "name": "python",
   "nbconvert_exporter": "python",
   "pygments_lexer": "ipython3",
   "version": "3.11.3"
  }
 },
 "nbformat": 4,
 "nbformat_minor": 2
}

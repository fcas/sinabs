{
 "cells": [
  {
   "cell_type": "code",
   "execution_count": 1,
   "metadata": {},
   "outputs": [],
   "source": [
    "import torch\n",
    "import torch.nn as nn\n",
    "import networkx as nx\n",
    "import matplotlib.pyplot as plt\n",
    "from sinabs.from_torch import from_model\n",
    "from sinabs.backend.dynapcnn import DynapcnnNetwork, DynapcnnNetworkGraph\n",
    "import sinabs as snb"
   ]
  },
  {
   "cell_type": "code",
   "execution_count": 2,
   "metadata": {},
   "outputs": [
    {
     "data": {
      "text/plain": [
       "<torch._C.Generator at 0x7fdaa6ff8c90>"
      ]
     },
     "execution_count": 2,
     "metadata": {},
     "output_type": "execute_result"
    }
   ],
   "source": [
    "torch.manual_seed(0)"
   ]
  },
  {
   "cell_type": "code",
   "execution_count": 3,
   "metadata": {},
   "outputs": [],
   "source": [
    "channels = 1\n",
    "height = 28\n",
    "width = 28\n",
    "\n",
    "input_shape = (channels, height, width)"
   ]
  },
  {
   "cell_type": "markdown",
   "metadata": {},
   "source": [
    "## Network Module (pure Pytorch)"
   ]
  },
  {
   "cell_type": "code",
   "execution_count": 4,
   "metadata": {},
   "outputs": [],
   "source": [
    "class ANN(nn.Module):\n",
    "    def __init__(self) -> None:\n",
    "        super().__init__()\n",
    "\n",
    "        self.con1 = nn.Conv2d(1, 20, 5, 1, bias=False)\n",
    "        self.rel1 = nn.ReLU()\n",
    "        self.pool1 = nn.AvgPool2d(2,2)\n",
    "\n",
    "        self.conv2 = nn.Conv2d(20, 32, 5, 1, bias=False)\n",
    "        self.rel2 = nn.ReLU()\n",
    "        self.pool2 = nn.AvgPool2d(2,2)\n",
    "\n",
    "        self.conv3 = nn.Conv2d(32, 128, 3, 1, bias=False)\n",
    "        self.rel3 = nn.ReLU()\n",
    "        self.pool3 = nn.AvgPool2d(2,2)\n",
    "\n",
    "        self.flat = nn.Flatten()\n",
    "\n",
    "        self.fc1 = nn.Linear(128, 500, bias=False)\n",
    "        self.rel4 = nn.ReLU()\n",
    "        self.fc2 = nn.Linear(500, 10, bias=False)\n",
    "\n",
    "    def forward(self, x):\n",
    "        \n",
    "        con1_out = self.con1(x)\n",
    "        rel1_out = self.rel1(con1_out)\n",
    "        pool1_out = self.pool1(rel1_out)\n",
    "\n",
    "        conv2_out = self.conv2(pool1_out)\n",
    "        rel2_out = self.rel2(conv2_out)\n",
    "        pool2_out = self.pool2(rel2_out)\n",
    "\n",
    "        conv3_out = self.conv3(pool2_out)\n",
    "        rel3_out = self.rel3(conv3_out)\n",
    "        pool3_out = self.pool3(rel3_out)\n",
    "\n",
    "        flat_out = self.flat(pool3_out)\n",
    "        \n",
    "        fc1_out = self.fc1(flat_out)\n",
    "        rel4_out = self.rel4(fc1_out)\n",
    "        fc2_out = self.fc2(rel4_out)\n",
    "\n",
    "        return fc2_out"
   ]
  },
  {
   "cell_type": "code",
   "execution_count": 5,
   "metadata": {},
   "outputs": [],
   "source": [
    "ann = ANN()"
   ]
  },
  {
   "cell_type": "markdown",
   "metadata": {},
   "source": [
    "## Sinabs Model"
   ]
  },
  {
   "cell_type": "code",
   "execution_count": 6,
   "metadata": {},
   "outputs": [],
   "source": [
    "sinabs_model = from_model(ann, add_spiking_output=True, batch_size=1)"
   ]
  },
  {
   "cell_type": "markdown",
   "metadata": {},
   "source": [
    "## DynapCNN Model"
   ]
  },
  {
   "cell_type": "code",
   "execution_count": 7,
   "metadata": {},
   "outputs": [],
   "source": [
    "hw_model = DynapcnnNetworkGraph(\n",
    "    sinabs_model,\n",
    "    discretize=True,\n",
    "    input_shape=input_shape,\n",
    "    use_jit_tracer=False\n",
    ")"
   ]
  },
  {
   "cell_type": "code",
   "execution_count": 8,
   "metadata": {},
   "outputs": [],
   "source": [
    "# hw_model.to(device=\"speck2edevkit:0\")"
   ]
  },
  {
   "cell_type": "code",
   "execution_count": 9,
   "metadata": {},
   "outputs": [
    {
     "name": "stdout",
     "output_type": "stream",
     "text": [
      "\n",
      "layer index: 0\n",
      "layer modules: DynapcnnLayer(\n",
      "  (conv_layer): Conv2d(1, 20, kernel_size=(5, 5), stride=(1, 1), bias=False)\n",
      "  (spk_layer): IAFSqueeze(spike_threshold=Parameter containing:\n",
      "  tensor(635.), min_v_mem=Parameter containing:\n",
      "  tensor(-635.), batch_size=1, num_timesteps=-1)\n",
      "  (pool_layer): SumPool2d(norm_type=1, kernel_size=(2, 2), stride=None, ceil_mode=False)\n",
      ")\n",
      "layer destinations: [1]\n",
      "assigned core: -1\n",
      "\n",
      "layer index: 1\n",
      "layer modules: DynapcnnLayer(\n",
      "  (conv_layer): Conv2d(20, 32, kernel_size=(5, 5), stride=(1, 1), bias=False)\n",
      "  (spk_layer): IAFSqueeze(spike_threshold=Parameter containing:\n",
      "  tensor(11361.), min_v_mem=Parameter containing:\n",
      "  tensor(-11361.), batch_size=1, num_timesteps=-1)\n",
      "  (pool_layer): SumPool2d(norm_type=1, kernel_size=(2, 2), stride=None, ceil_mode=False)\n",
      ")\n",
      "layer destinations: [2]\n",
      "assigned core: -1\n",
      "\n",
      "layer index: 2\n",
      "layer modules: DynapcnnLayer(\n",
      "  (conv_layer): Conv2d(32, 128, kernel_size=(3, 3), stride=(1, 1), bias=False)\n",
      "  (spk_layer): IAFSqueeze(spike_threshold=Parameter containing:\n",
      "  tensor(8621.), min_v_mem=Parameter containing:\n",
      "  tensor(-8621.), batch_size=1, num_timesteps=-1)\n",
      "  (pool_layer): SumPool2d(norm_type=1, kernel_size=(2, 2), stride=None, ceil_mode=False)\n",
      ")\n",
      "layer destinations: [3]\n",
      "assigned core: -1\n",
      "\n",
      "layer index: 3\n",
      "layer modules: DynapcnnLayer(\n",
      "  (conv_layer): Conv2d(128, 500, kernel_size=(1, 1), stride=(1, 1), bias=False)\n",
      "  (spk_layer): IAFSqueeze(spike_threshold=Parameter containing:\n",
      "  tensor(5747.), min_v_mem=Parameter containing:\n",
      "  tensor(-5747.), batch_size=1, num_timesteps=-1)\n",
      ")\n",
      "layer destinations: [4]\n",
      "assigned core: -1\n",
      "\n",
      "layer index: 4\n",
      "layer modules: DynapcnnLayer(\n",
      "  (conv_layer): Conv2d(500, 10, kernel_size=(1, 1), stride=(1, 1), bias=False)\n",
      "  (spk_layer): IAFSqueeze(spike_threshold=Parameter containing:\n",
      "  tensor(2841.), min_v_mem=Parameter containing:\n",
      "  tensor(-2841.), batch_size=1, num_timesteps=-1)\n",
      ")\n",
      "layer destinations: []\n",
      "assigned core: -1\n",
      "\n"
     ]
    }
   ],
   "source": [
    "print(hw_model)"
   ]
  }
 ],
 "metadata": {
  "kernelspec": {
   "display_name": "speck-rescnn",
   "language": "python",
   "name": "python3"
  },
  "language_info": {
   "codemirror_mode": {
    "name": "ipython",
    "version": 3
   },
   "file_extension": ".py",
   "mimetype": "text/x-python",
   "name": "python",
   "nbconvert_exporter": "python",
   "pygments_lexer": "ipython3",
   "version": "3.11.3"
  }
 },
 "nbformat": 4,
 "nbformat_minor": 2
}

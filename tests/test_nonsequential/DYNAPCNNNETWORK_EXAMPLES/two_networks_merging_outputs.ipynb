{
 "cells": [
  {
   "cell_type": "code",
   "execution_count": 1,
   "metadata": {
    "metadata": {}
   },
   "outputs": [],
   "source": [
    "import torch\n",
    "import torch.nn as nn\n",
    "from sinabs.backend.dynapcnn import DynapcnnNetworkGraph\n",
    "from sinabs.layers import Merge, IAFSqueeze, SumPool2d\n",
    "import sinabs.layers as sl\n",
    "from sinabs.activation.surrogate_gradient_fn import PeriodicExponential"
   ]
  },
  {
   "cell_type": "code",
   "execution_count": 2,
   "metadata": {
    "metadata": {}
   },
   "outputs": [
    {
     "data": {
      "text/plain": [
       "<torch._C.Generator at 0x7fac3a52bad0>"
      ]
     },
     "execution_count": 2,
     "metadata": {},
     "output_type": "execute_result"
    }
   ],
   "source": [
    "torch.manual_seed(0)"
   ]
  },
  {
   "cell_type": "code",
   "execution_count": 3,
   "metadata": {
    "metadata": {}
   },
   "outputs": [],
   "source": [
    "channels = 2\n",
    "height = 34\n",
    "width = 34\n",
    "\n",
    "input_shape = (channels, height, width)"
   ]
  },
  {
   "cell_type": "markdown",
   "metadata": {},
   "source": [
    "## Network Module\n",
    "\n",
    "We need to define a `nn.Module` implementing the network we want the chip to reproduce."
   ]
  },
  {
   "cell_type": "markdown",
   "metadata": {},
   "source": [
    "```mermaid\n",
    "stateDiagram\n",
    "    [*] --> A\n",
    "    A --> B\n",
    "    B --> C\n",
    "    D --> E\n",
    "    E --> F\n",
    "    C --> G\n",
    "    F --> G\n",
    "    G --> H\n",
    "    H --> I\n",
    "    I --> [*]\n",
    "```"
   ]
  },
  {
   "cell_type": "code",
   "execution_count": 4,
   "metadata": {
    "metadata": {}
   },
   "outputs": [],
   "source": [
    "class SNN(nn.Module):\n",
    "    def __init__(self, nb_classes, batch_size, surrogate_fn, min_v_mem=-0.313, spk_thr=2.0) -> None:\n",
    "        super().__init__()\n",
    "\n",
    "        self.conv_A = nn.Conv2d(2, 4, 2, 1, bias=False)\n",
    "        self.iaf_A = IAFSqueeze(batch_size=batch_size, min_v_mem=min_v_mem, surrogate_grad_fn=surrogate_fn, spike_threshold=spk_thr)\n",
    "\n",
    "        self.conv_B = nn.Conv2d(4, 4, 2, 1, bias=False)\n",
    "        self.iaf_B = IAFSqueeze(batch_size=batch_size, min_v_mem=min_v_mem, surrogate_grad_fn=surrogate_fn, spike_threshold=spk_thr)\n",
    "        self.pool_B = sl.SumPool2d(2,2)\n",
    "\n",
    "        self.conv_C = nn.Conv2d(4, 4, 2, 1, bias=False)\n",
    "        self.iaf_C = IAFSqueeze(batch_size=batch_size, min_v_mem=min_v_mem, surrogate_grad_fn=surrogate_fn, spike_threshold=spk_thr)\n",
    "        self.pool_C = sl.SumPool2d(2,2)\n",
    "\n",
    "        self.conv_D = nn.Conv2d(2, 4, 2, 1, bias=False)\n",
    "        self.iaf_D = IAFSqueeze(batch_size=batch_size, min_v_mem=min_v_mem, surrogate_grad_fn=surrogate_fn, spike_threshold=spk_thr)\n",
    "\n",
    "        self.conv_E = nn.Conv2d(4, 4, 2, 1, bias=False)\n",
    "        self.iaf_E = IAFSqueeze(batch_size=batch_size, min_v_mem=min_v_mem, surrogate_grad_fn=surrogate_fn, spike_threshold=spk_thr)\n",
    "        self.pool_E = sl.SumPool2d(2,2)\n",
    "\n",
    "        self.conv_F = nn.Conv2d(4, 4, 2, 1, bias=False)\n",
    "        self.iaf_F = IAFSqueeze(batch_size=batch_size, min_v_mem=min_v_mem, surrogate_grad_fn=surrogate_fn, spike_threshold=spk_thr)\n",
    "        self.pool_F = sl.SumPool2d(2,2)\n",
    "\n",
    "        self.flat_brach1 = nn.Flatten()\n",
    "        self.flat_brach2 = nn.Flatten()\n",
    "        self.merge = Merge()\n",
    "\n",
    "        self.fc1 = nn.Linear(196, 200, bias=False)\n",
    "        self.iaf1_fc = IAFSqueeze(batch_size=batch_size, min_v_mem=min_v_mem, surrogate_grad_fn=surrogate_fn, spike_threshold=spk_thr)\n",
    "\n",
    "        self.fc2 = nn.Linear(200, 200, bias=False)\n",
    "        self.iaf2_fc = IAFSqueeze(batch_size=batch_size, min_v_mem=min_v_mem, surrogate_grad_fn=surrogate_fn, spike_threshold=spk_thr)\n",
    "\n",
    "        self.fc3 = nn.Linear(200, nb_classes, bias=False)\n",
    "        self.iaf3_fc = IAFSqueeze(batch_size=batch_size, min_v_mem=min_v_mem, surrogate_grad_fn=surrogate_fn, spike_threshold=spk_thr)\n",
    "\n",
    "    def forward(self, x):\n",
    "        # conv 1 - A\n",
    "        conv_A_out = self.conv_A(x)\n",
    "        iaf_A_out = self.iaf_A(conv_A_out)\n",
    "        # conv 2 - B\n",
    "        conv_B_out = self.conv_B(iaf_A_out)\n",
    "        iaf_B_out = self.iaf_B(conv_B_out)\n",
    "        pool_B_out = self.pool_B(iaf_B_out)\n",
    "        # conv 3 - C\n",
    "        conv_C_out = self.conv_C(pool_B_out)\n",
    "        iaf_C_out = self.iaf_C(conv_C_out)\n",
    "        pool_C_out = self.pool_C(iaf_C_out)\n",
    "\n",
    "        # ---\n",
    "\n",
    "        # conv 4 - D\n",
    "        conv_D_out = self.conv_D(x)\n",
    "        iaf_D_out = self.iaf_D(conv_D_out)\n",
    "        # conv 5 - E\n",
    "        conv_E_out = self.conv_E(iaf_D_out)\n",
    "        iaf_E_out = self.iaf_E(conv_E_out)\n",
    "        pool_E_out = self.pool_E(iaf_E_out)\n",
    "        # conv 6 - F\n",
    "        conv_F_out = self.conv_F(pool_E_out)\n",
    "        iaf_F_out = self.iaf_F(conv_F_out)\n",
    "        pool_F_out = self.pool_F(iaf_F_out)\n",
    "\n",
    "        # ---\n",
    "\n",
    "        flat_brach1_out = self.flat_brach1(pool_C_out)\n",
    "        flat_brach2_out = self.flat_brach2(pool_F_out)\n",
    "        merge_out = self.merge(flat_brach1_out, flat_brach2_out)\n",
    "\n",
    "        # FC 7 - G\n",
    "        fc1_out = self.fc1(merge_out)\n",
    "        iaf1_fc_out = self.iaf1_fc(fc1_out)\n",
    "        # FC 8 - H\n",
    "        fc2_out = self.fc2(iaf1_fc_out)\n",
    "        iaf2_fc_out = self.iaf2_fc(fc2_out)\n",
    "        # FC 9 - I\n",
    "        fc3_out = self.fc3(iaf2_fc_out)\n",
    "        iaf3_fc_out = self.iaf3_fc(fc3_out)\n",
    "\n",
    "        return iaf3_fc_out\n",
    "    \n",
    "snn = SNN(11, 1, PeriodicExponential())"
   ]
  },
  {
   "cell_type": "markdown",
   "metadata": {},
   "source": [
    "## DynapcnnNetwork Class\n",
    "\n",
    "In the constructor of `DynapcnnNetworkGraph` the SNN passed as argument (defined as a `nn.Module`) will be parsed such that each layer is represented in a computational graph (using `nirtorch.extract_torch_graph`). \n",
    "\n",
    "The layers are the `nodes` of the graph, while their connectivity (how the outputs from a layer are sent to other layers) is represented as `edges`, represented in a `list` of `tuples`.\n",
    "\n",
    "Once the constructor finishes its initialization, the `hw_model.dynapcnn_layers` property is a dictionary where each entry represents the ID of a `DynapcnnLayer` instance (an `int` from `0` to `L`), with this entry containing a `DynapcnnLayer` instance where a subset of the layers in the original SNN has been incorporated into, the core such instance has been assigned to, and the list of `DynapcnnLayer` instances (their IDs) the layer targets."
   ]
  },
  {
   "cell_type": "code",
   "execution_count": 5,
   "metadata": {
    "metadata": {}
   },
   "outputs": [],
   "source": [
    "hw_model = DynapcnnNetworkGraph(\n",
    "    snn,\n",
    "    discretize=True,\n",
    "    input_shape=input_shape\n",
    ")"
   ]
  },
  {
   "cell_type": "markdown",
   "metadata": {},
   "source": [
    "The `hw_model.to()` call will figure out into which core eac `DynapcnnLayer` instance will be assigned to. Once this assingment is made the instance itself is used to configure the `CNNLayerConfig` instance representing the core's configuration.\n",
    "\n",
    "If the cores' configuration is valid, each `DynapcnnLayer` instance and their respective destinations will be used to create a computational graph that encodes how the `forward` method of `hw_model.network` (a `nn.Module` using the `DynapcnnLayer` instances) propagates that through the network."
   ]
  },
  {
   "cell_type": "code",
   "execution_count": 6,
   "metadata": {
    "metadata": {}
   },
   "outputs": [
    {
     "name": "stdout",
     "output_type": "stream",
     "text": [
      "Network is valid\n"
     ]
    },
    {
     "data": {
      "text/plain": [
       "<sinabs.backend.dynapcnn.dynapcnn_network_graph.DynapcnnNetworkGraph at 0x7fac1bdc5250>"
      ]
     },
     "execution_count": 6,
     "metadata": {},
     "output_type": "execute_result"
    }
   ],
   "source": [
    "hw_model.to(device=\"speck2fmodule:0\")"
   ]
  },
  {
   "cell_type": "markdown",
   "metadata": {},
   "source": [
    "The layers comprising our `hw_model` and their respective metadata can be inspected by calling `print` on a `DynapcnnNetworkGraph` instance."
   ]
  },
  {
   "cell_type": "code",
   "execution_count": 7,
   "metadata": {
    "metadata": {}
   },
   "outputs": [
    {
     "name": "stdout",
     "output_type": "stream",
     "text": [
      "---- DynapcnnLayer 0 ----------------------------------------------------------\n",
      "> layer modules: \n",
      "(node 0): Conv2d(2, 4, kernel_size=(2, 2), stride=(1, 1), bias=False)\n",
      "(node 1): IAFSqueeze(spike_threshold=Parameter containing:\n",
      "tensor(758.), min_v_mem=Parameter containing:\n",
      "tensor(-119.), batch_size=1, num_timesteps=-1)\n",
      "> layer destinations: [1]\n",
      "> assigned core: 0\n",
      "\n",
      "---- DynapcnnLayer 1 ----------------------------------------------------------\n",
      "> layer modules: \n",
      "(node 2): Conv2d(4, 4, kernel_size=(2, 2), stride=(1, 1), bias=False)\n",
      "(node 3): IAFSqueeze(spike_threshold=Parameter containing:\n",
      "tensor(1022.), min_v_mem=Parameter containing:\n",
      "tensor(-160.), batch_size=1, num_timesteps=-1)\n",
      "(node 4): SumPool2d(norm_type=1, kernel_size=2, stride=2, ceil_mode=False)\n",
      "> layer destinations: [2]\n",
      "> assigned core: 1\n",
      "\n",
      "---- DynapcnnLayer 2 ----------------------------------------------------------\n",
      "> layer modules: \n",
      "(node 5): Conv2d(4, 4, kernel_size=(2, 2), stride=(1, 1), bias=False)\n",
      "(node 6): IAFSqueeze(spike_threshold=Parameter containing:\n",
      "tensor(1062.), min_v_mem=Parameter containing:\n",
      "tensor(-166.), batch_size=1, num_timesteps=-1)\n",
      "(node 7): SumPool2d(norm_type=1, kernel_size=2, stride=2, ceil_mode=False)\n",
      "> layer destinations: [3]\n",
      "> assigned core: 2\n",
      "\n",
      "---- DynapcnnLayer 3 ----------------------------------------------------------\n",
      "> layer modules: \n",
      "(node 17): Conv2d(4, 200, kernel_size=(7, 7), stride=(1, 1), bias=False)\n",
      "(node 18): IAFSqueeze(spike_threshold=Parameter containing:\n",
      "tensor(3556.), min_v_mem=Parameter containing:\n",
      "tensor(-557.), batch_size=1, num_timesteps=-1)\n",
      "> layer destinations: [7]\n",
      "> assigned core: 5\n",
      "\n",
      "---- DynapcnnLayer 4 ----------------------------------------------------------\n",
      "> layer modules: \n",
      "(node 8): Conv2d(2, 4, kernel_size=(2, 2), stride=(1, 1), bias=False)\n",
      "(node 9): IAFSqueeze(spike_threshold=Parameter containing:\n",
      "tensor(796.), min_v_mem=Parameter containing:\n",
      "tensor(-125.), batch_size=1, num_timesteps=-1)\n",
      "> layer destinations: [5]\n",
      "> assigned core: 3\n",
      "\n",
      "---- DynapcnnLayer 5 ----------------------------------------------------------\n",
      "> layer modules: \n",
      "(node 10): Conv2d(4, 4, kernel_size=(2, 2), stride=(1, 1), bias=False)\n",
      "(node 11): IAFSqueeze(spike_threshold=Parameter containing:\n",
      "tensor(1027.), min_v_mem=Parameter containing:\n",
      "tensor(-161.), batch_size=1, num_timesteps=-1)\n",
      "(node 12): SumPool2d(norm_type=1, kernel_size=2, stride=2, ceil_mode=False)\n",
      "> layer destinations: [6]\n",
      "> assigned core: 4\n",
      "\n",
      "---- DynapcnnLayer 6 ----------------------------------------------------------\n",
      "> layer modules: \n",
      "(node 13): Conv2d(4, 4, kernel_size=(2, 2), stride=(1, 1), bias=False)\n",
      "(node 14): IAFSqueeze(spike_threshold=Parameter containing:\n",
      "tensor(1033.), min_v_mem=Parameter containing:\n",
      "tensor(-162.), batch_size=1, num_timesteps=-1)\n",
      "(node 15): SumPool2d(norm_type=1, kernel_size=2, stride=2, ceil_mode=False)\n",
      "> layer destinations: [3]\n",
      "> assigned core: 8\n",
      "\n",
      "---- DynapcnnLayer 7 ----------------------------------------------------------\n",
      "> layer modules: \n",
      "(node 19): Conv2d(200, 200, kernel_size=(1, 1), stride=(1, 1), bias=False)\n",
      "(node 20): IAFSqueeze(spike_threshold=Parameter containing:\n",
      "tensor(3592.), min_v_mem=Parameter containing:\n",
      "tensor(-562.), batch_size=1, num_timesteps=-1)\n",
      "> layer destinations: [8]\n",
      "> assigned core: 6\n",
      "\n",
      "---- DynapcnnLayer 8 ----------------------------------------------------------\n",
      "> layer modules: \n",
      "(node 21): Conv2d(200, 11, kernel_size=(1, 1), stride=(1, 1), bias=False)\n",
      "(node 22): IAFSqueeze(spike_threshold=Parameter containing:\n",
      "tensor(3592.), min_v_mem=Parameter containing:\n",
      "tensor(-562.), batch_size=1, num_timesteps=-1)\n",
      "> layer destinations: []\n",
      "> assigned core: 7\n",
      "\n",
      "\n"
     ]
    }
   ],
   "source": [
    "print(hw_model)"
   ]
  }
 ],
 "metadata": {
  "kernelspec": {
   "display_name": "speck-rescnn",
   "language": "python",
   "name": "python3"
  },
  "language_info": {
   "codemirror_mode": {
    "name": "ipython",
    "version": 3
   },
   "file_extension": ".py",
   "mimetype": "text/x-python",
   "name": "python",
   "nbconvert_exporter": "python",
   "pygments_lexer": "ipython3",
   "version": "3.11.3"
  }
 },
 "nbformat": 4,
 "nbformat_minor": 2
}

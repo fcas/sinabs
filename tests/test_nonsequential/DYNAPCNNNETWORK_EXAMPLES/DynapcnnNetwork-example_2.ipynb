{
 "cells": [
  {
   "cell_type": "code",
   "execution_count": 1,
   "metadata": {
    "metadata": {}
   },
   "outputs": [],
   "source": [
    "import torch\n",
    "import torch.nn as nn\n",
    "from sinabs.backend.dynapcnn import DynapcnnNetworkGraph\n",
    "from sinabs.layers import Merge, IAFSqueeze"
   ]
  },
  {
   "cell_type": "code",
   "execution_count": 2,
   "metadata": {
    "metadata": {}
   },
   "outputs": [
    {
     "data": {
      "text/plain": [
       "<torch._C.Generator at 0x7f1f01613b90>"
      ]
     },
     "execution_count": 2,
     "metadata": {},
     "output_type": "execute_result"
    }
   ],
   "source": [
    "torch.manual_seed(0)"
   ]
  },
  {
   "cell_type": "code",
   "execution_count": 3,
   "metadata": {
    "metadata": {}
   },
   "outputs": [],
   "source": [
    "channels = 2\n",
    "height = 34\n",
    "width = 34\n",
    "\n",
    "input_shape = (channels, height, width)"
   ]
  },
  {
   "cell_type": "markdown",
   "metadata": {},
   "source": [
    "## Network Module\n",
    "\n",
    "We need to define a `nn.Module` implementing the network we want the chip to reproduce."
   ]
  },
  {
   "cell_type": "code",
   "execution_count": 4,
   "metadata": {
    "metadata": {}
   },
   "outputs": [],
   "source": [
    "class SNN(nn.Module):\n",
    "    def __init__(self) -> None:\n",
    "        super().__init__()\n",
    "\n",
    "        self.conv1 = nn.Conv2d(2, 10, 2, 1, bias=False)\n",
    "        self.conv1_iaf = IAFSqueeze(batch_size=1)\n",
    "        self.pool1 = nn.AvgPool2d(3,3)\n",
    "        self.pool1a = nn.AvgPool2d(4,4)\n",
    "\n",
    "        self.conv2 = nn.Conv2d(10, 10, 4, 1, bias=False)\n",
    "        self.conv2_iaf = IAFSqueeze(batch_size=1)\n",
    "\n",
    "        self.conv3 = nn.Conv2d(10, 1, 2, 1, bias=False)\n",
    "        self.conv3_iaf = IAFSqueeze(batch_size=1)\n",
    "\n",
    "        self.flat = nn.Flatten()\n",
    "\n",
    "        self.fc1 = nn.Linear(49, 100, bias=False)\n",
    "        self.fc1_iaf = IAFSqueeze(batch_size=1)\n",
    "        \n",
    "        self.fc2 = nn.Linear(100, 100, bias=False)\n",
    "        self.fc2_iaf = IAFSqueeze(batch_size=1)\n",
    "\n",
    "        self.fc3 = nn.Linear(100, 10, bias=False)\n",
    "        self.fc3_iaf = IAFSqueeze(batch_size=1)\n",
    "\n",
    "        self.merge1 = Merge()\n",
    "\n",
    "    def forward(self, x):\n",
    "        # -- conv. block 1 --\n",
    "        con1_out = self.conv1(x)\n",
    "        conv1_iaf_out = self.conv1_iaf(con1_out)\n",
    "        pool1_out = self.pool1(conv1_iaf_out)\n",
    "        pool1a_out = self.pool1a(conv1_iaf_out)\n",
    "        # -- conv. block 2 --\n",
    "        conv2_out = self.conv2(pool1_out)\n",
    "        conv2_iaf_out = self.conv2_iaf(conv2_out)\n",
    "        # -- conv. block 3 --\n",
    "        merge1_out = self.merge1(pool1a_out, conv2_iaf_out)\n",
    "        conv3_out = self.conv3(merge1_out)\n",
    "        conv3_iaf_out = self.conv3_iaf(conv3_out)\n",
    "        flat_out = self.flat(conv3_iaf_out)\n",
    "        # -- fc clock 1 --\n",
    "        fc1_out = self.fc1(flat_out)\n",
    "        fc1_iaf_out = self.fc1_iaf(fc1_out)\n",
    "        # -- fc clock 2 --\n",
    "        fc2_out = self.fc2(fc1_iaf_out)\n",
    "        fc2_iaf_out = self.fc2_iaf(fc2_out)\n",
    "        # -- fc clock 3 --\n",
    "        fc3_out = self.fc3(fc2_iaf_out)\n",
    "        fc3_iaf_out = self.fc3_iaf(fc3_out)\n",
    "\n",
    "        return fc3_iaf_out"
   ]
  },
  {
   "cell_type": "code",
   "execution_count": 5,
   "metadata": {
    "metadata": {}
   },
   "outputs": [],
   "source": [
    "snn = SNN()"
   ]
  },
  {
   "cell_type": "markdown",
   "metadata": {},
   "source": [
    "The following exemplifies how each of the layers in the SNN should be grouped together to form a `DynapcnnLayer` instance. Let's check the shapes of the tensors each of the (original) layers in the model inputs and outputs by feeding a fake input through the model:"
   ]
  },
  {
   "cell_type": "code",
   "execution_count": 6,
   "metadata": {
    "metadata": {}
   },
   "outputs": [
    {
     "name": "stdout",
     "output_type": "stream",
     "text": [
      "torch.Size([1, 10, 33, 33])\n",
      "torch.Size([1, 10, 33, 33])\n",
      "torch.Size([1, 10, 11, 11])\n",
      "torch.Size([1, 10, 8, 8])\n",
      "torch.Size([1, 10, 8, 8])\n",
      "torch.Size([1, 10, 8, 8])\n",
      "torch.Size([1, 10, 8, 8])\n",
      "torch.Size([1, 1, 7, 7])\n",
      "torch.Size([1, 1, 7, 7])\n",
      "torch.Size([1, 49])\n",
      "torch.Size([1, 100])\n",
      "torch.Size([1, 100])\n",
      "torch.Size([1, 100])\n",
      "torch.Size([1, 100])\n",
      "torch.Size([1, 10])\n",
      "torch.Size([1, 10])\n"
     ]
    }
   ],
   "source": [
    "x = torch.randn((1, *input_shape))\n",
    "\n",
    "# -- conv. block 1 --\n",
    "con1_out = snn.conv1(x)\n",
    "print(con1_out.shape)\n",
    "conv1_iaf_out = snn.conv1_iaf(con1_out)\n",
    "print(conv1_iaf_out.shape)\n",
    "pool1_out = snn.pool1(conv1_iaf_out)\n",
    "print(pool1_out.shape)\n",
    "pool1a_out = snn.pool1a(conv1_iaf_out)\n",
    "print(pool1a_out.shape)\n",
    "# -- conv. block 2 --\n",
    "conv2_out = snn.conv2(pool1_out)\n",
    "print(conv2_out.shape)\n",
    "conv2_iaf_out = snn.conv2_iaf(conv2_out)\n",
    "print(conv2_iaf_out.shape)\n",
    "# -- conv. block 3 --\n",
    "merge1_out = snn.merge1(pool1a_out, conv2_iaf_out)\n",
    "print(merge1_out.shape)\n",
    "conv3_out = snn.conv3(merge1_out)\n",
    "print(conv3_out.shape)\n",
    "conv3_iaf_out = snn.conv3_iaf(conv3_out)\n",
    "print(conv3_iaf_out.shape)\n",
    "flat_out = snn.flat(conv3_iaf_out)\n",
    "print(flat_out.shape)\n",
    "# -- fc clock 1 --\n",
    "fc1_out = snn.fc1(flat_out)\n",
    "print(fc1_out.shape)\n",
    "fc1_iaf_out = snn.fc1_iaf(fc1_out)\n",
    "print(fc1_iaf_out.shape)\n",
    "# -- fc clock 2 --\n",
    "fc2_out = snn.fc2(fc1_iaf_out)\n",
    "print(fc2_out.shape)\n",
    "fc2_iaf_out = snn.fc2_iaf(fc2_out)\n",
    "print(fc2_iaf_out.shape)\n",
    "# -- fc clock 3 --\n",
    "fc3_out = snn.fc3(fc2_iaf_out)\n",
    "print(fc3_out.shape)\n",
    "fc3_iaf_out = snn.fc3_iaf(fc3_out)\n",
    "print(fc3_iaf_out.shape)"
   ]
  },
  {
   "cell_type": "markdown",
   "metadata": {},
   "source": [
    "## DynapcnnNetwork Class\n",
    "\n",
    "In the constructor of `DynapcnnNetworkGraph` the SNN passed as argument (defined as a `nn.Module`) will be parsed such that each layer is represented in a computational graph (using `nirtorch.extract_torch_graph`). \n",
    "\n",
    "The layers are the `nodes` of the graph, while their connectivity (how the outputs from a layer are sent to other layers) is represented as `edges`, represented in a `list` of `tuples`.\n",
    "\n",
    "Once the constructor finishes its initialization, the `hw_model.dynapcnn_layers` property is a dictionary where each entry represents the ID of a `DynapcnnLayer` instance (an `int` from `0` to `L`), with this entry containing a `DynapcnnLayer` instance where a subset of the layers in the original SNN has been incorporated into, the core such instance has been assigned to, and the list of `DynapcnnLayer` instances (their IDs) the layer targets."
   ]
  },
  {
   "cell_type": "code",
   "execution_count": 7,
   "metadata": {
    "metadata": {}
   },
   "outputs": [],
   "source": [
    "hw_model = DynapcnnNetworkGraph(\n",
    "    snn,\n",
    "    discretize=True,\n",
    "    input_shape=input_shape\n",
    ")"
   ]
  },
  {
   "cell_type": "markdown",
   "metadata": {},
   "source": [
    "The `hw_model.to()` call will figure out into which core eac `DynapcnnLayer` instance will be assigned to. Once this assingment is made the instance itself is used to configure the `CNNLayerConfig` instance representing the core's configuration.\n",
    "\n",
    "If the cores' configuration is valid, each `DynapcnnLayer` instance and their respective destinations will be used to create a computational graph that encodes how the `forward` method of `hw_model.network` (a `nn.Module` using the `DynapcnnLayer` instances) propagates that through the network."
   ]
  },
  {
   "cell_type": "code",
   "execution_count": 8,
   "metadata": {
    "metadata": {}
   },
   "outputs": [
    {
     "name": "stdout",
     "output_type": "stream",
     "text": [
      "Network is valid\n",
      "(0, 1)\n",
      "(0, 2)\n",
      "(1, 2)\n",
      "(2, 3)\n",
      "(3, 4)\n",
      "(4, 5)\n"
     ]
    },
    {
     "ename": "RuntimeError",
     "evalue": "Device is already opened!",
     "output_type": "error",
     "traceback": [
      "\u001b[0;31m---------------------------------------------------------------------------\u001b[0m",
      "\u001b[0;31mRuntimeError\u001b[0m                              Traceback (most recent call last)",
      "Cell \u001b[0;32mIn[8], line 1\u001b[0m\n\u001b[0;32m----> 1\u001b[0m hw_model\u001b[38;5;241m.\u001b[39mto(device\u001b[38;5;241m=\u001b[39m\u001b[38;5;124m\"\u001b[39m\u001b[38;5;124mspeck2fmodule:0\u001b[39m\u001b[38;5;124m\"\u001b[39m)\n",
      "File \u001b[0;32m~/Documents/github/sinabs/sinabs/backend/dynapcnn/dynapcnn_network_graph.py:172\u001b[0m, in \u001b[0;36mDynapcnnNetworkGraph.to\u001b[0;34m(self, device, chip_layers_ordering, monitor_layers, config_modifier, slow_clk_frequency)\u001b[0m\n\u001b[1;32m    163\u001b[0m \u001b[38;5;28;01mif\u001b[39;00m device_name \u001b[38;5;129;01min\u001b[39;00m ChipFactory\u001b[38;5;241m.\u001b[39msupported_devices:                \u001b[38;5;66;03m# pragma: no cover\u001b[39;00m\n\u001b[1;32m    165\u001b[0m     config \u001b[38;5;241m=\u001b[39m \u001b[38;5;28mself\u001b[39m\u001b[38;5;241m.\u001b[39mmake_config(                                  \u001b[38;5;66;03m# generate config.\u001b[39;00m\n\u001b[1;32m    166\u001b[0m         chip_layers_ordering\u001b[38;5;241m=\u001b[39mchip_layers_ordering,\n\u001b[1;32m    167\u001b[0m         device\u001b[38;5;241m=\u001b[39mdevice,\n\u001b[1;32m    168\u001b[0m         monitor_layers\u001b[38;5;241m=\u001b[39mmonitor_layers,\n\u001b[1;32m    169\u001b[0m         config_modifier\u001b[38;5;241m=\u001b[39mconfig_modifier,\n\u001b[1;32m    170\u001b[0m     )\n\u001b[0;32m--> 172\u001b[0m     \u001b[38;5;28mself\u001b[39m\u001b[38;5;241m.\u001b[39msamna_device \u001b[38;5;241m=\u001b[39m open_device(device)                     \u001b[38;5;66;03m# apply configuration to device.\u001b[39;00m\n\u001b[1;32m    173\u001b[0m     \u001b[38;5;28mself\u001b[39m\u001b[38;5;241m.\u001b[39msamna_device\u001b[38;5;241m.\u001b[39mget_model()\u001b[38;5;241m.\u001b[39mapply_configuration(config)\n\u001b[1;32m    174\u001b[0m     time\u001b[38;5;241m.\u001b[39msleep(\u001b[38;5;241m1\u001b[39m)\n",
      "File \u001b[0;32m~/Documents/github/sinabs/sinabs/backend/dynapcnn/io.py:256\u001b[0m, in \u001b[0;36mopen_device\u001b[0;34m(device_id)\u001b[0m\n\u001b[1;32m    254\u001b[0m device_map \u001b[38;5;241m=\u001b[39m get_device_map()\n\u001b[1;32m    255\u001b[0m device_info \u001b[38;5;241m=\u001b[39m device_map[device_id]\n\u001b[0;32m--> 256\u001b[0m device_handle \u001b[38;5;241m=\u001b[39m samna\u001b[38;5;241m.\u001b[39mdevice\u001b[38;5;241m.\u001b[39mopen_device(device_info)\n\u001b[1;32m    258\u001b[0m \u001b[38;5;28;01mif\u001b[39;00m device_handle \u001b[38;5;129;01mis\u001b[39;00m \u001b[38;5;129;01mnot\u001b[39;00m \u001b[38;5;28;01mNone\u001b[39;00m:\n\u001b[1;32m    259\u001b[0m     \u001b[38;5;28;01mreturn\u001b[39;00m device_handle\n",
      "\u001b[0;31mRuntimeError\u001b[0m: Device is already opened!"
     ]
    }
   ],
   "source": [
    "hw_model.to(device=\"speck2fmodule:0\")"
   ]
  },
  {
   "cell_type": "markdown",
   "metadata": {},
   "source": [
    "The layers comprising our `hw_model` and their respective metadata can be inspected by calling `print` on a `DynapcnnNetworkGraph` instance."
   ]
  },
  {
   "cell_type": "code",
   "execution_count": null,
   "metadata": {
    "metadata": {}
   },
   "outputs": [
    {
     "name": "stdout",
     "output_type": "stream",
     "text": [
      "---- DynapcnnLayer 0 ----------------------------------------------------------\n",
      "> layer modules: \n",
      "(node 0): Conv2d(2, 10, kernel_size=(2, 2), stride=(1, 1), bias=False)\n",
      "(node 1): IAFSqueeze(spike_threshold=Parameter containing:\n",
      "tensor(1.), min_v_mem=Parameter containing:\n",
      "tensor(-32768.), batch_size=1, num_timesteps=-1)\n",
      "(node 2): SumPool2d(norm_type=1, kernel_size=(3, 3), stride=None, ceil_mode=False)\n",
      "(node 3): SumPool2d(norm_type=1, kernel_size=(4, 4), stride=None, ceil_mode=False)\n",
      "> layer destinations: [1, 2]\n",
      "> assigned core: 0\n",
      "\n",
      "---- DynapcnnLayer 1 ----------------------------------------------------------\n",
      "> layer modules: \n",
      "(node 4): Conv2d(10, 10, kernel_size=(4, 4), stride=(1, 1), bias=False)\n",
      "(node 6): IAFSqueeze(spike_threshold=Parameter containing:\n",
      "tensor(1.), min_v_mem=Parameter containing:\n",
      "tensor(-32768.), batch_size=1, num_timesteps=-1)\n",
      "> layer destinations: [2]\n",
      "> assigned core: 1\n",
      "\n",
      "---- DynapcnnLayer 2 ----------------------------------------------------------\n",
      "> layer modules: \n",
      "(node 7): Conv2d(10, 1, kernel_size=(2, 2), stride=(1, 1), bias=False)\n",
      "(node 8): IAFSqueeze(spike_threshold=Parameter containing:\n",
      "tensor(1.), min_v_mem=Parameter containing:\n",
      "tensor(-32768.), batch_size=1, num_timesteps=-1)\n",
      "> layer destinations: [3]\n",
      "> assigned core: 2\n",
      "\n",
      "---- DynapcnnLayer 3 ----------------------------------------------------------\n",
      "> layer modules: \n",
      "(node 9): Conv2d(1, 100, kernel_size=(7, 7), stride=(1, 1), bias=False)\n",
      "(node 10): IAFSqueeze(spike_threshold=Parameter containing:\n",
      "tensor(1.), min_v_mem=Parameter containing:\n",
      "tensor(-32768.), batch_size=1, num_timesteps=-1)\n",
      "> layer destinations: [4]\n",
      "> assigned core: 3\n",
      "\n",
      "---- DynapcnnLayer 4 ----------------------------------------------------------\n",
      "> layer modules: \n",
      "(node 11): Conv2d(100, 100, kernel_size=(1, 1), stride=(1, 1), bias=False)\n",
      "(node 12): IAFSqueeze(spike_threshold=Parameter containing:\n",
      "tensor(1.), min_v_mem=Parameter containing:\n",
      "tensor(-32768.), batch_size=1, num_timesteps=-1)\n",
      "> layer destinations: [5]\n",
      "> assigned core: 4\n",
      "\n",
      "---- DynapcnnLayer 5 ----------------------------------------------------------\n",
      "> layer modules: \n",
      "(node 13): Conv2d(100, 10, kernel_size=(1, 1), stride=(1, 1), bias=False)\n",
      "(node 14): IAFSqueeze(spike_threshold=Parameter containing:\n",
      "tensor(1.), min_v_mem=Parameter containing:\n",
      "tensor(-32768.), batch_size=1, num_timesteps=-1)\n",
      "> layer destinations: []\n",
      "> assigned core: 5\n",
      "\n",
      "\n"
     ]
    }
   ],
   "source": [
    "print(hw_model)"
   ]
  }
 ],
 "metadata": {
  "kernelspec": {
   "display_name": "speck-rescnn",
   "language": "python",
   "name": "python3"
  },
  "language_info": {
   "codemirror_mode": {
    "name": "ipython",
    "version": 3
   },
   "file_extension": ".py",
   "mimetype": "text/x-python",
   "name": "python",
   "nbconvert_exporter": "python",
   "pygments_lexer": "ipython3",
   "version": "3.11.3"
  }
 },
 "nbformat": 4,
 "nbformat_minor": 2
}

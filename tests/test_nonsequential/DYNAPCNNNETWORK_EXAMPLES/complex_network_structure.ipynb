{
 "cells": [
  {
   "cell_type": "code",
   "execution_count": 1,
   "metadata": {
    "metadata": {}
   },
   "outputs": [],
   "source": [
    "import torch\n",
    "import torch.nn as nn\n",
    "from sinabs.backend.dynapcnn import DynapcnnNetworkGraph\n",
    "from sinabs.layers import Merge, IAFSqueeze, SumPool2d\n",
    "import sinabs.layers as sl\n",
    "from sinabs.activation.surrogate_gradient_fn import PeriodicExponential"
   ]
  },
  {
   "cell_type": "code",
   "execution_count": 2,
   "metadata": {
    "metadata": {}
   },
   "outputs": [
    {
     "data": {
      "text/plain": [
       "<torch._C.Generator at 0x7f54e253bad0>"
      ]
     },
     "execution_count": 2,
     "metadata": {},
     "output_type": "execute_result"
    }
   ],
   "source": [
    "torch.manual_seed(0)"
   ]
  },
  {
   "cell_type": "code",
   "execution_count": 3,
   "metadata": {
    "metadata": {}
   },
   "outputs": [],
   "source": [
    "channels = 2\n",
    "height = 34\n",
    "width = 34\n",
    "\n",
    "input_shape = (channels, height, width)"
   ]
  },
  {
   "cell_type": "markdown",
   "metadata": {},
   "source": [
    "## Network Module\n",
    "\n",
    "We need to define a `nn.Module` implementing the network we want the chip to reproduce."
   ]
  },
  {
   "cell_type": "markdown",
   "metadata": {},
   "source": [
    "```mermaid\n",
    "stateDiagram\n",
    "    [*] --> A\n",
    "    A --> B\n",
    "    A --> C\n",
    "    C --> D\n",
    "    C --> E\n",
    "    B --> D\n",
    "    D --> F\n",
    "    E --> F\n",
    "    F --> [*]\n",
    "```"
   ]
  },
  {
   "cell_type": "code",
   "execution_count": 13,
   "metadata": {
    "metadata": {}
   },
   "outputs": [
    {
     "name": "stdout",
     "output_type": "stream",
     "text": [
      "torch.Size([8, 10, 16, 16]) torch.Size([8, 10, 16, 16])\n",
      "torch.Size([8, 250])\n",
      "torch.Size([8, 250]) torch.Size([8, 250])\n"
     ]
    }
   ],
   "source": [
    "class SNN(nn.Module):\n",
    "    def __init__(self, nb_classes, batch_size, surrogate_fn, min_v_mem=-0.313, spk_thr=2.0) -> None:\n",
    "        super().__init__()\n",
    "\n",
    "        self.conv1 = nn.Conv2d(2, 10, 2, 1, bias=False)\n",
    "        self.iaf1 = IAFSqueeze(batch_size=batch_size, min_v_mem=min_v_mem, surrogate_grad_fn=surrogate_fn, spike_threshold=spk_thr)\n",
    "\n",
    "        self.conv2 = nn.Conv2d(10, 10, 2, 1, bias=False)\n",
    "        self.iaf2 = IAFSqueeze(batch_size=batch_size, min_v_mem=min_v_mem, surrogate_grad_fn=surrogate_fn, spike_threshold=spk_thr)\n",
    "        self.pool2 = sl.SumPool2d(2,2)\n",
    "\n",
    "        self.conv3 = nn.Conv2d(10, 10, 2, 1, bias=False)\n",
    "        self.iaf3 = IAFSqueeze(batch_size=batch_size, min_v_mem=min_v_mem, surrogate_grad_fn=surrogate_fn, spike_threshold=spk_thr)\n",
    "        self.pool3 = sl.SumPool2d(2,2)\n",
    "        self.pool3a = sl.SumPool2d(6,6)\n",
    "\n",
    "        self.conv4 = nn.Conv2d(10, 10, 2, 1, bias=False)\n",
    "        self.iaf4 = IAFSqueeze(batch_size=batch_size, min_v_mem=min_v_mem, surrogate_grad_fn=surrogate_fn, spike_threshold=spk_thr)\n",
    "        self.pool4 = sl.SumPool2d(3,3)\n",
    "\n",
    "        self.flat = nn.Flatten()\n",
    "        self.flat_a = nn.Flatten()\n",
    "\n",
    "        self.fc1 = nn.Linear(250, 250, bias=False)\n",
    "        self.iaf1_fc = IAFSqueeze(batch_size=batch_size, min_v_mem=min_v_mem, surrogate_grad_fn=surrogate_fn, spike_threshold=spk_thr)\n",
    "\n",
    "        self.fc2 = nn.Linear(250, nb_classes, bias=False)\n",
    "        self.iaf2_fc = IAFSqueeze(batch_size=batch_size, min_v_mem=min_v_mem, surrogate_grad_fn=surrogate_fn, spike_threshold=spk_thr)\n",
    "\n",
    "        # -- merges --\n",
    "        self.merge1 = Merge()\n",
    "        self.merge2 = Merge()\n",
    "\n",
    "    def forward(self, x):\n",
    "        # conv 1 - A\n",
    "        con1_out = self.conv1(x)\n",
    "        iaf1_out = self.iaf1(con1_out)\n",
    "\n",
    "        # conv 2 - B\n",
    "        conv2_out = self.conv2(iaf1_out)\n",
    "        iaf2_out = self.iaf2(conv2_out)\n",
    "        pool2_out = self.pool2(iaf2_out)\n",
    "\n",
    "        # conv 3 - C\n",
    "        conv3_out = self.conv3(iaf1_out)\n",
    "        iaf3_out = self.iaf3(conv3_out)\n",
    "        pool3_out = self.pool3(iaf3_out)\n",
    "        pool3a_out = self.pool3a(iaf3_out)\n",
    "\n",
    "        # conv 4 - D\n",
    "        print(pool2_out.shape, pool3_out.shape)\n",
    "        merge1_out = self.merge1(pool2_out, pool3_out)\n",
    "        conv4_out = self.conv4(merge1_out)\n",
    "        iaf4_out = self.iaf4(conv4_out)\n",
    "        pool4_out = self.pool4(iaf4_out)\n",
    "        flat_out = self.flat(pool4_out)\n",
    "        \n",
    "        # fc 1 - E\n",
    "        flat_a_out = self.flat_a(pool3a_out)\n",
    "        print(flat_a_out.shape)\n",
    "        fc1_out = self.fc1(flat_a_out)\n",
    "        iaf1_fc_out = self.iaf1_fc(fc1_out)\n",
    "\n",
    "        # fc 2 - F\n",
    "        print(iaf1_fc_out.shape, flat_out.shape)\n",
    "        merge2_out = self.merge2(iaf1_fc_out, flat_out)\n",
    "        fc2_out = self.fc2(merge2_out)\n",
    "        iaf2_fc_out = self.iaf2_fc(fc2_out)\n",
    "\n",
    "        return iaf2_fc_out\n",
    "    \n",
    "snn = SNN(11, 8, PeriodicExponential())\n",
    "\n",
    "x = torch.randn((8, *input_shape))\n",
    "\n",
    "out = snn(x)"
   ]
  },
  {
   "cell_type": "markdown",
   "metadata": {},
   "source": [
    "## DynapcnnNetwork Class\n",
    "\n",
    "In the constructor of `DynapcnnNetworkGraph` the SNN passed as argument (defined as a `nn.Module`) will be parsed such that each layer is represented in a computational graph (using `nirtorch.extract_torch_graph`). \n",
    "\n",
    "The layers are the `nodes` of the graph, while their connectivity (how the outputs from a layer are sent to other layers) is represented as `edges`, represented in a `list` of `tuples`.\n",
    "\n",
    "Once the constructor finishes its initialization, the `hw_model.dynapcnn_layers` property is a dictionary where each entry represents the ID of a `DynapcnnLayer` instance (an `int` from `0` to `L`), with this entry containing a `DynapcnnLayer` instance where a subset of the layers in the original SNN has been incorporated into, the core such instance has been assigned to, and the list of `DynapcnnLayer` instances (their IDs) the layer targets."
   ]
  },
  {
   "cell_type": "code",
   "execution_count": 7,
   "metadata": {
    "metadata": {}
   },
   "outputs": [],
   "source": [
    "hw_model = DynapcnnNetworkGraph(\n",
    "    snn,\n",
    "    discretize=True,\n",
    "    input_shape=input_shape\n",
    ")"
   ]
  },
  {
   "cell_type": "markdown",
   "metadata": {},
   "source": [
    "The `hw_model.to()` call will figure out into which core eac `DynapcnnLayer` instance will be assigned to. Once this assingment is made the instance itself is used to configure the `CNNLayerConfig` instance representing the core's configuration.\n",
    "\n",
    "If the cores' configuration is valid, each `DynapcnnLayer` instance and their respective destinations will be used to create a computational graph that encodes how the `forward` method of `hw_model.network` (a `nn.Module` using the `DynapcnnLayer` instances) propagates that through the network."
   ]
  },
  {
   "cell_type": "code",
   "execution_count": 8,
   "metadata": {
    "metadata": {}
   },
   "outputs": [
    {
     "name": "stdout",
     "output_type": "stream",
     "text": [
      "Network is valid\n"
     ]
    },
    {
     "data": {
      "text/plain": [
       "<sinabs.backend.dynapcnn.dynapcnn_network_graph.DynapcnnNetworkGraph at 0x7efe9774ab10>"
      ]
     },
     "execution_count": 8,
     "metadata": {},
     "output_type": "execute_result"
    }
   ],
   "source": [
    "hw_model.to(device=\"speck2fmodule:0\")"
   ]
  },
  {
   "cell_type": "markdown",
   "metadata": {},
   "source": [
    "The layers comprising our `hw_model` and their respective metadata can be inspected by calling `print` on a `DynapcnnNetworkGraph` instance."
   ]
  },
  {
   "cell_type": "code",
   "execution_count": 9,
   "metadata": {
    "metadata": {}
   },
   "outputs": [
    {
     "name": "stdout",
     "output_type": "stream",
     "text": [
      "---- DynapcnnLayer 0 ----------------------------------------------------------\n",
      "> layer modules: \n",
      "(node 0): Conv2d(2, 10, kernel_size=(2, 2), stride=(1, 1), bias=False)\n",
      "(node 1): IAFSqueeze(spike_threshold=Parameter containing:\n",
      "tensor(1.), min_v_mem=Parameter containing:\n",
      "tensor(-32768.), batch_size=1, num_timesteps=-1)\n",
      "(node 2): SumPool2d(norm_type=1, kernel_size=3, stride=3, ceil_mode=False)\n",
      "(node 3): SumPool2d(norm_type=1, kernel_size=4, stride=4, ceil_mode=False)\n",
      "> layer destinations: [1, 2]\n",
      "> assigned core: 0\n",
      "\n",
      "---- DynapcnnLayer 1 ----------------------------------------------------------\n",
      "> layer modules: \n",
      "(node 4): Conv2d(10, 10, kernel_size=(4, 4), stride=(1, 1), bias=False)\n",
      "(node 6): IAFSqueeze(spike_threshold=Parameter containing:\n",
      "tensor(1.), min_v_mem=Parameter containing:\n",
      "tensor(-32768.), batch_size=1, num_timesteps=-1)\n",
      "> layer destinations: [2]\n",
      "> assigned core: 1\n",
      "\n",
      "---- DynapcnnLayer 2 ----------------------------------------------------------\n",
      "> layer modules: \n",
      "(node 7): Conv2d(10, 10, kernel_size=(2, 2), stride=(1, 1), bias=False)\n",
      "(node 8): IAFSqueeze(spike_threshold=Parameter containing:\n",
      "tensor(1.), min_v_mem=Parameter containing:\n",
      "tensor(-32768.), batch_size=1, num_timesteps=-1)\n",
      "> layer destinations: [3]\n",
      "> assigned core: 2\n",
      "\n",
      "---- DynapcnnLayer 3 ----------------------------------------------------------\n",
      "> layer modules: \n",
      "(node 9): Conv2d(10, 1, kernel_size=(2, 2), stride=(1, 1), bias=False)\n",
      "(node 10): IAFSqueeze(spike_threshold=Parameter containing:\n",
      "tensor(1.), min_v_mem=Parameter containing:\n",
      "tensor(-32768.), batch_size=1, num_timesteps=-1)\n",
      "> layer destinations: [4]\n",
      "> assigned core: 3\n",
      "\n",
      "---- DynapcnnLayer 4 ----------------------------------------------------------\n",
      "> layer modules: \n",
      "(node 11): Conv2d(1, 100, kernel_size=(6, 6), stride=(1, 1), bias=False)\n",
      "(node 12): IAFSqueeze(spike_threshold=Parameter containing:\n",
      "tensor(1.), min_v_mem=Parameter containing:\n",
      "tensor(-32768.), batch_size=1, num_timesteps=-1)\n",
      "> layer destinations: [5, 6]\n",
      "> assigned core: 4\n",
      "\n",
      "---- DynapcnnLayer 5 ----------------------------------------------------------\n",
      "> layer modules: \n",
      "(node 13): Conv2d(100, 100, kernel_size=(1, 1), stride=(1, 1), bias=False)\n",
      "(node 15): IAFSqueeze(spike_threshold=Parameter containing:\n",
      "tensor(1.), min_v_mem=Parameter containing:\n",
      "tensor(-32768.), batch_size=1, num_timesteps=-1)\n",
      "> layer destinations: [6, 7]\n",
      "> assigned core: 5\n",
      "\n",
      "---- DynapcnnLayer 6 ----------------------------------------------------------\n",
      "> layer modules: \n",
      "(node 17): Conv2d(100, 100, kernel_size=(1, 1), stride=(1, 1), bias=False)\n",
      "(node 18): IAFSqueeze(spike_threshold=Parameter containing:\n",
      "tensor(1.), min_v_mem=Parameter containing:\n",
      "tensor(-32768.), batch_size=1, num_timesteps=-1)\n",
      "> layer destinations: [7]\n",
      "> assigned core: 6\n",
      "\n",
      "---- DynapcnnLayer 7 ----------------------------------------------------------\n",
      "> layer modules: \n",
      "(node 19): Conv2d(100, 10, kernel_size=(1, 1), stride=(1, 1), bias=False)\n",
      "(node 20): IAFSqueeze(spike_threshold=Parameter containing:\n",
      "tensor(1.), min_v_mem=Parameter containing:\n",
      "tensor(-32768.), batch_size=1, num_timesteps=-1)\n",
      "> layer destinations: []\n",
      "> assigned core: 7\n",
      "\n",
      "\n"
     ]
    }
   ],
   "source": [
    "print(hw_model)"
   ]
  }
 ],
 "metadata": {
  "kernelspec": {
   "display_name": "speck-rescnn",
   "language": "python",
   "name": "python3"
  },
  "language_info": {
   "codemirror_mode": {
    "name": "ipython",
    "version": 3
   },
   "file_extension": ".py",
   "mimetype": "text/x-python",
   "name": "python",
   "nbconvert_exporter": "python",
   "pygments_lexer": "ipython3",
   "version": "3.11.3"
  }
 },
 "nbformat": 4,
 "nbformat_minor": 2
}

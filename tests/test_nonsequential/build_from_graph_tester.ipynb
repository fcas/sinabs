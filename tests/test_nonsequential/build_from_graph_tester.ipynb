{
 "cells": [
  {
   "cell_type": "code",
   "execution_count": 1,
   "metadata": {},
   "outputs": [],
   "source": [
    "import torch\n",
    "import torch.nn as nn\n",
    "import networkx as nx\n",
    "import matplotlib.pyplot as plt\n",
    "from sinabs.from_torch import from_model\n",
    "from sinabs.backend.dynapcnn import DynapcnnNetwork, DynapcnnNetworkGraph\n",
    "import sinabs as snb"
   ]
  },
  {
   "cell_type": "code",
   "execution_count": 2,
   "metadata": {},
   "outputs": [
    {
     "data": {
      "text/plain": [
       "<torch._C.Generator at 0x7f17f8d70c90>"
      ]
     },
     "execution_count": 2,
     "metadata": {},
     "output_type": "execute_result"
    }
   ],
   "source": [
    "torch.manual_seed(0)"
   ]
  },
  {
   "cell_type": "markdown",
   "metadata": {},
   "source": [
    "## Dummy Initialization"
   ]
  },
  {
   "cell_type": "code",
   "execution_count": 3,
   "metadata": {},
   "outputs": [],
   "source": [
    "channels = 1\n",
    "height = 28\n",
    "width = 28\n",
    "\n",
    "input_shape = (channels, height, width)"
   ]
  },
  {
   "cell_type": "code",
   "execution_count": 4,
   "metadata": {},
   "outputs": [],
   "source": [
    "ann = nn.Sequential(\n",
    "    nn.Conv2d(1, 20, 5, 1, bias=False),\n",
    "    nn.ReLU(),\n",
    "    nn.AvgPool2d(2,2),\n",
    "    nn.Conv2d(20, 32, 5, 1, bias=False),\n",
    "    nn.ReLU(),\n",
    "    nn.AvgPool2d(2,2),\n",
    "    nn.Conv2d(32, 128, 3, 1, bias=False),\n",
    "    nn.ReLU(),\n",
    "    nn.AvgPool2d(2,2),\n",
    "    nn.Flatten(),\n",
    "    nn.Linear(128, 500, bias=False),\n",
    "    nn.ReLU(),\n",
    "    nn.Flatten(),\n",
    "    nn.Linear(500, 10, bias=False),\n",
    ")"
   ]
  },
  {
   "cell_type": "code",
   "execution_count": 5,
   "metadata": {},
   "outputs": [],
   "source": [
    "sinabs_model = from_model(ann, add_spiking_output=True, batch_size=1)"
   ]
  },
  {
   "cell_type": "code",
   "execution_count": 6,
   "metadata": {},
   "outputs": [
    {
     "name": "stdout",
     "output_type": "stream",
     "text": [
      "\n",
      " [ ENTERED build_from_graph() ]\n",
      "\n",
      "node to DynapcnnLayer mapping:\n",
      "DynapcnnLayer index:  0\n",
      "     [0 <class 'torch.nn.modules.conv.Conv2d'>]\n",
      "     [1 <class 'sinabs.layers.iaf.IAFSqueeze'>]\n",
      "     [2 <class 'torch.nn.modules.pooling.AvgPool2d'>]\n",
      "DynapcnnLayer index:  1\n",
      "     [3 <class 'torch.nn.modules.conv.Conv2d'>]\n",
      "     [4 <class 'sinabs.layers.iaf.IAFSqueeze'>]\n",
      "     [5 <class 'torch.nn.modules.pooling.AvgPool2d'>]\n",
      "DynapcnnLayer index:  2\n",
      "     [6 <class 'torch.nn.modules.conv.Conv2d'>]\n",
      "     [7 <class 'sinabs.layers.iaf.IAFSqueeze'>]\n",
      "     [8 <class 'torch.nn.modules.pooling.AvgPool2d'>]\n",
      "DynapcnnLayer index:  3\n",
      "     [9 <class 'torch.nn.modules.linear.Linear'>]\n",
      "     [10 <class 'sinabs.layers.iaf.IAFSqueeze'>]\n",
      "DynapcnnLayer index:  4\n",
      "     [11 <class 'torch.nn.modules.linear.Linear'>]\n",
      "     [12 <class 'sinabs.layers.iaf.IAFSqueeze'>]\n",
      "\n",
      "DynapcnnLayer to DynapcnnLayer mapping:\n",
      "DynapcnnLayer 0 destinations: [1]\n",
      "DynapcnnLayer 1 destinations: [2]\n",
      "DynapcnnLayer 2 destinations: [3]\n",
      "DynapcnnLayer 3 destinations: [4]\n",
      "DynapcnnLayer 4 destinations: []\n"
     ]
    }
   ],
   "source": [
    "hw_model = DynapcnnNetworkGraph(\n",
    "    sinabs_model,\n",
    "    discretize=True,\n",
    "    input_shape=input_shape\n",
    ")"
   ]
  },
  {
   "cell_type": "markdown",
   "metadata": {},
   "source": [
    "## Valide Non-sequential Edges"
   ]
  },
  {
   "cell_type": "markdown",
   "metadata": {},
   "source": [
    "### Test 1"
   ]
  },
  {
   "cell_type": "code",
   "execution_count": 7,
   "metadata": {},
   "outputs": [],
   "source": [
    "dummy_layer_list = [\n",
    "    torch.nn.Conv2d(1, 20, kernel_size=(5, 5), stride=(1, 1), bias=False),\n",
    "    snb.layers.iaf.IAFSqueeze(batch_size=1),\n",
    "    torch.nn.AvgPool2d(kernel_size=2, stride=2, padding=0),\n",
    "    torch.nn.Conv2d(1, 20, kernel_size=(5, 5), stride=(1, 1), bias=False),\n",
    "    snb.layers.iaf.IAFSqueeze(batch_size=1),\n",
    "    torch.nn.AvgPool2d(kernel_size=2, stride=2, padding=0),\n",
    "    torch.nn.Conv2d(1, 20, kernel_size=(5, 5), stride=(1, 1), bias=False),\n",
    "    snb.layers.iaf.IAFSqueeze(batch_size=1),\n",
    "    torch.nn.AvgPool2d(kernel_size=2, stride=2, padding=0),\n",
    "    torch.nn.Linear(in_features=128, out_features=500, bias=False),\n",
    "    snb.layers.iaf.IAFSqueeze(batch_size=1),\n",
    "    torch.nn.Linear(in_features=128, out_features=500, bias=False),\n",
    "    snb.layers.iaf.IAFSqueeze(batch_size=1),\n",
    "    torch.nn.Linear(in_features=128, out_features=500, bias=False),\n",
    "    snb.layers.iaf.IAFSqueeze(batch_size=1),]"
   ]
  },
  {
   "cell_type": "code",
   "execution_count": 8,
   "metadata": {},
   "outputs": [],
   "source": [
    "dummy_edges = [\n",
    "    (0, 1),\n",
    "    (1, 2),\n",
    "    (2, 3),\n",
    "    (3, 4),\n",
    "    (4, 5),\n",
    "    (5, 6),\n",
    "    (6, 7),\n",
    "    (7, 8),\n",
    "    (8, 9),\n",
    "    (9, 10),\n",
    "    (10, 11),\n",
    "    (10, 13),\n",
    "    (11, 12),\n",
    "    (12, 13),\n",
    "    (13, 14),]"
   ]
  },
  {
   "cell_type": "code",
   "execution_count": 9,
   "metadata": {},
   "outputs": [],
   "source": [
    "build_from_graph = DynapcnnNetworkGraph.build_from_graph_()"
   ]
  },
  {
   "cell_type": "code",
   "execution_count": 10,
   "metadata": {},
   "outputs": [
    {
     "name": "stdout",
     "output_type": "stream",
     "text": [
      "\n",
      " [ ENTERED build_from_graph() ]\n",
      "\n",
      "node to DynapcnnLayer mapping:\n",
      "DynapcnnLayer index:  0\n",
      "     [0 <class 'torch.nn.modules.conv.Conv2d'>]\n",
      "     [1 <class 'sinabs.layers.iaf.IAFSqueeze'>]\n",
      "     [2 <class 'torch.nn.modules.pooling.AvgPool2d'>]\n",
      "DynapcnnLayer index:  1\n",
      "     [3 <class 'torch.nn.modules.conv.Conv2d'>]\n",
      "     [4 <class 'sinabs.layers.iaf.IAFSqueeze'>]\n",
      "     [5 <class 'torch.nn.modules.pooling.AvgPool2d'>]\n",
      "DynapcnnLayer index:  2\n",
      "     [6 <class 'torch.nn.modules.conv.Conv2d'>]\n",
      "     [7 <class 'sinabs.layers.iaf.IAFSqueeze'>]\n",
      "     [8 <class 'torch.nn.modules.pooling.AvgPool2d'>]\n",
      "DynapcnnLayer index:  3\n",
      "     [9 <class 'torch.nn.modules.linear.Linear'>]\n",
      "     [10 <class 'sinabs.layers.iaf.IAFSqueeze'>]\n",
      "DynapcnnLayer index:  4\n",
      "     [13 <class 'torch.nn.modules.linear.Linear'>]\n",
      "     [14 <class 'sinabs.layers.iaf.IAFSqueeze'>]\n",
      "DynapcnnLayer index:  5\n",
      "     [11 <class 'torch.nn.modules.linear.Linear'>]\n",
      "     [12 <class 'sinabs.layers.iaf.IAFSqueeze'>]\n",
      "\n",
      "DynapcnnLayer to DynapcnnLayer mapping:\n",
      "DynapcnnLayer 0 destinations: [1]\n",
      "DynapcnnLayer 1 destinations: [2]\n",
      "DynapcnnLayer 2 destinations: [3]\n",
      "DynapcnnLayer 3 destinations: [5, 4]\n",
      "DynapcnnLayer 5 destinations: [4]\n",
      "DynapcnnLayer 4 destinations: []\n"
     ]
    },
    {
     "data": {
      "text/plain": [
       "(None, None)"
      ]
     },
     "execution_count": 10,
     "metadata": {},
     "output_type": "execute_result"
    }
   ],
   "source": [
    "build_from_graph(dummy_layer_list, None, dummy_edges)"
   ]
  },
  {
   "cell_type": "markdown",
   "metadata": {},
   "source": [
    "### Test 2"
   ]
  },
  {
   "cell_type": "code",
   "execution_count": 11,
   "metadata": {},
   "outputs": [],
   "source": [
    "dummy_layer_list = [\n",
    "    torch.nn.Conv2d(1, 20, kernel_size=(5, 5), stride=(1, 1), bias=False),\n",
    "    snb.layers.iaf.IAFSqueeze(batch_size=1),\n",
    "    torch.nn.AvgPool2d(kernel_size=2, stride=2, padding=0),\n",
    "    torch.nn.Conv2d(1, 20, kernel_size=(5, 5), stride=(1, 1), bias=False),\n",
    "    snb.layers.iaf.IAFSqueeze(batch_size=1),\n",
    "    torch.nn.AvgPool2d(kernel_size=2, stride=2, padding=0),\n",
    "    torch.nn.Conv2d(1, 20, kernel_size=(5, 5), stride=(1, 1), bias=False),\n",
    "    snb.layers.iaf.IAFSqueeze(batch_size=1),\n",
    "    torch.nn.AvgPool2d(kernel_size=2, stride=2, padding=0),\n",
    "    torch.nn.Linear(in_features=128, out_features=500, bias=False),\n",
    "    snb.layers.iaf.IAFSqueeze(batch_size=1),\n",
    "    torch.nn.Linear(in_features=128, out_features=500, bias=False),\n",
    "    snb.layers.iaf.IAFSqueeze(batch_size=1),\n",
    "    torch.nn.Linear(in_features=128, out_features=500, bias=False),\n",
    "    snb.layers.iaf.IAFSqueeze(batch_size=1),]"
   ]
  },
  {
   "cell_type": "code",
   "execution_count": 12,
   "metadata": {},
   "outputs": [],
   "source": [
    "dummy_edges = [\n",
    "    (0, 1),\n",
    "    (1, 2),\n",
    "    (1, 6),\n",
    "    (2, 3),\n",
    "    (3, 4),\n",
    "    (4, 5),\n",
    "    (5, 6),\n",
    "    (6, 7),\n",
    "    (7, 8),\n",
    "    (8, 9),\n",
    "    (9, 10),\n",
    "    (10, 11),\n",
    "    (10, 13),\n",
    "    (11, 12),\n",
    "    (12, 13),\n",
    "    (13, 14),]"
   ]
  },
  {
   "cell_type": "code",
   "execution_count": 13,
   "metadata": {},
   "outputs": [],
   "source": [
    "build_from_graph = DynapcnnNetworkGraph.build_from_graph_()"
   ]
  },
  {
   "cell_type": "code",
   "execution_count": 14,
   "metadata": {},
   "outputs": [
    {
     "name": "stdout",
     "output_type": "stream",
     "text": [
      "\n",
      " [ ENTERED build_from_graph() ]\n",
      "\n",
      "node to DynapcnnLayer mapping:\n",
      "DynapcnnLayer index:  0\n",
      "     [0 <class 'torch.nn.modules.conv.Conv2d'>]\n",
      "     [1 <class 'sinabs.layers.iaf.IAFSqueeze'>]\n",
      "     [2 <class 'torch.nn.modules.pooling.AvgPool2d'>]\n",
      "DynapcnnLayer index:  1\n",
      "     [3 <class 'torch.nn.modules.conv.Conv2d'>]\n",
      "     [4 <class 'sinabs.layers.iaf.IAFSqueeze'>]\n",
      "     [5 <class 'torch.nn.modules.pooling.AvgPool2d'>]\n",
      "DynapcnnLayer index:  2\n",
      "     [6 <class 'torch.nn.modules.conv.Conv2d'>]\n",
      "     [7 <class 'sinabs.layers.iaf.IAFSqueeze'>]\n",
      "     [8 <class 'torch.nn.modules.pooling.AvgPool2d'>]\n",
      "DynapcnnLayer index:  3\n",
      "     [9 <class 'torch.nn.modules.linear.Linear'>]\n",
      "     [10 <class 'sinabs.layers.iaf.IAFSqueeze'>]\n",
      "DynapcnnLayer index:  4\n",
      "     [13 <class 'torch.nn.modules.linear.Linear'>]\n",
      "     [14 <class 'sinabs.layers.iaf.IAFSqueeze'>]\n",
      "DynapcnnLayer index:  5\n",
      "     [11 <class 'torch.nn.modules.linear.Linear'>]\n",
      "     [12 <class 'sinabs.layers.iaf.IAFSqueeze'>]\n",
      "\n",
      "DynapcnnLayer to DynapcnnLayer mapping:\n",
      "DynapcnnLayer 0 destinations: [2, 1]\n",
      "DynapcnnLayer 1 destinations: [2]\n",
      "DynapcnnLayer 2 destinations: [3]\n",
      "DynapcnnLayer 3 destinations: [5, 4]\n",
      "DynapcnnLayer 5 destinations: [4]\n",
      "DynapcnnLayer 4 destinations: []\n"
     ]
    },
    {
     "data": {
      "text/plain": [
       "(None, None)"
      ]
     },
     "execution_count": 14,
     "metadata": {},
     "output_type": "execute_result"
    }
   ],
   "source": [
    "build_from_graph(dummy_layer_list, None, dummy_edges)"
   ]
  }
 ],
 "metadata": {
  "kernelspec": {
   "display_name": "speck-rescnn",
   "language": "python",
   "name": "python3"
  },
  "language_info": {
   "codemirror_mode": {
    "name": "ipython",
    "version": 3
   },
   "file_extension": ".py",
   "mimetype": "text/x-python",
   "name": "python",
   "nbconvert_exporter": "python",
   "pygments_lexer": "ipython3",
   "version": "3.11.3"
  }
 },
 "nbformat": 4,
 "nbformat_minor": 2
}

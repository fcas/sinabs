{
 "cells": [
  {
   "cell_type": "code",
   "execution_count": 1,
   "metadata": {},
   "outputs": [],
   "source": [
    "from nni.experiment import Experiment\n",
    "experiment = Experiment('local')"
   ]
  },
  {
   "cell_type": "code",
   "execution_count": 2,
   "metadata": {},
   "outputs": [],
   "source": [
    "search_space = {\n",
    "    'lr': {'_type': 'loguniform', '_value': [0.001, 0.0001]},\n",
    "}"
   ]
  },
  {
   "cell_type": "code",
   "execution_count": 3,
   "metadata": {},
   "outputs": [],
   "source": [
    "experiment.config.trial_command = 'python model.py'\n",
    "experiment.config.trial_code_directory = '.'"
   ]
  },
  {
   "cell_type": "code",
   "execution_count": 4,
   "metadata": {},
   "outputs": [],
   "source": [
    "experiment.config.search_space = search_space"
   ]
  },
  {
   "cell_type": "code",
   "execution_count": 5,
   "metadata": {},
   "outputs": [],
   "source": [
    "experiment.config.tuner.name = 'TPE'\n",
    "experiment.config.tuner.class_args['optimize_mode'] = 'maximize'"
   ]
  },
  {
   "cell_type": "code",
   "execution_count": 6,
   "metadata": {},
   "outputs": [],
   "source": [
    "experiment.config.max_trial_number = 5\n",
    "experiment.config.trial_concurrency = 2"
   ]
  },
  {
   "cell_type": "code",
   "execution_count": 7,
   "metadata": {},
   "outputs": [
    {
     "name": "stdout",
     "output_type": "stream",
     "text": [
      "[2024-04-26 17:05:41] \u001b[32mCreating experiment, Experiment ID: \u001b[36mda0h79xv\u001b[0m\n",
      "[2024-04-26 17:05:41] \u001b[32mStarting web server...\u001b[0m\n",
      "[2024-04-26 17:05:42] \u001b[32mSetting up...\u001b[0m\n",
      "[2024-04-26 17:05:42] \u001b[32mWeb portal URLs: \u001b[36mhttp://127.0.0.1:8080 http://192.168.11.68:8080 http://172.17.0.1:8080\u001b[0m\n"
     ]
    },
    {
     "data": {
      "text/plain": [
       "True"
      ]
     },
     "execution_count": 7,
     "metadata": {},
     "output_type": "execute_result"
    }
   ],
   "source": [
    "experiment.run(8080)"
   ]
  },
  {
   "cell_type": "code",
   "execution_count": 8,
   "metadata": {},
   "outputs": [
    {
     "name": "stdout",
     "output_type": "stream",
     "text": [
      "[2024-04-26 17:05:52] \u001b[32mStopping experiment, please wait...\u001b[0m\n",
      "[2024-04-26 17:05:52] \u001b[32mSaving experiment checkpoint...\u001b[0m\n",
      "[2024-04-26 17:05:52] \u001b[32mStopping NNI manager, if any...\u001b[0m\n",
      "[2024-04-26 17:05:54] \u001b[32mExperiment stopped.\u001b[0m\n"
     ]
    }
   ],
   "source": [
    "#input('Press enter to quit')\n",
    "experiment.stop()"
   ]
  }
 ],
 "metadata": {
  "kernelspec": {
   "display_name": "speck-rescnn",
   "language": "python",
   "name": "python3"
  },
  "language_info": {
   "codemirror_mode": {
    "name": "ipython",
    "version": 3
   },
   "file_extension": ".py",
   "mimetype": "text/x-python",
   "name": "python",
   "nbconvert_exporter": "python",
   "pygments_lexer": "ipython3",
   "version": "3.11.3"
  }
 },
 "nbformat": 4,
 "nbformat_minor": 2
}

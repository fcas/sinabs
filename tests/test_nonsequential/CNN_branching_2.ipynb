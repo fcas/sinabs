{
 "cells": [
  {
   "cell_type": "code",
   "execution_count": 1,
   "metadata": {},
   "outputs": [],
   "source": [
    "import torch\n",
    "import torch.nn as nn"
   ]
  },
  {
   "cell_type": "code",
   "execution_count": 2,
   "metadata": {},
   "outputs": [
    {
     "data": {
      "text/plain": [
       "<torch._C.Generator at 0x76ce4ffccc50>"
      ]
     },
     "execution_count": 2,
     "metadata": {},
     "output_type": "execute_result"
    }
   ],
   "source": [
    "torch.manual_seed(0)"
   ]
  },
  {
   "cell_type": "code",
   "execution_count": 3,
   "metadata": {},
   "outputs": [],
   "source": [
    "channels = 1\n",
    "height = 28\n",
    "width = 28\n",
    "batch = 1\n",
    "\n",
    "input_shape = (batch, channels, height, width)"
   ]
  },
  {
   "cell_type": "code",
   "execution_count": 4,
   "metadata": {},
   "outputs": [],
   "source": [
    "x = torch.randn(input_shape)"
   ]
  },
  {
   "cell_type": "markdown",
   "metadata": {},
   "source": [
    "## Network Module"
   ]
  },
  {
   "cell_type": "code",
   "execution_count": 5,
   "metadata": {},
   "outputs": [],
   "source": [
    "class Diverge(nn.Module):\n",
    "    def __init__(self, pre_pooling_block, pooling) -> None:\n",
    "        super().__init__()\n",
    "\n",
    "        self.pre_pooling_block = pre_pooling_block\n",
    "        self.pooling = pooling\n",
    "\n",
    "    def forward(self, x):\n",
    "        x = self.pre_pooling_block(x)\n",
    "        x = self.pooling(x)\n",
    "        return x"
   ]
  },
  {
   "cell_type": "code",
   "execution_count": 6,
   "metadata": {},
   "outputs": [],
   "source": [
    "class CNNLayerBlock(nn.Module):\n",
    "    def __init__(self, pre_activation, activation, pooling = None) -> None:\n",
    "        super().__init__()\n",
    "\n",
    "        self.pre_activation = pre_activation\n",
    "        self.activation = activation\n",
    "        self.pooling = pooling\n",
    "\n",
    "    def forward(self, x):\n",
    "        x = self.pre_activation(x)\n",
    "        x = self.activation(x)\n",
    "        if self.pooling:\n",
    "            x = self.pooling(x)\n",
    "        return x"
   ]
  },
  {
   "cell_type": "code",
   "execution_count": 7,
   "metadata": {},
   "outputs": [],
   "source": [
    "class CNN(nn.Module):\n",
    "    def __init__(self) -> None:\n",
    "        super().__init__()\n",
    "\n",
    "        # CNNLayerBlock 1 - this block wants to branch out to target two different layers.\n",
    "\n",
    "        self.cnnlblk_1 = CNNLayerBlock(\n",
    "            pre_activation              = nn.Conv2d(1, 30, 2, 1, bias=False), \n",
    "            activation                  = nn.ReLU()\n",
    "            )\n",
    "        \n",
    "        self.diverge_1a = Diverge(      # pooling 1a.\n",
    "            pre_pooling_block           = self.cnnlblk_1,\n",
    "            pooling                     = nn.AvgPool2d(2,2)\n",
    "            )\n",
    "        \n",
    "        self.diverge_1b = Diverge(      # pooling 1b.\n",
    "            pre_pooling_block           = self.cnnlblk_1, \n",
    "            pooling                     = nn.AvgPool2d(4,4)\n",
    "            )\n",
    "\n",
    "        # CNNLayerBlock 2.\n",
    "\n",
    "        self.cnnlblk_2 = CNNLayerBlock(\n",
    "            pre_activation              = nn.Conv2d(30, 30, 2, 1, bias=False),\n",
    "            activation                  = nn.ReLU(),\n",
    "            pooling                     = nn.AvgPool2d(2,2)\n",
    "            )\n",
    "\n",
    "        # CNNLayerBlock 3.\n",
    "\n",
    "        self.cnnlblk_3 = CNNLayerBlock(\n",
    "            pre_activation              = nn.Conv2d(30, 1, 3, 1, bias=False), \n",
    "            activation                  = nn.ReLU()\n",
    "            )\n",
    "\n",
    "        # DynapcnnLayer 4.  \n",
    "\n",
    "        self.cnnlblk_4 = CNNLayerBlock(\n",
    "            pre_activation              = nn.Linear(16, 500, bias=False), \n",
    "            activation                  = nn.ReLU()\n",
    "            )\n",
    "        \n",
    "        # DynapcnnLayer 5.\n",
    "\n",
    "        self.cnnlblk_5 = CNNLayerBlock(\n",
    "            pre_activation              = nn.Linear(500, 10, bias=False), \n",
    "            activation                  = nn.ReLU()\n",
    "            )\n",
    "\n",
    "        # 'support' layers\n",
    "\n",
    "        self.flat = nn.Flatten()\n",
    "\n",
    "\n",
    "    def forward(self, x):\n",
    "        # CNNLayerBlock 1.\n",
    "        div1a_out = self.diverge_1a(x)\n",
    "        div1b_out = self.diverge_1b(x)\n",
    "        \n",
    "        # CNNLayerBlock 2.\n",
    "        blk2_out = self.cnnlblk_2(div1a_out)\n",
    "\n",
    "        # CNNLayerBlock 3.\n",
    "        blk3_out = self.cnnlblk_3(blk2_out + div1b_out)\n",
    "\n",
    "        # CNNLayerBlock 4.\n",
    "        blk4_out = self.cnnlblk_4(self.flat(blk3_out))\n",
    "\n",
    "        # CNNLayerBlock 5.\n",
    "        blk5_out = self.cnnlblk_5(blk4_out)\n",
    "\n",
    "        return blk5_out"
   ]
  },
  {
   "cell_type": "code",
   "execution_count": 8,
   "metadata": {},
   "outputs": [],
   "source": [
    "cnn = CNN()"
   ]
  },
  {
   "cell_type": "code",
   "execution_count": 9,
   "metadata": {},
   "outputs": [
    {
     "name": "stdout",
     "output_type": "stream",
     "text": [
      "torch.Size([1, 30, 6, 6]) torch.Size([1, 30, 6, 6])\n"
     ]
    }
   ],
   "source": [
    "# CNNLayerBlock 1.\n",
    "div1a_out = cnn.diverge_1a(x)\n",
    "div1b_out = cnn.diverge_1b(x)\n",
    "\n",
    "# CNNLayerBlock 2.\n",
    "blk2_out = cnn.cnnlblk_2(div1a_out)\n",
    "\n",
    "# CNNLayerBlock 3.\n",
    "print(blk2_out.shape, div1b_out.shape)\n",
    "blk3_out = cnn.cnnlblk_3(blk2_out + div1b_out)\n",
    "\n",
    "# CNNLayerBlock 4.\n",
    "blk4_out = cnn.cnnlblk_4(cnn.flat(blk3_out))\n",
    "\n",
    "# CNNLayerBlock 5.\n",
    "blk5_out = cnn.cnnlblk_5(blk4_out)"
   ]
  }
 ],
 "metadata": {
  "kernelspec": {
   "display_name": "speck-rescnn",
   "language": "python",
   "name": "python3"
  },
  "language_info": {
   "codemirror_mode": {
    "name": "ipython",
    "version": 3
   },
   "file_extension": ".py",
   "mimetype": "text/x-python",
   "name": "python",
   "nbconvert_exporter": "python",
   "pygments_lexer": "ipython3",
   "version": "3.11.3"
  }
 },
 "nbformat": 4,
 "nbformat_minor": 2
}

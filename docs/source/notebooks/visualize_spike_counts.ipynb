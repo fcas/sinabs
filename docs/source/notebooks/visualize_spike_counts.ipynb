{
 "cells": [
  {
   "cell_type": "markdown",
   "metadata": {},
   "source": [
    "# spike counts visualization\n",
    "\n",
    "This tutorial demonstrates the way of visualizing the spike counts of the last SNN layer."
   ]
  },
  {
   "cell_type": "code",
   "execution_count": 2,
   "metadata": {},
   "outputs": [
    {
     "name": "stdout",
     "output_type": "stream",
     "text": [
      "Requirement already satisfied: matplotlib in /home/jane/anaconda3/envs/sinabs-dynapcnn/lib/python3.8/site-packages (3.6.2)\n",
      "Requirement already satisfied: contourpy>=1.0.1 in /home/jane/anaconda3/envs/sinabs-dynapcnn/lib/python3.8/site-packages (from matplotlib) (1.0.6)\n",
      "Requirement already satisfied: pillow>=6.2.0 in /home/jane/anaconda3/envs/sinabs-dynapcnn/lib/python3.8/site-packages (from matplotlib) (9.3.0)\n",
      "Requirement already satisfied: packaging>=20.0 in /home/jane/anaconda3/envs/sinabs-dynapcnn/lib/python3.8/site-packages (from matplotlib) (22.0)\n",
      "Requirement already satisfied: pyparsing>=2.2.1 in /home/jane/anaconda3/envs/sinabs-dynapcnn/lib/python3.8/site-packages (from matplotlib) (3.0.9)\n",
      "Requirement already satisfied: kiwisolver>=1.0.1 in /home/jane/anaconda3/envs/sinabs-dynapcnn/lib/python3.8/site-packages (from matplotlib) (1.4.4)\n",
      "Requirement already satisfied: cycler>=0.10 in /home/jane/anaconda3/envs/sinabs-dynapcnn/lib/python3.8/site-packages (from matplotlib) (0.11.0)\n",
      "Requirement already satisfied: fonttools>=4.22.0 in /home/jane/anaconda3/envs/sinabs-dynapcnn/lib/python3.8/site-packages (from matplotlib) (4.38.0)\n",
      "Requirement already satisfied: python-dateutil>=2.7 in /home/jane/anaconda3/envs/sinabs-dynapcnn/lib/python3.8/site-packages (from matplotlib) (2.8.2)\n",
      "Requirement already satisfied: numpy>=1.19 in /home/jane/anaconda3/envs/sinabs-dynapcnn/lib/python3.8/site-packages (from matplotlib) (1.23.5)\n",
      "Requirement already satisfied: six>=1.5 in /home/jane/anaconda3/envs/sinabs-dynapcnn/lib/python3.8/site-packages (from python-dateutil>=2.7->matplotlib) (1.16.0)\n"
     ]
    }
   ],
   "source": [
    "! pip install matplotlib"
   ]
  },
  {
   "cell_type": "code",
   "execution_count": 3,
   "metadata": {},
   "outputs": [],
   "source": [
    "import torch\n",
    "import samna\n",
    "import time\n",
    "import random\n",
    "import copy\n",
    "import matplotlib.pyplot as plt\n",
    "\n",
    "from torch import nn\n",
    "from sinabs.backend.dynapcnn import DynapcnnNetwork\n",
    "from multiprocessing import Process\n",
    "from sinabs.from_torch import from_model\n",
    "from sinabs.layers.pool2d import SumPool2d\n",
    "from typing import Union"
   ]
  },
  {
   "cell_type": "markdown",
   "metadata": {},
   "source": [
    "## Create a 1-layer CNN which can be deployed to the devkit"
   ]
  },
  {
   "cell_type": "code",
   "execution_count": 4,
   "metadata": {},
   "outputs": [],
   "source": [
    "# init a cnn it has 2 out_channels for a binary classification task\n",
    "# the input shape of this cnn is (1, 16, 16), output shape of this cnn is (2, 1, 1)\n",
    "\n",
    "input_shape = (1, 16, 16)\n",
    "\n",
    "cnn = nn.Sequential(SumPool2d(kernel_size=(1, 1)),\n",
    "                    nn.Conv2d(in_channels=1,\n",
    "                              out_channels=2,\n",
    "                              kernel_size=(16, 16),\n",
    "                              stride=(1, 1),\n",
    "                              padding=(0, 0),\n",
    "                              bias=False),\n",
    "                    nn.ReLU())"
   ]
  },
  {
   "cell_type": "markdown",
   "metadata": {},
   "source": [
    "**assign the CNN layer with a handcraft weight**:\n",
    "\n",
    "The reason for designing the weights in this way is:\n",
    "\n",
    "1. We will create a bunch of fake input spikes $X[x_0, x_1, ...x_{T}]$ as the input of the devkit.\n",
    "2. for any input spike $x_{t}$ with timestamp $t$:\n",
    "\n",
    "- if $t$, if $t < 0.5 * T$, the $y$ coordinate of spike $x_t$ will be in range [0, 7], i.e. on the top-half of the input region.\n",
    "- if $t$, if $t > 0.5 * T$, the $y$ coordinate of spike $x_t$ will be in range [8, 15].i.e. on the bottom-half of the input region.\n",
    "\n",
    "3. Based on this\n",
    "- the output spike from time $0$ to $0.5 * T$ will all come from output channel #0\n",
    "- the output spike from time $0.5 * T$ to $T$ will all come from output channel #1\n",
    "\n",
    "![handcraft_weights](../_static/using_readout_layer/handcraft_weights.png)"
   ]
  },
  {
   "cell_type": "code",
   "execution_count": 5,
   "metadata": {},
   "outputs": [],
   "source": [
    "# set handcraft weights for the CNN\n",
    "weight_ones = torch.ones(1, 8, 16, dtype=torch.float32)\n",
    "weight_zeros = torch.zeros(1, 8, 16, dtype=torch.float32)\n",
    "\n",
    "channel_1_weight = torch.cat([weight_ones, weight_zeros], dim=1).unsqueeze(0)\n",
    "channel_2_weight = torch.cat([weight_zeros, weight_ones], dim=1).unsqueeze(0)\n",
    "handcraft_weight = torch.cat([channel_1_weight, channel_2_weight], dim=0)\n",
    "\n",
    "output_cnn_lyr_id = 1\n",
    "cnn[output_cnn_lyr_id].weight.data = handcraft_weight"
   ]
  },
  {
   "cell_type": "markdown",
   "metadata": {},
   "source": [
    "Then we convert the CNN into SNN and trying to deploy it to the devkit"
   ]
  },
  {
   "cell_type": "code",
   "execution_count": 6,
   "metadata": {},
   "outputs": [],
   "source": [
    "# cnn to snn\n",
    "snn = from_model(cnn, input_shape=input_shape, batch_size=1).spiking_model\n",
    "# snn to DynapcnnNetwork\n",
    "dynapcnn_net = DynapcnnNetwork(snn=snn, input_shape=input_shape, dvs_input=False)"
   ]
  },
  {
   "cell_type": "markdown",
   "metadata": {},
   "source": [
    "## Define an auxiliary class for devkit configuration and samna graph construction\n",
    "\n",
    "Samna graph defines how the data flows into and out from the devkit:\n",
    "\n",
    "![samna graph](../_static/using_readout_layer/samna_graph.png)\n",
    "\n",
    "This class takes a DynapcnnNetwork object as init input. And it will generate the proper devkit config and samna graph for the deployment.\n",
    "\n",
    "Then by calling the `run` method of this class we can:\n",
    "\n",
    "1. visualize the input from a GUI window\n",
    "2. visualize the spike counts of the last DynapCNN layer with line chart.\n",
    "\n",
    "### Notice\n",
    "\n",
    "**Make sure your devkit is plugged in your PC when running the experiment codes below**"
   ]
  },
  {
   "cell_type": "code",
   "execution_count": 7,
   "metadata": {},
   "outputs": [],
   "source": [
    "class DevkitAssistant:\n",
    "\n",
    "    def __init__(\n",
    "            self,\n",
    "            dynapcnn_net: DynapcnnNetwork,\n",
    "            labels: list,\n",
    "            time_interval: int = 50,\n",
    "            ):\n",
    "\n",
    "        \"\"\"\n",
    "        Args:\n",
    "            dynapcnn_net: a DynapcnnNetwork object\n",
    "            labels: a list that contains the names of output channels\n",
    "            time_interval: time interval for counting spikes. the unit is milisecond.\n",
    "\n",
    "        \"\"\"\n",
    "\n",
    "        # some basic attributes for showing spike counts\n",
    "        self.labels = labels\n",
    "        self.num_of_classes = len(labels)\n",
    "        self.time_interval = time_interval\n",
    "\n",
    "        # generate configuration object for devkit\n",
    "        self.dynapcnn_net: DynapcnnNetwork = copy.deepcopy(dynapcnn_net)\n",
    "        self.devkit_cfg = self.dynapcnn_net.make_config(device=\"speck2edevkit:0\")\n",
    "\n",
    "        # open the Speck2eDevKit and get the devkit handle\n",
    "        self.devkit = samna.device.open_device(\"Speck2eDevKit:0\")\n",
    "\n",
    "        # get io module of the devkit\n",
    "        self.dk_io = self.devkit.get_io_module()\n",
    "\n",
    "        # init samna node for tcp transmission\n",
    "        samna_node = samna.init_samna()\n",
    "        self.sender_endpoint = samna_node.get_sender_endpoint()\n",
    "        self.receiver_endpoint = samna_node.get_receiver_endpoint()\n",
    "        self.streamer_endpoint = 'tcp://0.0.0.0:40008'  # this port is for dvs input data visualization\n",
    "        self.visualizer_id = 3\n",
    "        time.sleep(1)  # wait tcp connection build up, this is necessary to open remote node.\n",
    "\n",
    "        # build the samna graph\n",
    "        self.samna_graph, *buffer_nodes = self.build_samna_graph()\n",
    "        self.input_buffer, self.spike_buffer = buffer_nodes\n",
    "\n",
    "        # create & set up the visualizer\n",
    "        self.visualizer, self.gui_process = self.open_visualizer()\n",
    "        self.setup_visualizer()\n",
    "\n",
    "        # start graph\n",
    "        self.samna_graph.start()\n",
    "\n",
    "    def run(self, input_events: list, read_pin_value: bool):\n",
    "\n",
    "        \"\"\"\n",
    "        This function contains the main logic of using the readout layer:\n",
    "        1. reset devkits' stop-watch\n",
    "        2. write fake inputs into hardware\n",
    "        3. get output from both readout layer and cnn layer\n",
    "\n",
    "        Args:\n",
    "            input_events: a list contains the input\n",
    "            read_pin_value: choose to read ReadoutPinValue or ReadoutValue from readout layer\n",
    "        \"\"\"\n",
    "        # modify samna config\n",
    "        self.modify_devkit_cfg(read_pin_value=read_pin_value)\n",
    "        # apply devkit config to hardware\n",
    "        self.devkit.get_model().apply_configuration(self.devkit_cfg)\n",
    "        time.sleep(0.1)\n",
    "\n",
    "        # reset the stop-watch of devkit\n",
    "        stop_watch = self.devkit.get_stop_watch()\n",
    "        stop_watch.set_enable_value(True)\n",
    "        stop_watch.reset()\n",
    "        time.sleep(0.01)\n",
    "\n",
    "        # clear buffer\n",
    "        self.spike_buffer.get_events()\n",
    "\n",
    "        # write the input to devkit\n",
    "        input_time_length = (input_events[-1].timestamp - input_events[0].timestamp) / 1e6\n",
    "        self.input_buffer.write(input_events)\n",
    "        # sleep till all input events is sent and processed\n",
    "        time.sleep(input_time_length + 0.02)\n",
    "\n",
    "        # get spikes from cnn layer\n",
    "        spikes = self.spike_buffer.get_events()\n",
    "\n",
    "        # return the output from readout layer and cnn layer both\n",
    "        return spikes\n",
    "\n",
    "    def modify_devkit_cfg(self, read_pin_value: bool):\n",
    "\n",
    "        \"\"\"\n",
    "        since we need to use the readout layer of Speck2e devkit. Some modifications need to be implemented\n",
    "        on the devkits' configuration\n",
    "\n",
    "        \"\"\"\n",
    "\n",
    "        \"\"\"cnn layers configuration\"\"\"\n",
    "        # send to output spike from cnn output layer to readout layer as its input\n",
    "        cnn_output_layer = self.dynapcnn_net.chip_layers_ordering[-1]\n",
    "        # the readout layer id is fixed for speck2e devkit which is 12\n",
    "        readout_layer = 12\n",
    "        print(f'link output layer: {cnn_output_layer} to readout layer: {readout_layer}')\n",
    "        self.devkit_cfg.cnn_layers[cnn_output_layer].monitor_enable = True\n",
    "        self.devkit_cfg.cnn_layers[cnn_output_layer].destinations[0].enable = True\n",
    "        self.devkit_cfg.cnn_layers[cnn_output_layer].destinations[0].layer = readout_layer\n",
    "\n",
    "        \"\"\"dvs layer configuration\"\"\"\n",
    "        # link the dvs layer to the 1st layer of the cnn layers\n",
    "        self.devkit_cfg.dvs_layer.destinations[0].enable = True\n",
    "        self.devkit_cfg.dvs_layer.destinations[0].layer = self.dynapcnn_net.chip_layers_ordering[0]\n",
    "        # merge the polarity of input events\n",
    "        self.devkit_cfg.dvs_layer.merge = True\n",
    "        # drop the raw input events from the dvs sensor, since we write events to devkit manually\n",
    "        self.devkit_cfg.dvs_layer.pass_sensor_events = False\n",
    "        # enable monitoring the output from dvs pre-preprocessing layer\n",
    "        self.devkit_cfg.dvs_layer.monitor_enable = True\n",
    "\n",
    "        return\n",
    "\n",
    "    def build_samna_graph(self):\n",
    "\n",
    "        \"\"\"\n",
    "        samna graph defines how data the data read from the devkit flows.\n",
    "\n",
    "        \"\"\"\n",
    "\n",
    "        # init the graph\n",
    "        graph = samna.graph.EventFilterGraph()\n",
    "        # init necessary nodes\n",
    "        input_buffer_node = samna.BasicSourceNode_speck2e_event_speck2e_input_event()\n",
    "        spike_buffer_node = samna.BasicSinkNode_speck2e_event_output_event()\n",
    "\n",
    "        # build input branch for graph\n",
    "        graph.sequential([input_buffer_node, self.devkit.get_model_sink_node()])\n",
    "\n",
    "        # build output branches for graph\n",
    "        # branch #1: for the dvs input visualization\n",
    "        _, _, streamer = graph.sequential(\n",
    "            [self.devkit.get_model_source_node(), \"Speck2eDvsToVizConverter\", \"VizEventStreamer\"])\n",
    "        # branch #2: for the spike count plot (first divide spike events into groups, then cout spike events grouping by feature.)\n",
    "        _, spike_collection_filter, spike_count_filter, _ = graph.sequential(\n",
    "            [self.devkit.get_model_source_node(), \"Speck2eSpikeCollectionNode\", \"Speck2eSpikeCountNode\", streamer])\n",
    "        # branch #3: for obtaining the output Spike from cnn output layer\n",
    "        _, type_filter_node_spike, _ = graph.sequential(\n",
    "            [self.devkit.get_model_source_node(), \"Speck2eOutputEventTypeFilter\", spike_buffer_node])\n",
    "\n",
    "        # set the filter nodes of the graph\n",
    "        streamer.set_streamer_endpoint(self.streamer_endpoint)\n",
    "        spike_collection_filter.set_interval_milli_sec(self.time_interval)  # divide according to this time period in milliseconds.\n",
    "        spike_count_filter.set_feature_count(self.num_of_classes)  # number of output classes\n",
    "        type_filter_node_spike.set_desired_type(\"speck2e::event::Spike\")\n",
    "\n",
    "        return graph, input_buffer_node, spike_buffer_node\n",
    "\n",
    "    def run_visualizer_process(self, receiver_endpoint, sender_endpoint):\n",
    "\n",
    "        import samnagui\n",
    "        samnagui.runVisualizer(0.6, 0.6, receiver_endpoint, sender_endpoint, self.visualizer_id)\n",
    "\n",
    "        return\n",
    "\n",
    "    def open_visualizer(self):\n",
    "\n",
    "        \"\"\"\n",
    "        create a sub-process for running the visualizer window\n",
    "\n",
    "        \"\"\"\n",
    "\n",
    "        gui_process = Process(target=self.run_visualizer_process, args=(self.receiver_endpoint, self.sender_endpoint))\n",
    "        gui_process.start()\n",
    "\n",
    "        # wait for open visualizer and connect to it.\n",
    "        timeout = 10\n",
    "        begin = time.time()\n",
    "        name = \"visualizer\" + str(self.visualizer_id)\n",
    "        while time.time() - begin < timeout:\n",
    "\n",
    "            try:\n",
    "\n",
    "                time.sleep(0.05)\n",
    "                samna.open_remote_node(self.visualizer_id, name)\n",
    "\n",
    "            except:\n",
    "\n",
    "                continue\n",
    "\n",
    "            else:\n",
    "\n",
    "                visualizer = getattr(samna, name)\n",
    "\n",
    "                return visualizer, gui_process\n",
    "\n",
    "        raise Exception(\"open_remote_node failed:\"\n",
    "                        \"  visualizer id %d can't be opened in %d seconds!!\" % (self.visualizer_id, timeout))\n",
    "\n",
    "    def setup_visualizer(self):\n",
    "\n",
    "        \"\"\"\n",
    "        set the visualizer and related GUI\n",
    "\n",
    "        \"\"\"\n",
    "\n",
    "        # set visualizer's receiver endpoint to streamer's sender endpoint\n",
    "        self.visualizer.receiver.set_receiver_endpoint(self.streamer_endpoint)\n",
    "        # connect the receiver output to splitter inside the visualizer\n",
    "        self.visualizer.receiver.add_destination(self.visualizer.splitter.get_input_channel())\n",
    "\n",
    "        # add DVS plot to gui\n",
    "        activity_plot_id = self.visualizer.plots.add_activity_plot(128, 128, \"DVS Layer\")\n",
    "        plot = self.visualizer.plot_0\n",
    "        plot.set_layout(0, 0, 0.5, 1.0)\n",
    "\n",
    "        # add plot to show spike counts\n",
    "        spike_count_id = self.visualizer.plots.add_spike_count_plot(\"Spike Count\", self.num_of_classes, self.labels)\n",
    "        plot = self.visualizer.plot_1\n",
    "        plot.set_layout(0.5, 0.5, 1, 1)\n",
    "        plot.set_show_x_span(10)  # set the range of x axis\n",
    "        plot.set_label_interval(1.0)  # set the x axis label interval\n",
    "        plot.set_max_y_rate(1.2)  # set the y axis max value according to the max value of all actual values. \n",
    "        plot.set_show_point_circle(True)  # if show a circle of every point.\n",
    "        plot.set_default_y_max(10)  # set the default y axis max value when all points value is zero.\n",
    "\n",
    "        self.visualizer.splitter.add_destination(\"dvs_event\", self.visualizer.plots.get_plot_input(activity_plot_id))\n",
    "        self.visualizer.splitter.add_destination(\"spike_count\", self.visualizer.plots.get_plot_input(spike_count_id))\n",
    "        self.visualizer.plots.report()\n",
    "\n",
    "        return\n"
   ]
  },
  {
   "cell_type": "markdown",
   "metadata": {},
   "source": [
    "## Create fake input for devkit"
   ]
  },
  {
   "cell_type": "code",
   "execution_count": 8,
   "metadata": {},
   "outputs": [],
   "source": [
    "def create_fake_input_events(time_sec: int, data_rate: int = 1000):\n",
    "\n",
    "    \"\"\"\n",
    "    Args:\n",
    "        time_sec: how long is the input events\n",
    "        data_rate: how many input events generated in 1 second\n",
    "\n",
    "        During the first half time, it generates events where y coordinate only in range[0, 7] which means top half\n",
    "        region of the input feature map.\n",
    "\n",
    "        Then in the last half of time, it generates events where y coordinate only in range[8, 15] which means bottom\n",
    "        half region of the input feature map.\n",
    "\n",
    "    \"\"\"\n",
    "\n",
    "    time_offset_micro_sec = 5000  # make the timestamp start from 5000\n",
    "    time_micro_sec = time_sec * 1000000  # timestamp unit is micro-second\n",
    "    time_stride = 1000000 // data_rate\n",
    "\n",
    "    half_time = time_micro_sec // 2\n",
    "\n",
    "    events = []\n",
    "    for time_stamp in range(time_offset_micro_sec, time_micro_sec + time_offset_micro_sec + 1, time_stride):\n",
    "\n",
    "        spk = samna.speck2e.event.DvsEvent()\n",
    "        spk.timestamp = time_stamp\n",
    "        spk.p = random.randint(0, 1)\n",
    "        spk.x = random.randint(0, 15)\n",
    "\n",
    "        if time_stamp < half_time:\n",
    "            spk.y = random.randint(0, 7)  # spike located in top half of the input region\n",
    "        else:\n",
    "            spk.y = random.randint(8, 15)  # spike located in bottom half of the input region\n",
    "\n",
    "        events.append(spk)\n",
    "\n",
    "    return events"
   ]
  },
  {
   "cell_type": "code",
   "execution_count": 9,
   "metadata": {},
   "outputs": [
    {
     "name": "stdout",
     "output_type": "stream",
     "text": [
      "number of fake input spikes: 25001\n"
     ]
    }
   ],
   "source": [
    "# create fake input events\n",
    "input_time_length = 5 # seconds\n",
    "data_rate = 5000\n",
    "input_events = create_fake_input_events(time_sec=input_time_length, data_rate=data_rate)\n",
    "\n",
    "print(f\"number of fake input spikes: {len(input_events)}\")"
   ]
  },
  {
   "cell_type": "code",
   "execution_count": 10,
   "metadata": {},
   "outputs": [
    {
     "name": "stdout",
     "output_type": "stream",
     "text": [
      "Network is valid\n",
      "sender_endpoint: tcp://0.0.0.0:46091\n",
      "receiver_endpoint: tcp://0.0.0.0:42599\n"
     ]
    }
   ],
   "source": [
    "# init the devkit assistant\n",
    "\n",
    "# we create 2 assistant:\n",
    "#one for read the ReadoutPinValue of the devkit\n",
    "readout_threshold = 1\n",
    "slow_clk_freq = 20 # Hz\n",
    "\n",
    "# estimated slow-clock cycle for processing the input spikes\n",
    "clock_cycles_esitmated = slow_clk_freq * input_time_length\n",
    "\n",
    "# by init the devkit assistant, it also opens the devkit, visualization GUI window\n",
    "devkit_assistant = DevkitAssistant(dynapcnn_net,\n",
    "                                   labels=[\"0\", \"1\"])"
   ]
  },
  {
   "cell_type": "markdown",
   "metadata": {},
   "source": [
    "### start visualizing"
   ]
  },
  {
   "cell_type": "code",
   "execution_count": 13,
   "metadata": {},
   "outputs": [
    {
     "name": "stdout",
     "output_type": "stream",
     "text": [
      "link output layer: 0 to readout layer: 12\n"
     ]
    }
   ],
   "source": [
    "dynapcnn_layer_events = devkit_assistant.run(input_events, read_pin_value=True)"
   ]
  },
  {
   "cell_type": "markdown",
   "metadata": {},
   "source": [
    "### check the output from DynapCNN Layer"
   ]
  },
  {
   "cell_type": "code",
   "execution_count": 14,
   "metadata": {},
   "outputs": [
    {
     "name": "stdout",
     "output_type": "stream",
     "text": [
      "number of output spikes from DynacpCNN Layer: 25001\n"
     ]
    },
    {
     "data": {
      "text/plain": [
       "Text(0.5, 1.0, 'Spike')"
      ]
     },
     "execution_count": 14,
     "metadata": {},
     "output_type": "execute_result"
    },
    {
     "data": {
      "image/png": "[encoded data removed]",
      "text/plain": [
       "<Figure size 640x480 with 1 Axes>"
      ]
     },
     "metadata": {},
     "output_type": "display_data"
    }
   ],
   "source": [
    "print(f\"number of output spikes from DynacpCNN Layer: {len(dynapcnn_layer_events)}\")\n",
    "\n",
    "# get the timestamp of the output event\n",
    "spike_timestamp = [each.timestamp for each in dynapcnn_layer_events]\n",
    "# shift timestep starting from 0\n",
    "start_t = spike_timestamp[0]\n",
    "spike_timestamp = [each - start_t for each in spike_timestamp]\n",
    "\n",
    "# get the neuron index of each output spike \n",
    "neuron_id = [each.feature  for each in dynapcnn_layer_events]\n",
    "\n",
    "\n",
    "# plot the output neuron index vs. time\n",
    "fig, ax = plt.subplots()\n",
    "ax.scatter(spike_timestamp, neuron_id)\n",
    "ax.set(xlim=(0, 5e6),ylim=(-0.5, 1.5))\n",
    "ax.set_xlabel(\"time( micro sec)\")\n",
    "ax.set_ylabel(\"neuron index\")\n",
    "ax.set_title(\"Spike\")\n",
    "\n",
    "# we should see the neuron index are 0 and 4, because of the incorrect map relationship on speck2e devkit"
   ]
  },
  {
   "cell_type": "code",
   "execution_count": 1,
   "metadata": {},
   "outputs": [
    {
     "ename": "NameError",
     "evalue": "name 'devkit_assistant' is not defined",
     "output_type": "error",
     "traceback": [
      "\u001b[0;31m---------------------------------------------------------------------------\u001b[0m",
      "\u001b[0;31mNameError\u001b[0m                                 Traceback (most recent call last)",
      "Cell \u001b[0;32mIn[1], line 1\u001b[0m\n\u001b[0;32m----> 1\u001b[0m \u001b[43mdevkit_assistant\u001b[49m\u001b[38;5;241m.\u001b[39msamna_graph\u001b[38;5;241m.\u001b[39mstop()\n\u001b[1;32m      2\u001b[0m samna\u001b[38;5;241m.\u001b[39mdevice\u001b[38;5;241m.\u001b[39mclose_device(devkit_assistant\u001b[38;5;241m.\u001b[39mdevkit)\n",
      "\u001b[0;31mNameError\u001b[0m: name 'devkit_assistant' is not defined"
     ]
    }
   ],
   "source": [
    "devkit_assistant.samna_graph.stop()\n",
    "samna.device.close_device(devkit_assistant.devkit)"
   ]
  }
 ],
 "metadata": {
  "kernelspec": {
   "display_name": "Python 3.8.13 ('sinabs-dynapcnn')",
   "language": "python",
   "name": "python3"
  },
  "language_info": {
   "codemirror_mode": {
    "name": "ipython",
    "version": 3
   },
   "file_extension": ".py",
   "mimetype": "text/x-python",
   "name": "python",
   "nbconvert_exporter": "python",
   "pygments_lexer": "ipython3",
   "version": "3.8.13"
  },
  "vscode": {
   "interpreter": {
    "hash": "33f5b7c50f4bdb049e667c33bbeedb82b4b180db120991b3ccebc566ce30a6a2"
   }
  }
 },
 "nbformat": 4,
 "nbformat_minor": 1
}

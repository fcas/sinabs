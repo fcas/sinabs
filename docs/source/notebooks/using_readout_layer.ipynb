{
 "cells": [
  {
   "cell_type": "markdown",
   "metadata": {},
   "source": [
    "# Using Readout Layer\n",
    "\n",
    "This tutorial demonstrate the way of using the readout layer of Speck2e DevKit."
   ]
  },
  {
   "cell_type": "markdown",
   "metadata": {},
   "source": [
    "## What is readout layer\n",
    "\n",
    "Readout layer is used to **readout the classification results** from the chip. It is **driven by a slow clock**.\n",
    "\n",
    "\n",
    "- It has 15 channels(category id) and the index of each channel is starting from 1 to 15. In each channel, we count the number of events of the input neuron of each channel at every clock input (clock_slow) (counter is 16bit), all channels computes this parallely.\n",
    "\n",
    "    And we store the counted value during that **1-clock cycle in a 16bit register**. Then on the next clock cycle we count the events on that neuron and compute the total events during that clock cycle.And we put this in **another register.**\n",
    "\n",
    "    And then we do this **every clock cycle**, and compute the average of the events over **1, 16 or 32 clock cycle** (this depends on the configuration register). This way we have average(16-bit) of each channel we have.\n",
    "\n",
    "\n",
    "- Then average signals of all 15-channel goes into **\"Find Maximum Average\"** block.\n",
    "\n",
    "    This block finds the average of maximum spiking neuron and outputs the **average information** (which is 16-bit), and it also outputs the **index of the maximum spiking neuron.**\n",
    "\n",
    "\n",
    "- Then we have another block called **\"Average Select\"**\n",
    "\n",
    "    This block also receives the average output of all the channels,and in addition it also has an input called **AVERAGE_SEL** which can be set either through S2P interface or through configuration register. And then this block outputs the average value of the neuron pointed by AVERAGE_SEL<3:0> bits\n",
    "\n",
    "\n",
    "- And finally we have another block called **\"Threshold Compare\"**\n",
    "\n",
    "    This block, similar to others, receives the average otputs of all channels as an input, compares each of these averages (16-bit) of each channel with the threshold(16-bit) set by configuration register and the output of this block is called **threshold_compare<15:1>**\n",
    "    \n",
    "    So we have one-bit representation of each channel as threshold_compare. If average output of the channel is bigger than threshold , the corresponding bit of threshold_compare becomes \"1\"  (average_X[15:0] > threshold<15:0> --> threshold_compare_X=1)"
   ]
  },
  {
   "cell_type": "code",
   "execution_count": 1,
   "metadata": {},
   "outputs": [
    {
     "name": "stdout",
     "output_type": "stream",
     "text": [
      "Requirement already satisfied: matplotlib in /home/allan/PycharmProjects/sinabs-dynapcnn/venv/lib/python3.6/site-packages (3.3.4)\r\n",
      "Requirement already satisfied: pillow>=6.2.0 in /home/allan/PycharmProjects/sinabs-dynapcnn/venv/lib/python3.6/site-packages (from matplotlib) (8.4.0)\r\n",
      "Requirement already satisfied: numpy>=1.15 in /home/allan/PycharmProjects/sinabs-dynapcnn/venv/lib/python3.6/site-packages (from matplotlib) (1.19.5)\r\n",
      "Requirement already satisfied: kiwisolver>=1.0.1 in /home/allan/PycharmProjects/sinabs-dynapcnn/venv/lib/python3.6/site-packages (from matplotlib) (1.3.1)\r\n",
      "Requirement already satisfied: pyparsing!=2.0.4,!=2.1.2,!=2.1.6,>=2.0.3 in /home/allan/PycharmProjects/sinabs-dynapcnn/venv/lib/python3.6/site-packages (from matplotlib) (3.0.9)\r\n",
      "Requirement already satisfied: cycler>=0.10 in /home/allan/PycharmProjects/sinabs-dynapcnn/venv/lib/python3.6/site-packages (from matplotlib) (0.11.0)\r\n",
      "Requirement already satisfied: python-dateutil>=2.1 in /home/allan/PycharmProjects/sinabs-dynapcnn/venv/lib/python3.6/site-packages (from matplotlib) (2.8.2)\r\n",
      "Requirement already satisfied: six>=1.5 in /home/allan/PycharmProjects/sinabs-dynapcnn/venv/lib/python3.6/site-packages (from python-dateutil>=2.1->matplotlib) (1.16.0)\r\n"
     ]
    }
   ],
   "source": [
    "! pip install matplotlib"
   ]
  },
  {
   "cell_type": "code",
   "execution_count": 2,
   "metadata": {},
   "outputs": [],
   "source": [
    "import torch\n",
    "import samna\n",
    "import time\n",
    "import random\n",
    "import copy\n",
    "import matplotlib.pyplot as plt\n",
    "\n",
    "from torch import nn\n",
    "from sinabs.backend.dynapcnn import DynapcnnNetwork\n",
    "from multiprocessing import Process\n",
    "from sinabs.from_torch import from_model\n",
    "from sinabs.layers.pool2d import SumPool2d\n",
    "from typing import Union"
   ]
  },
  {
   "cell_type": "markdown",
   "metadata": {},
   "source": [
    "## Create a 1-layer CNN which can be deployed to the devkit"
   ]
  },
  {
   "cell_type": "code",
   "execution_count": 3,
   "metadata": {},
   "outputs": [],
   "source": [
    "# init a cnn it has 2 out_channels for a binary classification task\n",
    "# the input shape of this cnn is (1, 16, 16), output shape of this cnn is (2, 1, 1)\n",
    "\n",
    "input_shape = (1, 16, 16)\n",
    "\n",
    "cnn = nn.Sequential(SumPool2d(kernel_size=(1, 1)),\n",
    "                    nn.Conv2d(in_channels=1,\n",
    "                              out_channels=2,\n",
    "                              kernel_size=(16, 16),\n",
    "                              stride=(1, 1),\n",
    "                              padding=(0, 0),\n",
    "                              bias=False),\n",
    "                    nn.ReLU())"
   ]
  },
  {
   "cell_type": "markdown",
   "metadata": {},
   "source": [
    "**assign the CNN layer with a handcraft weight**:\n",
    "\n",
    "The reason for designing the weights in this way is:\n",
    "\n",
    "1. We will create a bunch of fake input spikes $X[x_0, x_1, ...x_{T}]$ as the input of the devkit.\n",
    "2. for any input spike $x_{t}$ with timestamp $t$:\n",
    "\n",
    "- if $t$, if $t < 0.5 * T$, the $y$ coordinate of spike $x_t$ will be in range [0, 7], i.e. on the top-half of the input region.\n",
    "- if $t$, if $t > 0.5 * T$, the $y$ coordinate of spike $x_t$ will be in range [8, 15].i.e. on the bottom-half of the input region.\n",
    "\n",
    "3. Based on this\n",
    "- the output spike from time $0$ to $0.5 * T$ will all come from output channel #0\n",
    "- the output spike from time $0.5 * T$ to $T$ will all come from output channel #1\n",
    "\n",
    "![handcraft_weights](../_static/using_readout_layer/handcraft_weights.png)"
   ]
  },
  {
   "cell_type": "code",
   "execution_count": 4,
   "metadata": {},
   "outputs": [],
   "source": [
    "# set handcraft weights for the CNN\n",
    "weight_ones = torch.ones(1, 8, 16, dtype=torch.float32)\n",
    "weight_zeros = torch.zeros(1, 8, 16, dtype=torch.float32)\n",
    "\n",
    "channel_1_weight = torch.cat([weight_ones, weight_zeros], dim=1).unsqueeze(0)\n",
    "channel_2_weight = torch.cat([weight_zeros, weight_ones], dim=1).unsqueeze(0)\n",
    "handcraft_weight = torch.cat([channel_1_weight, channel_2_weight], dim=0)\n",
    "\n",
    "output_cnn_lyr_id = 1\n",
    "cnn[output_cnn_lyr_id].weight.data = handcraft_weight"
   ]
  },
  {
   "cell_type": "markdown",
   "metadata": {},
   "source": [
    "**Notice**\n",
    "\n",
    "Since for speck2e devkit there is wrong mapping relationship between the output channel index and the readout channel index. We need to define a function to remap the channel index."
   ]
  },
  {
   "cell_type": "code",
   "execution_count": 5,
   "metadata": {},
   "outputs": [],
   "source": [
    "def remapping_output_index(output_layer: Union[nn.Conv2d, nn.Linear]) -> Union[nn.Conv2d, nn.Linear]:\n",
    "\n",
    "    \"\"\"\n",
    "    Since the mapping of output channel's index from last cnn layer to the readout layer is not correct\n",
    "    for speck2e devkit.\n",
    "    We need to remap the index for the channel's index.\n",
    "    The mapping law is:\n",
    "    readout_layer_channel <--> cnn_layer_output_channel\n",
    "       0  <--> 0\n",
    "       1  <--> 4\n",
    "       x  <--> 4x\n",
    "          ...\n",
    "       14 <--> 56\n",
    "       Args:\n",
    "           output_layer: Usually we can use both nn.Linear and nn.Conv2d as the output computational layer of\n",
    "           a classifier. The shape of weights of those two different type layer are:\n",
    "           nn.Linear -> [output_channel, input_channel]\n",
    "           nn.Conv2d -> [output_channel, input_channel, *kernel_size]\n",
    "       Returns:\n",
    "           new_output_layer: mapped weight of last layer.\n",
    "    \"\"\"\n",
    "    weights = output_layer.weight.data\n",
    "\n",
    "    out_channel, input_channel, *rest_dims = weights.size()\n",
    "    new_out_channel = out_channel * 3 + 1\n",
    "\n",
    "    new_weights = torch.zeros(new_out_channel, input_channel, *rest_dims, dtype=weights.dtype, device=weights.device)\n",
    "\n",
    "    for channel_id in range(out_channel):\n",
    "        new_weights[channel_id * 4, :] = weights[channel_id, :]\n",
    "\n",
    "    output_layer.weight.data = new_weights\n",
    "    output_layer.out_channels = new_out_channel\n",
    "\n",
    "    return output_layer"
   ]
  },
  {
   "cell_type": "code",
   "execution_count": 6,
   "metadata": {},
   "outputs": [],
   "source": [
    "# remapping the output layer's \n",
    "cnn[output_cnn_lyr_id] = remapping_output_index(cnn[output_cnn_lyr_id])"
   ]
  },
  {
   "cell_type": "markdown",
   "metadata": {},
   "source": [
    "Then we convert the CNN into SNN and trying to deploy it to the devkit"
   ]
  },
  {
   "cell_type": "code",
   "execution_count": 7,
   "metadata": {},
   "outputs": [],
   "source": [
    "# cnn to snn\n",
    "snn = from_model(cnn, input_shape=input_shape, batch_size=1).spiking_model\n",
    "# snn to DynapcnnNetwork\n",
    "dynapcnn_net = DynapcnnNetwork(snn=snn, input_shape=input_shape, dvs_input=False)"
   ]
  },
  {
   "cell_type": "markdown",
   "metadata": {},
   "source": [
    "## Define an auxiliary class for devkit configuration and samna graph construction\n",
    "\n",
    "This class takes a DynapcnnNetwork object as init input. And it will generate the proper devkit config for the deployment.\n",
    "\n",
    "Then by calling the `run` method of this class we can:\n",
    "\n",
    "1. visualize the input from a GUI window\n",
    "2. get the output from the readout layer and DynapCNN layer both.\n",
    "\n",
    "### Notice\n",
    "\n",
    "**Make sure your devkit is plugged in your PC when running the experiment codes below**"
   ]
  },
  {
   "cell_type": "code",
   "execution_count": 8,
   "metadata": {},
   "outputs": [],
   "source": [
    "class DevkitAssistant:\n",
    "\n",
    "    def __init__(\n",
    "            self,\n",
    "            dynapcnn_net: DynapcnnNetwork,\n",
    "            readout_threshold: int,\n",
    "            slow_clk_freq: int):\n",
    "\n",
    "        \"\"\"\n",
    "        Args:\n",
    "            dynapcnn_net: a DynapcnnNetwork object\n",
    "            readout_threshold: readout layer's threshold\n",
    "            slow_clk_freq: the readout frequency. The readout layer is driven by a slow clock. By setting up the\n",
    "            frequency of the slow clock, we determine the readout frequency\n",
    "\n",
    "        \"\"\"\n",
    "\n",
    "        # generate configuration object for devkit\n",
    "        self.dynapcnn_net: DynapcnnNetwork = copy.deepcopy(dynapcnn_net)\n",
    "        self.devkit_cfg = self.dynapcnn_net.make_config(device=\"speck2edevkit:0\")\n",
    "        self.readout_threshold = readout_threshold\n",
    "\n",
    "        # open the Speck2eDevKit and get the devkit handle\n",
    "        self.devkit = samna.device.open_device(\"Speck2eDevKit:0\")\n",
    "\n",
    "        # get io module of the devkit\n",
    "        self.dk_io = self.devkit.get_io_module()\n",
    "        self.slow_clk_freq = slow_clk_freq\n",
    "        self.setup_slow_clock()\n",
    "\n",
    "        # init samna node for tcp transmission\n",
    "        samna_node = samna.init_samna()\n",
    "        self.sender_endpoint = samna_node.get_sender_endpoint()\n",
    "        self.receiver_endpoint = samna_node.get_receiver_endpoint()\n",
    "        self.streamer_endpoint = 'tcp://0.0.0.0:40000'  # this port is for dvs input data visualization\n",
    "        self.visualizer_id = 3\n",
    "        time.sleep(1)  # wait tcp connection build up, this is necessary to open remote node.\n",
    "\n",
    "        # build the samna graph\n",
    "        self.samna_graph, *buffer_nodes = self.build_samna_graph()\n",
    "        self.input_buffer, self.readout_value_buffer, self.pin_value_buffer, self.spike_buffer = buffer_nodes\n",
    "\n",
    "        # create & set up the visualizer\n",
    "        self.visualizer, self.gui_process = self.open_visualizer()\n",
    "        self.setup_visualizer()\n",
    "\n",
    "        # start graph\n",
    "        self.samna_graph.start()\n",
    "\n",
    "    def run(self, input_events: list, read_pin_value: bool):\n",
    "\n",
    "        \"\"\"\n",
    "        This function contains the main logic of using the readout layer:\n",
    "        1. reset devkits' stop-watch\n",
    "        2. write fake inputs into hardware\n",
    "        3. get output from both readout layer and cnn layer\n",
    "\n",
    "        Args:\n",
    "            input_events: a list contains the input\n",
    "            read_pin_value: choose to read ReadoutPinValue or ReadoutValue from readout layer\n",
    "        \"\"\"\n",
    "        # modify samna config\n",
    "        self.modify_devkit_cfg(read_pin_value=read_pin_value)\n",
    "        # apply devkit config to hardware\n",
    "        self.devkit.get_model().apply_configuration(self.devkit_cfg)\n",
    "        time.sleep(0.1)\n",
    "\n",
    "        # reset the stop-watch of devkit\n",
    "        stop_watch = self.devkit.get_stop_watch()\n",
    "        stop_watch.set_enable_value(True)\n",
    "        stop_watch.reset()\n",
    "        time.sleep(0.01)\n",
    "\n",
    "        # clear buffer\n",
    "        self.pin_value_buffer.get_events()\n",
    "        self.readout_value_buffer.get_events()\n",
    "        self.spike_buffer.get_events()\n",
    "\n",
    "        # write the input to devkit\n",
    "        input_time_length = (input_events[-1].timestamp - input_events[0].timestamp) / 1e6\n",
    "        self.input_buffer.write(input_events)\n",
    "        # sleep till all input events is sent and processed\n",
    "        time.sleep(input_time_length + 0.02)\n",
    "\n",
    "        # get spikes from cnn layer\n",
    "        spikes = self.spike_buffer.get_events()\n",
    "\n",
    "        # start readout\n",
    "        if read_pin_value:\n",
    "\n",
    "            output_events = self.get_pin_value()\n",
    "\n",
    "        else:\n",
    "\n",
    "            output_events = self.get_readout_value()\n",
    "\n",
    "        # return the output from readout layer and cnn layer both\n",
    "        return output_events, spikes\n",
    "\n",
    "    def modify_devkit_cfg(self, read_pin_value: bool):\n",
    "\n",
    "        \"\"\"\n",
    "        since we need to use the readout layer of Speck2e devkit. Some modifications need to be implemented\n",
    "        on the devkits' configuration\n",
    "\n",
    "        \"\"\"\n",
    "\n",
    "        \"\"\"cnn layers configuration\"\"\"\n",
    "        # send to output spike from cnn output layer to readout layer as its input\n",
    "        cnn_output_layer = self.dynapcnn_net.chip_layers_ordering[-1]\n",
    "        # the readout layer id is fixed for speck2e devkit which is 12\n",
    "        readout_layer = 12\n",
    "        print(f'link output layer: {cnn_output_layer} to readout layer: {readout_layer}')\n",
    "        self.devkit_cfg.cnn_layers[cnn_output_layer].monitor_enable = True\n",
    "        self.devkit_cfg.cnn_layers[cnn_output_layer].destinations[0].enable = True\n",
    "        self.devkit_cfg.cnn_layers[cnn_output_layer].destinations[0].layer = readout_layer\n",
    "\n",
    "        \"\"\"readout layer configuration\"\"\"\n",
    "        self.devkit_cfg.readout.enable = True\n",
    "        self.devkit_cfg.readout.readout_configuration_sel = 0b11\n",
    "        self.devkit_cfg.readout.output_mode_sel = 0b01\n",
    "        self.devkit_cfg.readout.low_pass_filter_disable = True\n",
    "        self.devkit_cfg.readout.threshold = self.readout_threshold\n",
    "\n",
    "        if read_pin_value:\n",
    "            # choose to read the PinValue\n",
    "            self.devkit_cfg.readout.monitor_enable = False\n",
    "            self.devkit_cfg.readout.readout_pin_monitor_enable = True\n",
    "        else:\n",
    "            # choose to read the ReadoutValue\n",
    "            # you can’t monitor any Spike events from CNN layers or the DVS sensor anymore.\n",
    "            self.devkit_cfg.readout.monitor_enable = True\n",
    "\n",
    "        \"\"\"dvs layer configuration\"\"\"\n",
    "        # link the dvs layer to the 1st layer of the cnn layers\n",
    "        self.devkit_cfg.dvs_layer.destinations[0].enable = True\n",
    "        self.devkit_cfg.dvs_layer.destinations[0].layer = self.dynapcnn_net.chip_layers_ordering[0]\n",
    "        # merge the polarity of input events\n",
    "        self.devkit_cfg.dvs_layer.merge = True\n",
    "        # drop the raw input events from the dvs sensor, since we write events to devkit manually\n",
    "        self.devkit_cfg.dvs_layer.pass_sensor_events = False\n",
    "        # enable monitoring the output from dvs pre-preprocessing layer\n",
    "        self.devkit_cfg.dvs_layer.monitor_enable = True\n",
    "\n",
    "        return\n",
    "\n",
    "    def build_samna_graph(self):\n",
    "\n",
    "        \"\"\"\n",
    "        samna graph defines how data the data read from the devkit flows.\n",
    "\n",
    "        \"\"\"\n",
    "\n",
    "        # init the graph\n",
    "        graph = samna.graph.EventFilterGraph()\n",
    "        # init necessary nodes\n",
    "        input_buffer_node = samna.BasicSourceNode_speck2e_event_speck2e_input_event()\n",
    "        readout_value_buffer_node = samna.BasicSinkNode_speck2e_event_output_event()\n",
    "        pin_value_buffer_node = samna.BasicSinkNode_speck2e_event_output_event()\n",
    "        spike_buffer_node = samna.BasicSinkNode_speck2e_event_output_event()\n",
    "\n",
    "        # build input branch for graph\n",
    "        graph.sequential([input_buffer_node, self.devkit.get_model_sink_node()])\n",
    "\n",
    "        # build output branches for graph\n",
    "        # branch #1: for the dvs input visualization\n",
    "        _, _, streamer = graph.sequential(\n",
    "            [self.devkit.get_model_source_node(), \"Speck2eDvsToVizConverter\", \"VizEventStreamer\"])\n",
    "        # branch #2: for obtaining the ReadoutValue\n",
    "        _, type_filter_node_readout, _ = graph.sequential(\n",
    "            [self.devkit.get_model_source_node(), \"Speck2eOutputEventTypeFilter\", readout_value_buffer_node])\n",
    "        # branch #3: for obtaining the ReadoutPinValue\n",
    "        _, type_filter_node_pin, _ = graph.sequential(\n",
    "            [self.devkit.get_model_source_node(), \"Speck2eOutputEventTypeFilter\", pin_value_buffer_node])\n",
    "        # branch #4: for obtaining the output Spike from cnn output layer\n",
    "        _, type_filter_node_spike, _ = graph.sequential(\n",
    "            [self.devkit.get_model_source_node(), \"Speck2eOutputEventTypeFilter\", spike_buffer_node])\n",
    "\n",
    "        # set the filter nodes of the graph\n",
    "        streamer.set_streamer_endpoint(self.streamer_endpoint)\n",
    "        type_filter_node_readout.set_desired_type(\"speck2e::event::ReadoutValue\")\n",
    "        type_filter_node_pin.set_desired_type(\"speck2e::event::ReadoutPinValue\")\n",
    "        type_filter_node_spike.set_desired_type(\"speck2e::event::Spike\")\n",
    "\n",
    "        return graph, input_buffer_node, readout_value_buffer_node, pin_value_buffer_node, spike_buffer_node\n",
    "\n",
    "    def run_visualizer_process(self, receiver_endpoint, sender_endpoint):\n",
    "\n",
    "        import samnagui\n",
    "        samnagui.runVisualizer(0.6, 0.6, receiver_endpoint, sender_endpoint, self.visualizer_id)\n",
    "\n",
    "        return\n",
    "\n",
    "    def open_visualizer(self):\n",
    "\n",
    "        \"\"\"\n",
    "        create a sub-process for running the visualizer window\n",
    "\n",
    "        \"\"\"\n",
    "\n",
    "        gui_process = Process(target=self.run_visualizer_process, args=(self.receiver_endpoint, self.sender_endpoint))\n",
    "        gui_process.start()\n",
    "\n",
    "        # wait for open visualizer and connect to it.\n",
    "        timeout = 10\n",
    "        begin = time.time()\n",
    "        name = \"visualizer\" + str(self.visualizer_id)\n",
    "        while time.time() - begin < timeout:\n",
    "\n",
    "            try:\n",
    "\n",
    "                time.sleep(0.05)\n",
    "                samna.open_remote_node(self.visualizer_id, name)\n",
    "\n",
    "            except:\n",
    "\n",
    "                continue\n",
    "\n",
    "            else:\n",
    "\n",
    "                visualizer = getattr(samna, name)\n",
    "\n",
    "                return visualizer, gui_process\n",
    "\n",
    "        raise Exception(\"open_remote_node failed:\"\n",
    "                        \"  visualizer id %d can't be opened in %d seconds!!\" % (self.visualizer_id, timeout))\n",
    "\n",
    "    def setup_visualizer(self):\n",
    "\n",
    "        \"\"\"\n",
    "        set the visualizer and related GUI\n",
    "\n",
    "        \"\"\"\n",
    "\n",
    "        # set visualizer's receiver endpoint to streamer's sender endpoint\n",
    "        self.visualizer.receiver.set_receiver_endpoint(self.streamer_endpoint)\n",
    "        # connect the receiver output to splitter inside the visualizer\n",
    "        self.visualizer.receiver.add_destination(self.visualizer.splitter.get_input_channel())\n",
    "\n",
    "        # add plots to gui\n",
    "        activity_plot_id = self.visualizer.plots.add_activity_plot(128, 128, \"DVS Layer\")\n",
    "        plot = self.visualizer.plot_0\n",
    "        plot.set_layout(0, 0, 0.5, 0.89)\n",
    "\n",
    "        self.visualizer.splitter.add_destination(\"dvs_event\", self.visualizer.plots.get_plot_input(activity_plot_id))\n",
    "        self.visualizer.plots.report()\n",
    "\n",
    "        return\n",
    "\n",
    "    def get_pin_value(self):\n",
    "\n",
    "        events = self.pin_value_buffer.get_events()\n",
    "\n",
    "        return events\n",
    "\n",
    "    def get_readout_value(self):\n",
    "\n",
    "        events = self.readout_value_buffer.get_events()\n",
    "\n",
    "        return events\n",
    "\n",
    "    def setup_slow_clock(self):\n",
    "\n",
    "        \"\"\"\n",
    "        Set the slow-clock rate which driven the readout layer\n",
    "        \"\"\"\n",
    "\n",
    "        self.dk_io.set_slow_clk_rate(self.slow_clk_freq)  # Hz\n",
    "        self.dk_io.set_slow_clk(True)\n",
    "\n",
    "        return"
   ]
  },
  {
   "cell_type": "markdown",
   "metadata": {},
   "source": [
    "## Create fake input for devkit"
   ]
  },
  {
   "cell_type": "code",
   "execution_count": 9,
   "metadata": {},
   "outputs": [],
   "source": [
    "def create_fake_input_events(time_sec: int, data_rate: int = 1000):\n",
    "\n",
    "    \"\"\"\n",
    "    Args:\n",
    "        time_sec: how long is the input events\n",
    "        data_rate: how many input events generated in 1 second\n",
    "\n",
    "        During the first half time, it generates events where y coordinate only in range[0, 7] which means top half\n",
    "        region of the input feature map.\n",
    "\n",
    "        Then in the last half of time, it generates events where y coordinate only in range[8, 15] which means bottom\n",
    "        half region of the input feature map.\n",
    "\n",
    "    \"\"\"\n",
    "\n",
    "    time_offset_micro_sec = 5000  # make the timestamp start from 5000\n",
    "    time_micro_sec = time_sec * 1000000  # timestamp unit is micro-second\n",
    "    time_stride = 1000000 // data_rate\n",
    "\n",
    "    half_time = time_micro_sec // 2\n",
    "\n",
    "    events = []\n",
    "    for time_stamp in range(time_offset_micro_sec, time_micro_sec + time_offset_micro_sec + 1, time_stride):\n",
    "\n",
    "        spk = samna.speck2e.event.DvsEvent()\n",
    "        spk.timestamp = time_stamp\n",
    "        spk.p = random.randint(0, 1)\n",
    "        spk.x = random.randint(0, 15)\n",
    "\n",
    "        if time_stamp < half_time:\n",
    "            spk.y = random.randint(0, 7)  # spike located in top half of the input region\n",
    "        else:\n",
    "            spk.y = random.randint(8, 15)  # spike located in bottom half of the input region\n",
    "\n",
    "        events.append(spk)\n",
    "\n",
    "    return events"
   ]
  },
  {
   "cell_type": "code",
   "execution_count": 10,
   "metadata": {},
   "outputs": [
    {
     "name": "stdout",
     "output_type": "stream",
     "text": [
      "number of fake input spikes: 15001\n"
     ]
    }
   ],
   "source": [
    "# create fake input events\n",
    "input_time_length = 3 # seconds\n",
    "data_rate = 5000\n",
    "input_events = create_fake_input_events(time_sec=3, data_rate=data_rate)\n",
    "\n",
    "print(f\"number of fake input spikes: {len(input_events)}\")"
   ]
  },
  {
   "cell_type": "code",
   "execution_count": 11,
   "metadata": {},
   "outputs": [
    {
     "name": "stdout",
     "output_type": "stream",
     "text": [
      "Network is valid\n",
      "sender_endpoint: tcp://0.0.0.0:56685\n",
      "receiver_endpoint: tcp://0.0.0.0:37573\n"
     ]
    }
   ],
   "source": [
    "# init the devkit assistant\n",
    "\n",
    "# we create 2 assistant:\n",
    "#one for read the ReadoutPinValue of the devkit\n",
    "readout_threshold = 1\n",
    "slow_clk_freq = 20 # Hz\n",
    "\n",
    "# estimated slow-clock cycle for processing the input spikes\n",
    "clock_cycles_esitmated = slow_clk_freq * input_time_length\n",
    "\n",
    "# by init the devkit assistant, it also opens the devkit, visualization GUI window\n",
    "devkit_assistant = DevkitAssistant(dynapcnn_net,\n",
    "                                   readout_threshold=readout_threshold,\n",
    "                                   slow_clk_freq=slow_clk_freq)"
   ]
  },
  {
   "cell_type": "markdown",
   "metadata": {},
   "source": [
    "## two different types of output events from readout layer\n",
    "\n",
    "There two different types of events can be obtained from the readout layer:\n",
    "\n",
    "1.[**ReadoutPinValue**](https://synsense-sys-int.gitlab.io/samna/reference/speck2e/event/index.html?highlight=pinvalue#samna.speck2e.event.ReadoutPinValue). \n",
    "\n",
    "It is generated only when the input spikes to one of the readout layer channel achieves the threshold of the readout layer during one slow-clock cycle. i.e. it is possible that ReadoutPinValue will not be generated at every slow-clock cycle.\n",
    "\n",
    "It has an attribute named `index` which represents the neuron index with the max average input spikes.\n",
    "\n",
    "2.[**ReadoutValue**](https://synsense-sys-int.gitlab.io/samna/reference/speck2e/event/index.html?highlight=readoutvalue#samna.speck2e.event.ReadoutValue) \n",
    "\n",
    "It is generated at every slock-clock cycle.\n",
    "\n",
    "It has an attribute named `value`. It is a number with 21 bits. But setting up different [`output_mod_sel`](https://synsense-sys-int.gitlab.io/samna/reference/speck2e/configuration/index.html?highlight=output_mode_sel#samna.speck2e.configuration.ReadoutConfig.output_mode_sel) this number could have different meaning.\n",
    "\n",
    "\n",
    "|output_mode_sel  |bit[20]     |bit[19:16]                   |bit[15:0]                            |\n",
    "|:-               |:-          |:-                           |:-                                   |\n",
    "|0b00             | data valid | neuron index of max average |power down (clock gating)            |\n",
    "|0b01             | data valid | neuron index of max average |threshold compare output             |\n",
    "|0b10             | data valid | neuron index of max average |average output of the selected neuron|\n",
    "|0b11             | data valid | neuron index of max average |average output of max spiking neuron |\n",
    "\n",
    "\n",
    "In this experiment we use the mode: `0b01`\n",
    "\n"
   ]
  },
  {
   "cell_type": "markdown",
   "metadata": {},
   "source": [
    "### read the ReadoutPinValue"
   ]
  },
  {
   "cell_type": "code",
   "execution_count": 12,
   "metadata": {},
   "outputs": [
    {
     "name": "stdout",
     "output_type": "stream",
     "text": [
      "link output layer: 0 to readout layer: 12\n",
      "The estimated clock cycle is 60\n",
      "Number of ReadoutPinValue events: 60\n"
     ]
    },
    {
     "data": {
      "text/plain": [
       "Text(0.5, 1.0, 'ReadoutPinValue')"
      ]
     },
     "execution_count": 12,
     "metadata": {},
     "output_type": "execute_result"
    },
    {
     "data": {
      "image/png": "[encoded data removed]",
      "text/plain": [
       "<Figure size 432x288 with 1 Axes>"
      ]
     },
     "metadata": {
      "needs_background": "light"
     },
     "output_type": "display_data"
    }
   ],
   "source": [
    "pin_value_events, dynapcnn_layer_events = devkit_assistant.run(input_events, read_pin_value=True)\n",
    "\n",
    "\n",
    "# the number of the ReadoutPinValue should be very close to (or the same as) the estimated clock cycle.\n",
    "print(f\"The estimated clock cycle is {clock_cycles_esitmated}\")\n",
    "print(f\"Number of ReadoutPinValue events: {len(pin_value_events)}\")\n",
    "\n",
    "# get the timestamp of the output event\n",
    "pin_value_timestamp = [each.timestamp for each in pin_value_events]\n",
    "# shift timestep starting from 0\n",
    "start_t = pin_value_timestamp[0]\n",
    "pin_value_timestamp = [each - start_t for each in pin_value_timestamp]\n",
    "\n",
    "# get the index of the output neuron with maximum output\n",
    "neuron_id = [each.index for each in pin_value_events]\n",
    "\n",
    "# plot the output neuron index vs. time\n",
    "fig, ax = plt.subplots()\n",
    "ax.scatter(pin_value_timestamp, neuron_id)\n",
    "ax.set(xlim=(0, 3e6),ylim=(0, 2.5))\n",
    "ax.set_xlabel(\"time( micro sec)\")\n",
    "ax.set_ylabel(\"neuron index\")\n",
    "ax.set_title(\"ReadoutPinValue\")"
   ]
  },
  {
   "cell_type": "markdown",
   "metadata": {},
   "source": [
    "### read the ReadoutValue\n",
    "You cannot  visualize the input under this configuration "
   ]
  },
  {
   "cell_type": "code",
   "execution_count": 13,
   "metadata": {},
   "outputs": [
    {
     "name": "stdout",
     "output_type": "stream",
     "text": [
      "link output layer: 0 to readout layer: 12\n",
      "The estimated clock cycle is 60\n",
      "Number of ReadoutValue events: 61\n"
     ]
    },
    {
     "data": {
      "text/plain": [
       "Text(0.5, 1.0, 'ReadoutValue')"
      ]
     },
     "execution_count": 13,
     "metadata": {},
     "output_type": "execute_result"
    },
    {
     "data": {
      "image/png": "[encoded data removed]",
      "text/plain": [
       "<Figure size 432x288 with 1 Axes>"
      ]
     },
     "metadata": {
      "needs_background": "light"
     },
     "output_type": "display_data"
    }
   ],
   "source": [
    "readout_value_events, _ = devkit_assistant.run(input_events, read_pin_value=False)\n",
    "\n",
    "\n",
    "# the number of the ReadoutValue should be very close to (or the same as) the estimated clock cycle.\n",
    "print(f\"The estimated clock cycle is {clock_cycles_esitmated}\")\n",
    "print(f\"Number of ReadoutValue events: {len(readout_value_events)}\")\n",
    "\n",
    "# the ReadoutValue event don't have a timestamp, but we know it is generated at every slow-clock cycle\n",
    "time_each_clock_cycle = 1e6 / slow_clk_freq\n",
    "readout_value_timestamp = [idx * time_each_clock_cycle for idx in range(len(readout_value_events))]\n",
    "\n",
    "# shift timestep starting from 0\n",
    "start_t = readout_value_timestamp[0]\n",
    "readout_value_timestamp = [each - start_t for each in readout_value_timestamp]\n",
    "\n",
    "# get the index of the output neuron with maximum output\n",
    "neuron_id = [(each.value & 0x0F0000) >> 16  for each in readout_value_events]\n",
    "\n",
    "# plot the output neuron index vs. time\n",
    "fig, ax = plt.subplots()\n",
    "ax.scatter(readout_value_timestamp, neuron_id)\n",
    "ax.set(xlim=(0, 3e6),ylim=(0, 2.5))\n",
    "ax.set_xlabel(\"time( micro sec)\")\n",
    "ax.set_ylabel(\"neuron index\")\n",
    "ax.set_title(\"ReadoutValue\")"
   ]
  },
  {
   "cell_type": "markdown",
   "metadata": {},
   "source": [
    "### check the output from DynapCNN Layer"
   ]
  },
  {
   "cell_type": "code",
   "execution_count": 14,
   "metadata": {},
   "outputs": [
    {
     "name": "stdout",
     "output_type": "stream",
     "text": [
      "number of output spikes from DynacpCNN Layer: 15000\n"
     ]
    },
    {
     "data": {
      "text/plain": [
       "Text(0.5, 1.0, 'Spike')"
      ]
     },
     "execution_count": 14,
     "metadata": {},
     "output_type": "execute_result"
    },
    {
     "data": {
      "image/png": "[encoded data removed]",
      "text/plain": [
       "<Figure size 432x288 with 1 Axes>"
      ]
     },
     "metadata": {
      "needs_background": "light"
     },
     "output_type": "display_data"
    }
   ],
   "source": [
    "print(f\"number of output spikes from DynacpCNN Layer: {len(dynapcnn_layer_events)}\")\n",
    "\n",
    "# get the timestamp of the output event\n",
    "spike_timestamp = [each.timestamp for each in dynapcnn_layer_events]\n",
    "# shift timestep starting from 0\n",
    "start_t = spike_timestamp[0]\n",
    "spike_timestamp = [each - start_t for each in spike_timestamp]\n",
    "\n",
    "# get the neuron index of each output spike \n",
    "neuron_id = [each.feature  for each in dynapcnn_layer_events]\n",
    "\n",
    "\n",
    "# plot the output neuron index vs. time\n",
    "fig, ax = plt.subplots()\n",
    "ax.scatter(spike_timestamp, neuron_id)\n",
    "ax.set(xlim=(0, 3e6),ylim=(-0.5, 4.5))\n",
    "ax.set_xlabel(\"time( micro sec)\")\n",
    "ax.set_ylabel(\"neuron index\")\n",
    "ax.set_title(\"Spike\")\n",
    "\n",
    "# we should see the neuron index are 0 and 4, because of the incorrect map relationship on speck2e devkit"
   ]
  },
  {
   "cell_type": "code",
   "execution_count": null,
   "metadata": {},
   "outputs": [],
   "source": []
  }
 ],
 "metadata": {
  "kernelspec": {
   "display_name": "Python 3",
   "language": "python",
   "name": "python3"
  },
  "language_info": {
   "codemirror_mode": {
    "name": "ipython",
    "version": 3
   },
   "file_extension": ".py",
   "mimetype": "text/x-python",
   "name": "python",
   "nbconvert_exporter": "python",
   "pygments_lexer": "ipython3",
   "version": "3.6.9"
  }
 },
 "nbformat": 4,
 "nbformat_minor": 1
}
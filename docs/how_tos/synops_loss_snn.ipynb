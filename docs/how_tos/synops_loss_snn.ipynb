{
 "cells": [
  {
   "cell_type": "markdown",
   "metadata": {},
   "source": [
    "# Training an SNN with fewer SynOps\n",
    "In the previous tutorial we saw how we can train an ANN with a low number of synaptic operations (SynOps). The same can be done when training an SNN directly. Let's start by defining a spiking model. "
   ]
  },
  {
   "cell_type": "code",
   "execution_count": 1,
   "metadata": {},
   "outputs": [],
   "source": [
    "import torch\n",
    "import torch.nn as nn\n",
    "import sinabs\n",
    "import sinabs.layers as sl\n",
    "\n",
    "# Seed for reproducibility\n",
    "torch.manual_seed(1)\n",
    "\n",
    "class SNN(nn.Sequential):\n",
    "    def __init__(self, batch_size):\n",
    "        super().__init__(\n",
    "            sl.FlattenTime(),\n",
    "            nn.Conv2d(1, 16, 5, bias=False),\n",
    "            sl.IAFSqueeze(batch_size=batch_size),\n",
    "            sl.SumPool2d(2),\n",
    "            nn.Conv2d(16, 32, 5, bias=False),\n",
    "            sl.IAFSqueeze(batch_size=batch_size),\n",
    "            sl.SumPool2d(2),\n",
    "            nn.Conv2d(32, 120, 4, bias=False),\n",
    "            sl.IAFSqueeze(batch_size=batch_size),\n",
    "            nn.Flatten(),\n",
    "            nn.Linear(120, 10, bias=False),\n",
    "            sl.IAFSqueeze(batch_size=batch_size),\n",
    "            sl.UnflattenTime(batch_size=batch_size),\n",
    "        )\n",
    "\n",
    "batch_size = 5\n",
    "snn = SNN(batch_size=batch_size)"
   ]
  },
  {
   "cell_type": "markdown",
   "metadata": {},
   "source": [
    "Let's make our SNN track how many synaptic operations it generates during a single sample. We can use the same function as in the previous tutorial to set up the corresponding hooks."
   ]
  },
  {
   "cell_type": "code",
   "execution_count": 2,
   "metadata": {},
   "outputs": [
    {
     "name": "stdout",
     "output_type": "stream",
     "text": [
      "Synops after feeding input:\n",
      "Total: 1.22e+06 SynOps per step\n"
     ]
    }
   ],
   "source": [
    "from sinabs.hooks import register_synops_hooks\n",
    "\n",
    "# Register the hooks with our ANN\n",
    "register_synops_hooks(snn)\n",
    "\n",
    "# Forward pass to record the number of synaptic operations\n",
    "rand_input_spikes = (torch.ones((batch_size, 10, 1, 28, 28)) ).float()\n",
    "snn(rand_input_spikes)\n",
    "\n",
    "print(\"Synops after feeding input:\")\n",
    "print(f\"Total: {snn.hook_data['total_synops_per_timestep']:.2e} SynOps per step\")"
   ]
  },
  {
   "cell_type": "markdown",
   "metadata": {},
   "source": [
    "You can also break down the statistics for each convolutional or linear layer."
   ]
  },
  {
   "cell_type": "code",
   "execution_count": 3,
   "metadata": {},
   "outputs": [
    {
     "name": "stdout",
     "output_type": "stream",
     "text": [
      "Per layer:\n",
      "- Layer 1: 2.30e+05 SynOps per step\n",
      "- Layer 4: 9.01e+05 SynOps per step\n",
      "- Layer 7: 8.83e+04 SynOps per step\n",
      "- Layer 10: 7.31e+02 SynOps per step\n"
     ]
    }
   ],
   "source": [
    "print(\"Per layer:\")\n",
    "for layer_idx, synops in snn.hook_data['synops_per_timestep'].items():\n",
    "    print(f\"- Layer {layer_idx}: {synops:.2e} SynOps per step\")"
   ]
  },
  {
   "cell_type": "markdown",
   "metadata": {},
   "source": [
    "Once we can calculate the total number of synaptic operations, we might want to choose a target SynOps number as part of our objective function. This time, let's optimize each layer individually, rather than their sum. We will set a target of 500'000 operations per layer."
   ]
  },
  {
   "cell_type": "code",
   "execution_count": 4,
   "metadata": {},
   "outputs": [],
   "source": [
    "# Helper functions to calculate the SynOp loss for each layer\n",
    "\n",
    "def get_synops_squared_error(synops, target_synops):\n",
    "    \"\"\" Loss term for individual layer:\n",
    "    Squared error on anything above the target\n",
    "    \"\"\"\n",
    "    # Use ReLU so that only values above taret are punished\n",
    "    above_target = nn.functional.relu(synops - target_synops)\n",
    "    # Return squared error\n",
    "    return above_target**2\n",
    "    \n",
    "def get_synops_loss(snn, target_synops):\n",
    "    \"\"\" Sum of synop losses of individual layers\"\"\"\n",
    "    loss = sum(\n",
    "        get_synops_squared_error(synops, target_synops)\n",
    "        for synops in snn.hook_data[\"synops_per_timestep\"].values()\n",
    "    )\n",
    "    return loss        "
   ]
  },
  {
   "cell_type": "code",
   "execution_count": 5,
   "metadata": {},
   "outputs": [],
   "source": [
    "# Choose the target number of operations\n",
    "target_synops = 1e5\n",
    "synops_loss_weight = 1e-0\n",
    "\n",
    "optim = torch.optim.Adam(snn.parameters(), lr=1e-3)\n",
    "\n",
    "synops_per_layer = {idx: [] for idx in (1, 4, 7, 10)}\n",
    "for epoch in range(100):\n",
    "    sinabs.reset_states(snn)\n",
    "    sinabs.zero_grad(snn)\n",
    "    optim.zero_grad()\n",
    "    \n",
    "    snn(rand_input_spikes)\n",
    "    \n",
    "    synop_loss = synops_loss_weight * get_synops_loss(snn, target_synops)\n",
    "    synop_loss.backward()\n",
    "    optim.step()\n",
    "    for idx, synops in snn.hook_data[\"synops_per_timestep\"].items():\n",
    "        synops_per_layer[idx].append(synops.item())"
   ]
  },
  {
   "cell_type": "code",
   "execution_count": 6,
   "metadata": {},
   "outputs": [
    {
     "data": {
      "text/plain": [
       "Text(0.5, 1.0, 'SynOps during training')"
      ]
     },
     "execution_count": 6,
     "metadata": {},
     "output_type": "execute_result"
    },
    {
     "data": {
      "image/png": "[encoded data removed]",
      "text/plain": [
       "<Figure size 432x288 with 1 Axes>"
      ]
     },
     "metadata": {
      "needs_background": "light"
     },
     "output_type": "display_data"
    }
   ],
   "source": [
    "import matplotlib.pyplot as plt\n",
    "\n",
    "fig, ax = plt.subplots()\n",
    "\n",
    "for idx, synops in synops_per_layer.items():\n",
    "    ax.plot(synops, label=f\"Layer {idx}\")\n",
    "ax.axhline(y=target_synops, color='black', label=\"Target synops\")\n",
    "ax.set_ylabel(\"Mean synaptic operations per step\")\n",
    "ax.legend()\n",
    "plt.title(\"SynOps during training\")"
   ]
  },
  {
   "cell_type": "markdown",
   "metadata": {},
   "source": [
    "We can see that the network quickly optimizes for the target number of synaptic operations. The synaptic operations for Layer 1 don't change because they depend entirely on the input and the shape of the layer, neither of which changes during training. SynOps for Layers 7 and 10 also decrease, even though they are already below the target. This is likely because the preceding Layer 4 is less active and our objective function is constant for SynOps values below the target."
   ]
  }
 ],
 "metadata": {
  "kernelspec": {
   "display_name": "Python 3 (ipykernel)",
   "language": "python",
   "name": "python3"
  },
  "language_info": {
   "codemirror_mode": {
    "name": "ipython",
    "version": 3
   },
   "file_extension": ".py",
   "mimetype": "text/x-python",
   "name": "python",
   "nbconvert_exporter": "python",
   "pygments_lexer": "ipython3",
   "version": "3.8.10"
  },
  "vscode": {
   "interpreter": {
    "hash": "3c00e5e7c7a569083cb991dfa106f557879cc0d1d84bf5b9d92fbb6bf680d358"
   }
  }
 },
 "nbformat": 4,
 "nbformat_minor": 4
}
